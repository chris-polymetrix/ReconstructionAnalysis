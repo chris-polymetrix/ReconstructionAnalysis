{
 "cells": [
  {
   "cell_type": "code",
   "execution_count": 43,
   "metadata": {},
   "outputs": [],
   "source": [
    "import numpy as np\n",
    "from pathlib import Path\n",
    "import json\n",
    "from scipy.spatial.transform import Rotation\n",
    "from copy import deepcopy\n",
    "from tqdm import tqdm\n",
    "\n",
    "with open(Path(\"data/frames_oct_16/translation_matricies.json\"), \"r\") as f:\n",
    "    data = json.load(f)"
   ]
  },
  {
   "cell_type": "code",
   "execution_count": 44,
   "metadata": {},
   "outputs": [
    {
     "data": {
      "text/plain": [
       "34"
      ]
     },
     "execution_count": 44,
     "metadata": {},
     "output_type": "execute_result"
    }
   ],
   "source": [
    "mats = [np.array(list(obj.values())[0]) for obj in data]\n",
    "len(mats)"
   ]
  },
  {
   "cell_type": "code",
   "execution_count": 45,
   "metadata": {},
   "outputs": [],
   "source": [
    "params = []\n",
    "\n",
    "for i, mat in enumerate(mats):\n",
    "    rot = Rotation.from_matrix(mat[:3, :3])\n",
    "    param_vec = np.zeros(6)\n",
    "    param_vec[:3] = mat[:3, -1]\n",
    "    param_vec[3:] = rot.as_euler(\"ZYX\")\n",
    "    params.append(param_vec)"
   ]
  },
  {
   "cell_type": "code",
   "execution_count": 46,
   "metadata": {},
   "outputs": [
    {
     "name": "stdout",
     "output_type": "stream",
     "text": [
      "0 data\\frames_oct_16\\data\\frame_000.json\n"
     ]
    },
    {
     "name": "stderr",
     "output_type": "stream",
     "text": [
      "100%|██████████| 187535/187535 [00:02<00:00, 63478.91it/s]\n"
     ]
    },
    {
     "name": "stdout",
     "output_type": "stream",
     "text": [
      "1 data\\frames_oct_16\\data\\frame_001.json\n"
     ]
    },
    {
     "name": "stderr",
     "output_type": "stream",
     "text": [
      "100%|██████████| 190428/190428 [00:02<00:00, 67755.19it/s]\n"
     ]
    },
    {
     "name": "stdout",
     "output_type": "stream",
     "text": [
      "2 data\\frames_oct_16\\data\\frame_002.json\n"
     ]
    },
    {
     "name": "stderr",
     "output_type": "stream",
     "text": [
      "100%|██████████| 184125/184125 [00:02<00:00, 67054.69it/s]\n"
     ]
    },
    {
     "name": "stdout",
     "output_type": "stream",
     "text": [
      "3 data\\frames_oct_16\\data\\frame_003.json\n"
     ]
    },
    {
     "name": "stderr",
     "output_type": "stream",
     "text": [
      "100%|██████████| 193600/193600 [00:03<00:00, 63764.42it/s]\n"
     ]
    },
    {
     "name": "stdout",
     "output_type": "stream",
     "text": [
      "4 data\\frames_oct_16\\data\\frame_004.json\n"
     ]
    },
    {
     "name": "stderr",
     "output_type": "stream",
     "text": [
      "100%|██████████| 191173/191173 [00:02<00:00, 67303.54it/s]\n"
     ]
    },
    {
     "name": "stdout",
     "output_type": "stream",
     "text": [
      "5 data\\frames_oct_16\\data\\frame_005.json\n"
     ]
    },
    {
     "name": "stderr",
     "output_type": "stream",
     "text": [
      "100%|██████████| 192716/192716 [00:03<00:00, 62755.21it/s]\n"
     ]
    },
    {
     "name": "stdout",
     "output_type": "stream",
     "text": [
      "6 data\\frames_oct_16\\data\\frame_006.json\n"
     ]
    },
    {
     "name": "stderr",
     "output_type": "stream",
     "text": [
      "100%|██████████| 188400/188400 [00:02<00:00, 67697.23it/s]\n"
     ]
    },
    {
     "name": "stdout",
     "output_type": "stream",
     "text": [
      "7 data\\frames_oct_16\\data\\frame_007.json\n"
     ]
    },
    {
     "name": "stderr",
     "output_type": "stream",
     "text": [
      "100%|██████████| 185260/185260 [00:02<00:00, 67231.59it/s]\n"
     ]
    },
    {
     "name": "stdout",
     "output_type": "stream",
     "text": [
      "8 data\\frames_oct_16\\data\\frame_008.json\n"
     ]
    },
    {
     "name": "stderr",
     "output_type": "stream",
     "text": [
      "100%|██████████| 186619/186619 [00:02<00:00, 62362.73it/s]\n"
     ]
    },
    {
     "name": "stdout",
     "output_type": "stream",
     "text": [
      "9 data\\frames_oct_16\\data\\frame_009.json\n"
     ]
    },
    {
     "name": "stderr",
     "output_type": "stream",
     "text": [
      "100%|██████████| 188328/188328 [00:02<00:00, 68060.84it/s]\n"
     ]
    },
    {
     "name": "stdout",
     "output_type": "stream",
     "text": [
      "10 data\\frames_oct_16\\data\\frame_010.json\n"
     ]
    },
    {
     "name": "stderr",
     "output_type": "stream",
     "text": [
      "100%|██████████| 184449/184449 [00:02<00:00, 67449.78it/s]\n"
     ]
    },
    {
     "name": "stdout",
     "output_type": "stream",
     "text": [
      "11 data\\frames_oct_16\\data\\frame_011.json\n"
     ]
    },
    {
     "name": "stderr",
     "output_type": "stream",
     "text": [
      "100%|██████████| 176607/176607 [00:02<00:00, 67668.75it/s]\n"
     ]
    },
    {
     "name": "stdout",
     "output_type": "stream",
     "text": [
      "12 data\\frames_oct_16\\data\\frame_012.json\n"
     ]
    },
    {
     "name": "stderr",
     "output_type": "stream",
     "text": [
      "100%|██████████| 167142/167142 [00:02<00:00, 66988.99it/s]\n"
     ]
    },
    {
     "name": "stdout",
     "output_type": "stream",
     "text": [
      "13 data\\frames_oct_16\\data\\frame_013.json\n"
     ]
    },
    {
     "name": "stderr",
     "output_type": "stream",
     "text": [
      "100%|██████████| 162617/162617 [00:02<00:00, 61147.77it/s]\n"
     ]
    },
    {
     "name": "stdout",
     "output_type": "stream",
     "text": [
      "14 data\\frames_oct_16\\data\\frame_014.json\n"
     ]
    },
    {
     "name": "stderr",
     "output_type": "stream",
     "text": [
      "100%|██████████| 159105/159105 [00:02<00:00, 67964.84it/s]\n"
     ]
    },
    {
     "name": "stdout",
     "output_type": "stream",
     "text": [
      "15 data\\frames_oct_16\\data\\frame_015.json\n"
     ]
    },
    {
     "name": "stderr",
     "output_type": "stream",
     "text": [
      "100%|██████████| 154418/154418 [00:02<00:00, 66426.32it/s]\n"
     ]
    },
    {
     "name": "stdout",
     "output_type": "stream",
     "text": [
      "16 data\\frames_oct_16\\data\\frame_016.json\n"
     ]
    },
    {
     "name": "stderr",
     "output_type": "stream",
     "text": [
      "100%|██████████| 145750/145750 [00:02<00:00, 67453.84it/s]\n"
     ]
    },
    {
     "name": "stdout",
     "output_type": "stream",
     "text": [
      "17 data\\frames_oct_16\\data\\frame_017.json\n"
     ]
    },
    {
     "name": "stderr",
     "output_type": "stream",
     "text": [
      "100%|██████████| 154861/154861 [00:02<00:00, 62298.44it/s]\n"
     ]
    },
    {
     "name": "stdout",
     "output_type": "stream",
     "text": [
      "18 data\\frames_oct_16\\data\\frame_018.json\n"
     ]
    },
    {
     "name": "stderr",
     "output_type": "stream",
     "text": [
      "100%|██████████| 153984/153984 [00:02<00:00, 66242.30it/s]\n"
     ]
    },
    {
     "name": "stdout",
     "output_type": "stream",
     "text": [
      "19 data\\frames_oct_16\\data\\frame_019.json\n"
     ]
    },
    {
     "name": "stderr",
     "output_type": "stream",
     "text": [
      "100%|██████████| 154273/154273 [00:02<00:00, 66737.29it/s]\n"
     ]
    },
    {
     "name": "stdout",
     "output_type": "stream",
     "text": [
      "20 data\\frames_oct_16\\data\\frame_020.json\n"
     ]
    },
    {
     "name": "stderr",
     "output_type": "stream",
     "text": [
      "100%|██████████| 153640/153640 [00:02<00:00, 61748.71it/s]\n"
     ]
    },
    {
     "name": "stdout",
     "output_type": "stream",
     "text": [
      "21 data\\frames_oct_16\\data\\frame_021.json\n"
     ]
    },
    {
     "name": "stderr",
     "output_type": "stream",
     "text": [
      "100%|██████████| 151860/151860 [00:02<00:00, 60584.18it/s]\n"
     ]
    },
    {
     "name": "stdout",
     "output_type": "stream",
     "text": [
      "22 data\\frames_oct_16\\data\\frame_022.json\n"
     ]
    },
    {
     "name": "stderr",
     "output_type": "stream",
     "text": [
      "100%|██████████| 148961/148961 [00:02<00:00, 66500.04it/s]\n"
     ]
    },
    {
     "name": "stdout",
     "output_type": "stream",
     "text": [
      "23 data\\frames_oct_16\\data\\frame_023.json\n"
     ]
    },
    {
     "name": "stderr",
     "output_type": "stream",
     "text": [
      "100%|██████████| 154394/154394 [00:02<00:00, 62614.21it/s]\n"
     ]
    },
    {
     "name": "stdout",
     "output_type": "stream",
     "text": [
      "24 data\\frames_oct_16\\data\\frame_024.json\n"
     ]
    },
    {
     "name": "stderr",
     "output_type": "stream",
     "text": [
      "100%|██████████| 145941/145941 [00:02<00:00, 62040.58it/s]\n"
     ]
    },
    {
     "name": "stdout",
     "output_type": "stream",
     "text": [
      "25 data\\frames_oct_16\\data\\frame_025.json\n"
     ]
    },
    {
     "name": "stderr",
     "output_type": "stream",
     "text": [
      "100%|██████████| 150549/150549 [00:02<00:00, 65986.97it/s]\n"
     ]
    },
    {
     "name": "stdout",
     "output_type": "stream",
     "text": [
      "26 data\\frames_oct_16\\data\\frame_026.json\n"
     ]
    },
    {
     "name": "stderr",
     "output_type": "stream",
     "text": [
      "100%|██████████| 155125/155125 [00:02<00:00, 66498.52it/s]\n"
     ]
    },
    {
     "name": "stdout",
     "output_type": "stream",
     "text": [
      "27 data\\frames_oct_16\\data\\frame_027.json\n"
     ]
    },
    {
     "name": "stderr",
     "output_type": "stream",
     "text": [
      "100%|██████████| 157407/157407 [00:02<00:00, 62330.96it/s]\n"
     ]
    },
    {
     "name": "stdout",
     "output_type": "stream",
     "text": [
      "28 data\\frames_oct_16\\data\\frame_028.json\n"
     ]
    },
    {
     "name": "stderr",
     "output_type": "stream",
     "text": [
      "100%|██████████| 168356/168356 [00:02<00:00, 66772.29it/s]\n"
     ]
    },
    {
     "name": "stdout",
     "output_type": "stream",
     "text": [
      "29 data\\frames_oct_16\\data\\frame_031.json\n"
     ]
    },
    {
     "name": "stderr",
     "output_type": "stream",
     "text": [
      "100%|██████████| 173651/173651 [00:02<00:00, 67470.37it/s]\n"
     ]
    },
    {
     "name": "stdout",
     "output_type": "stream",
     "text": [
      "30 data\\frames_oct_16\\data\\frame_032.json\n"
     ]
    },
    {
     "name": "stderr",
     "output_type": "stream",
     "text": [
      "100%|██████████| 175290/175290 [00:02<00:00, 67102.84it/s]\n"
     ]
    },
    {
     "name": "stdout",
     "output_type": "stream",
     "text": [
      "31 data\\frames_oct_16\\data\\frame_033.json\n"
     ]
    },
    {
     "name": "stderr",
     "output_type": "stream",
     "text": [
      "100%|██████████| 176924/176924 [00:02<00:00, 62802.54it/s]\n"
     ]
    },
    {
     "name": "stdout",
     "output_type": "stream",
     "text": [
      "32 data\\frames_oct_16\\data\\frame_034.json\n"
     ]
    },
    {
     "name": "stderr",
     "output_type": "stream",
     "text": [
      "100%|██████████| 174856/174856 [00:02<00:00, 66438.95it/s]\n"
     ]
    },
    {
     "name": "stdout",
     "output_type": "stream",
     "text": [
      "33 data\\frames_oct_16\\data\\frame_035.json\n"
     ]
    },
    {
     "name": "stderr",
     "output_type": "stream",
     "text": [
      "100%|██████████| 184067/184067 [00:02<00:00, 62316.91it/s]\n"
     ]
    }
   ],
   "source": [
    "data_path = Path(\"./data/frames_oct_16/data/\")\n",
    "rust_data_path = Path(\"./data/frames_oct_16/rust_data/\")\n",
    "\n",
    "for i, path in enumerate(sorted(data_path.glob(\"frame*.json\"))):\n",
    "    print(i, path)\n",
    "    rot = Rotation.from_euler(\"ZYX\", params[i][3:]).as_matrix()\n",
    "    trans = params[i][:3]\n",
    "    with open(path, \"r\") as f:\n",
    "        path_data = json.load(f)\n",
    "        obj = {\"pc\":[], \"pose\": path_data[\"pose\"]}\n",
    "        for point_data in tqdm(path_data[\"pc\"]):\n",
    "            point = deepcopy(point_data)\n",
    "            point[\"position\"] = (rot@np.array(point[\"position\"]) + trans).tolist()\n",
    "            point[\"normal\"] = (rot@np.array(point[\"normal\"])).tolist()\n",
    "\n",
    "            obj[\"pc\"].append(point)\n",
    "\n",
    "    with open(rust_data_path / f\"frame_{i:03d}.json\", \"w\") as out:\n",
    "        json.dump(obj, out)\n"
   ]
  },
  {
   "cell_type": "code",
   "execution_count": null,
   "metadata": {},
   "outputs": [],
   "source": [
    "transform_data_path = Path(\"./data/frames_oct_16/transforms/\")\n",
    "\n",
    "for i, path in enumerate(sorted(data_path.glob(\"frame*.json\"))):\n",
    "    with open(transform_data_path / f\"frame_{i:03d}.json\", \"w\") as out:\n",
    "        out.write(\"[[0.0,0.0,0.0,0.0,0.0,0.0]]\")"
   ]
  }
 ],
 "metadata": {
  "kernelspec": {
   "display_name": "computer_vision",
   "language": "python",
   "name": "python3"
  },
  "language_info": {
   "codemirror_mode": {
    "name": "ipython",
    "version": 3
   },
   "file_extension": ".py",
   "mimetype": "text/x-python",
   "name": "python",
   "nbconvert_exporter": "python",
   "pygments_lexer": "ipython3",
   "version": "3.10.0"
  }
 },
 "nbformat": 4,
 "nbformat_minor": 2
}

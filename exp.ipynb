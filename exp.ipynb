{
 "cells": [
  {
   "cell_type": "code",
   "execution_count": 1,
   "metadata": {},
   "outputs": [],
   "source": [
    "import sympy as s\n"
   ]
  },
  {
   "cell_type": "code",
   "execution_count": 7,
   "metadata": {},
   "outputs": [],
   "source": [
    "Swx, Swy, Swz, Svx, Svy, Svz, theta = s.symbols(\"S_{wx} S_{wy} S_{wz} S_{vx} S_{vy} S_{vz} \\\\theta\")"
   ]
  },
  {
   "cell_type": "code",
   "execution_count": 16,
   "metadata": {},
   "outputs": [],
   "source": [
    "def sqr_bracket(a,b,c):\n",
    "    return s.Matrix([\n",
    "        [0,-c,b],\n",
    "        [c,0,-a],\n",
    "        [-b,a,0]\n",
    "    ])\n",
    "\n",
    "def exp(a,b,c, theta):\n",
    "    sqr = sqr_bracket(a,b,c)\n",
    "    return s.eye(3) + s.sin(theta)*sqr + (1-s.cos(theta))*(sqr@sqr)\n",
    "\n",
    "def exp_twist(Swx, Swy, Swz, Svx, Svy, Svz, theta):\n",
    "    sqr = sqr_bracket(Swx, Swy, Swz)\n",
    "    rot = s.eye(3) + s.sin(theta)*sqr + (1-s.cos(theta))*(sqr@sqr)\n",
    "\n",
    "    Sv = s.Matrix([[Svx], [Svy], [Svz]])\n",
    "\n",
    "    trans = (s.eye(3)*theta + (1-s.cos(theta))*sqr + (theta - s.sin(theta))*(sqr@sqr))@Sv\n",
    "\n",
    "    mat = s.eye(4)\n",
    "\n",
    "    mat[:3, :3] = rot\n",
    "    mat[:3, 3] = trans\n",
    "\n",
    "    return mat\n"
   ]
  },
  {
   "cell_type": "code",
   "execution_count": 19,
   "metadata": {},
   "outputs": [
    {
     "data": {
      "text/latex": [
       "$\\displaystyle \\left[\\begin{matrix}\\left(1 - \\cos{\\left(\\theta \\right)}\\right) \\left(- S_{wy}^{2} - S_{wz}^{2}\\right) + 1 & S_{wx} S_{wy} \\left(1 - \\cos{\\left(\\theta \\right)}\\right) - S_{wz} \\sin{\\left(\\theta \\right)} & S_{wx} S_{wz} \\left(1 - \\cos{\\left(\\theta \\right)}\\right) + S_{wy} \\sin{\\left(\\theta \\right)} & S_{vx} \\left(\\theta + \\left(- S_{wy}^{2} - S_{wz}^{2}\\right) \\left(\\theta - \\sin{\\left(\\theta \\right)}\\right)\\right) + S_{vy} \\left(S_{wx} S_{wy} \\left(\\theta - \\sin{\\left(\\theta \\right)}\\right) - S_{wz} \\left(1 - \\cos{\\left(\\theta \\right)}\\right)\\right) + S_{vz} \\left(S_{wx} S_{wz} \\left(\\theta - \\sin{\\left(\\theta \\right)}\\right) + S_{wy} \\left(1 - \\cos{\\left(\\theta \\right)}\\right)\\right)\\\\S_{wx} S_{wy} \\left(1 - \\cos{\\left(\\theta \\right)}\\right) + S_{wz} \\sin{\\left(\\theta \\right)} & \\left(1 - \\cos{\\left(\\theta \\right)}\\right) \\left(- S_{wx}^{2} - S_{wz}^{2}\\right) + 1 & - S_{wx} \\sin{\\left(\\theta \\right)} + S_{wy} S_{wz} \\left(1 - \\cos{\\left(\\theta \\right)}\\right) & S_{vx} \\left(S_{wx} S_{wy} \\left(\\theta - \\sin{\\left(\\theta \\right)}\\right) + S_{wz} \\left(1 - \\cos{\\left(\\theta \\right)}\\right)\\right) + S_{vy} \\left(\\theta + \\left(- S_{wx}^{2} - S_{wz}^{2}\\right) \\left(\\theta - \\sin{\\left(\\theta \\right)}\\right)\\right) + S_{vz} \\left(- S_{wx} \\left(1 - \\cos{\\left(\\theta \\right)}\\right) + S_{wy} S_{wz} \\left(\\theta - \\sin{\\left(\\theta \\right)}\\right)\\right)\\\\S_{wx} S_{wz} \\left(1 - \\cos{\\left(\\theta \\right)}\\right) - S_{wy} \\sin{\\left(\\theta \\right)} & S_{wx} \\sin{\\left(\\theta \\right)} + S_{wy} S_{wz} \\left(1 - \\cos{\\left(\\theta \\right)}\\right) & \\left(1 - \\cos{\\left(\\theta \\right)}\\right) \\left(- S_{wx}^{2} - S_{wy}^{2}\\right) + 1 & S_{vx} \\left(S_{wx} S_{wz} \\left(\\theta - \\sin{\\left(\\theta \\right)}\\right) - S_{wy} \\left(1 - \\cos{\\left(\\theta \\right)}\\right)\\right) + S_{vy} \\left(S_{wx} \\left(1 - \\cos{\\left(\\theta \\right)}\\right) + S_{wy} S_{wz} \\left(\\theta - \\sin{\\left(\\theta \\right)}\\right)\\right) + S_{vz} \\left(\\theta + \\left(- S_{wx}^{2} - S_{wy}^{2}\\right) \\left(\\theta - \\sin{\\left(\\theta \\right)}\\right)\\right)\\\\0 & 0 & 0 & 1\\end{matrix}\\right]$"
      ],
      "text/plain": [
       "Matrix([\n",
       "[      (1 - cos(\\theta))*(-S_{wy}**2 - S_{wz}**2) + 1, S_{wx}*S_{wy}*(1 - cos(\\theta)) - S_{wz}*sin(\\theta),  S_{wx}*S_{wz}*(1 - cos(\\theta)) + S_{wy}*sin(\\theta),  S_{vx}*(\\theta + (-S_{wy}**2 - S_{wz}**2)*(\\theta - sin(\\theta))) + S_{vy}*(S_{wx}*S_{wy}*(\\theta - sin(\\theta)) - S_{wz}*(1 - cos(\\theta))) + S_{vz}*(S_{wx}*S_{wz}*(\\theta - sin(\\theta)) + S_{wy}*(1 - cos(\\theta)))],\n",
       "[S_{wx}*S_{wy}*(1 - cos(\\theta)) + S_{wz}*sin(\\theta),       (1 - cos(\\theta))*(-S_{wx}**2 - S_{wz}**2) + 1, -S_{wx}*sin(\\theta) + S_{wy}*S_{wz}*(1 - cos(\\theta)), S_{vx}*(S_{wx}*S_{wy}*(\\theta - sin(\\theta)) + S_{wz}*(1 - cos(\\theta))) + S_{vy}*(\\theta + (-S_{wx}**2 - S_{wz}**2)*(\\theta - sin(\\theta))) + S_{vz}*(-S_{wx}*(1 - cos(\\theta)) + S_{wy}*S_{wz}*(\\theta - sin(\\theta)))],\n",
       "[S_{wx}*S_{wz}*(1 - cos(\\theta)) - S_{wy}*sin(\\theta), S_{wx}*sin(\\theta) + S_{wy}*S_{wz}*(1 - cos(\\theta)),        (1 - cos(\\theta))*(-S_{wx}**2 - S_{wy}**2) + 1,  S_{vx}*(S_{wx}*S_{wz}*(\\theta - sin(\\theta)) - S_{wy}*(1 - cos(\\theta))) + S_{vy}*(S_{wx}*(1 - cos(\\theta)) + S_{wy}*S_{wz}*(\\theta - sin(\\theta))) + S_{vz}*(\\theta + (-S_{wx}**2 - S_{wy}**2)*(\\theta - sin(\\theta)))],\n",
       "[                                                   0,                                                    0,                                                     0,                                                                                                                                                                                                                        1]])"
      ]
     },
     "execution_count": 19,
     "metadata": {},
     "output_type": "execute_result"
    }
   ],
   "source": [
    "T = exp_twist(Swx, Swy, Swz, Svx, Svy, Svz, theta)\n",
    "T"
   ]
  },
  {
   "cell_type": "code",
   "execution_count": 25,
   "metadata": {},
   "outputs": [
    {
     "data": {
      "text/latex": [
       "$\\displaystyle \\left[\\begin{matrix}1 + \\frac{\\left(- S_{wy}^{2} - S_{wz}^{2}\\right) \\left(\\theta - \\sin{\\left(\\theta \\right)}\\right)}{\\theta^{3}} & \\frac{S_{wx} S_{wy} \\left(\\theta - \\sin{\\left(\\theta \\right)}\\right)}{\\theta^{3}} - \\frac{S_{wz} \\sin{\\left(\\theta \\right)}}{\\theta^{2}} & \\frac{S_{wx} S_{wz} \\left(\\theta - \\sin{\\left(\\theta \\right)}\\right)}{\\theta^{3}} + \\frac{S_{wy} \\sin{\\left(\\theta \\right)}}{\\theta^{2}}\\\\\\frac{S_{wx} S_{wy} \\left(\\theta - \\sin{\\left(\\theta \\right)}\\right)}{\\theta^{3}} + \\frac{S_{wz} \\sin{\\left(\\theta \\right)}}{\\theta^{2}} & 1 + \\frac{\\left(- S_{wx}^{2} - S_{wz}^{2}\\right) \\left(\\theta - \\sin{\\left(\\theta \\right)}\\right)}{\\theta^{3}} & - \\frac{S_{wx} \\sin{\\left(\\theta \\right)}}{\\theta^{2}} + \\frac{S_{wy} S_{wz} \\left(\\theta - \\sin{\\left(\\theta \\right)}\\right)}{\\theta^{3}}\\\\\\frac{S_{wx} S_{wz} \\left(\\theta - \\sin{\\left(\\theta \\right)}\\right)}{\\theta^{3}} - \\frac{S_{wy} \\sin{\\left(\\theta \\right)}}{\\theta^{2}} & \\frac{S_{wx} \\sin{\\left(\\theta \\right)}}{\\theta^{2}} + \\frac{S_{wy} S_{wz} \\left(\\theta - \\sin{\\left(\\theta \\right)}\\right)}{\\theta^{3}} & 1 + \\frac{\\left(- S_{wx}^{2} - S_{wy}^{2}\\right) \\left(\\theta - \\sin{\\left(\\theta \\right)}\\right)}{\\theta^{3}}\\end{matrix}\\right]$"
      ],
      "text/plain": [
       "Matrix([\n",
       "[                1 + (-S_{wy}**2 - S_{wz}**2)*(\\theta - sin(\\theta))/\\theta**3, S_{wx}*S_{wy}*(\\theta - sin(\\theta))/\\theta**3 - S_{wz}*sin(\\theta)/\\theta**2,  S_{wx}*S_{wz}*(\\theta - sin(\\theta))/\\theta**3 + S_{wy}*sin(\\theta)/\\theta**2],\n",
       "[S_{wx}*S_{wy}*(\\theta - sin(\\theta))/\\theta**3 + S_{wz}*sin(\\theta)/\\theta**2,                 1 + (-S_{wx}**2 - S_{wz}**2)*(\\theta - sin(\\theta))/\\theta**3, -S_{wx}*sin(\\theta)/\\theta**2 + S_{wy}*S_{wz}*(\\theta - sin(\\theta))/\\theta**3],\n",
       "[S_{wx}*S_{wz}*(\\theta - sin(\\theta))/\\theta**3 - S_{wy}*sin(\\theta)/\\theta**2, S_{wx}*sin(\\theta)/\\theta**2 + S_{wy}*S_{wz}*(\\theta - sin(\\theta))/\\theta**3,                  1 + (-S_{wx}**2 - S_{wy}**2)*(\\theta - sin(\\theta))/\\theta**3]])"
      ]
     },
     "execution_count": 25,
     "metadata": {},
     "output_type": "execute_result"
    }
   ],
   "source": [
    "sqr = sqr_bracket(Swx, Swy, Swz)\n",
    "\n",
    "s.eye(3) + (s.sin(theta)/(theta**2))*sqr + ((theta - s.sin(theta))/(theta**3))*(sqr@sqr)"
   ]
  },
  {
   "cell_type": "code",
   "execution_count": 29,
   "metadata": {},
   "outputs": [
    {
     "data": {
      "text/latex": [
       "$\\displaystyle \\frac{\\theta^{3} + \\frac{\\left(\\cos{\\left(\\theta \\right)} - 1\\right) \\sin{\\left(\\theta \\right)}}{2}}{\\theta^{5}}$"
      ],
      "text/plain": [
       "(\\theta**3 + (cos(\\theta) - 1)*sin(\\theta)/2)/\\theta**5"
      ]
     },
     "execution_count": 29,
     "metadata": {},
     "output_type": "execute_result"
    }
   ],
   "source": [
    "A = s.sin(theta)/theta\n",
    "B = (1 - s.cos(theta))/theta**2\n",
    "\n",
    "s.simplify((1/theta**2)*(1-A/2*B))"
   ]
  }
 ],
 "metadata": {
  "kernelspec": {
   "display_name": "computer_vision",
   "language": "python",
   "name": "python3"
  },
  "language_info": {
   "codemirror_mode": {
    "name": "ipython",
    "version": 3
   },
   "file_extension": ".py",
   "mimetype": "text/x-python",
   "name": "python",
   "nbconvert_exporter": "python",
   "pygments_lexer": "ipython3",
   "version": "3.10.0"
  }
 },
 "nbformat": 4,
 "nbformat_minor": 2
}

{
 "cells": [
  {
   "cell_type": "code",
   "execution_count": 13,
   "metadata": {},
   "outputs": [
    {
     "name": "stderr",
     "output_type": "stream",
     "text": [
      "100%|██████████| 36/36 [01:28<00:00,  2.46s/it]\n"
     ]
    }
   ],
   "source": [
    "import numpy as np\n",
    "from pathlib import Path\n",
    "import open3d as o3d\n",
    "import json\n",
    "from tqdm import tqdm\n",
    "\n",
    "path = Path(\"./data/frames/\")\n",
    "cov = np.zeros(9).tolist()\n",
    "colour = np.zeros((3, )).tolist()\n",
    "pose = np.eye(4).reshape(16).tolist()\n",
    "\n",
    "for i, file in tqdm(enumerate(list(sorted(path.glob(\"*.npy\")))), total=len(tuple(path.glob(\"*.npy\")))):\n",
    "    points = np.load(file)\n",
    "    \n",
    "    pc = o3d.geometry.PointCloud()\n",
    "    pc.points = o3d.utility.Vector3dVector(points)\n",
    "\n",
    "    pc.estimate_normals()\n",
    "\n",
    "    normals = np.asarray(pc.normals)\n",
    "\n",
    "    data = []\n",
    "\n",
    "    for point, normal in zip(points, normals):\n",
    "        data.append({\n",
    "            \"position\":point.tolist(),\n",
    "            \"normal\":normal.tolist(),\n",
    "            \"colour\":colour,\n",
    "            \"cov\":cov,\n",
    "            \"valid\":True\n",
    "        })\n",
    "\n",
    "    with open(file.parent / f\"frame_{i:03}.json\", \"w\") as f:\n",
    "        json.dump({\"pc\":data, \"pose\":pose}, f)\n",
    "    \n",
    "\n"
   ]
  },
  {
   "cell_type": "code",
   "execution_count": 14,
   "metadata": {},
   "outputs": [],
   "source": [
    "from shutil import copyfile\n",
    "\n",
    "dest = Path(r\"/Users/chrisvail/Documents/CruxTest/matcher/examples/data\")\n",
    "source = Path(r\"/Users/chrisvail/Documents/ReconstructionAnalysis/data/frames\")\n",
    "\n",
    "for frame in sorted(source.glob(\"*.json\")):\n",
    "    # print(frame.name)\n",
    "    copyfile(frame, dest / frame.name)\n",
    "    "
   ]
  }
 ],
 "metadata": {
  "kernelspec": {
   "display_name": "3D_ML",
   "language": "python",
   "name": "python3"
  },
  "language_info": {
   "codemirror_mode": {
    "name": "ipython",
    "version": 3
   },
   "file_extension": ".py",
   "mimetype": "text/x-python",
   "name": "python",
   "nbconvert_exporter": "python",
   "pygments_lexer": "ipython3",
   "version": "3.10.0"
  },
  "orig_nbformat": 4,
  "vscode": {
   "interpreter": {
    "hash": "027e515360b94f8508ce087551c413c792ad912dc979b64fe23c60a60c965b82"
   }
  }
 },
 "nbformat": 4,
 "nbformat_minor": 2
}

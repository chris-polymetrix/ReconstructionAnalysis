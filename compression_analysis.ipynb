{
 "cells": [
  {
   "cell_type": "code",
   "execution_count": 96,
   "metadata": {},
   "outputs": [],
   "source": [
    "import numpy as np\n",
    "import matplotlib\n",
    "from pathlib import Path\n",
    "from collections import defaultdict\n",
    "from tqdm import tqdm\n",
    "import pandas as pd\n",
    "import seaborn as sns"
   ]
  },
  {
   "cell_type": "code",
   "execution_count": 97,
   "metadata": {},
   "outputs": [],
   "source": [
    "path = Path(r\"C:\\Users\\chris\\Downloads\")\n",
    "\n",
    "files = list(path.glob(\"OBJFile*.obj\"))"
   ]
  },
  {
   "cell_type": "code",
   "execution_count": 98,
   "metadata": {},
   "outputs": [
    {
     "name": "stderr",
     "output_type": "stream",
     "text": [
      "100%|██████████| 46/46 [03:00<00:00,  3.93s/it]\n"
     ]
    }
   ],
   "source": [
    "letter_freq = defaultdict(int)\n",
    "\n",
    "for f in tqdm(files):\n",
    "    with open(f, \"r\") as file:\n",
    "        for line in file.readlines():\n",
    "            for char in line:\n",
    "                if line.startswith(\"#\"): continue\n",
    "                letter_freq[char] += 1"
   ]
  },
  {
   "cell_type": "code",
   "execution_count": 99,
   "metadata": {},
   "outputs": [
    {
     "data": {
      "text/plain": [
       "defaultdict(int,\n",
       "            {'v': 16922637,\n",
       "             '-': 18923555,\n",
       "             '0': 194482792,\n",
       "             '.': 50497634,\n",
       "             '4': 72360651,\n",
       "             '6': 67596784,\n",
       "             '5': 81739103,\n",
       "             '7': 63404127,\n",
       "             '2': 87891981,\n",
       "             '1': 99273184,\n",
       "             '3': 77866843,\n",
       "             '8': 61314403,\n",
       "             '9': 57459043,\n",
       "             'f': 29787272,\n",
       "             'e': 2903,\n",
       "             'newline': 46709887,\n",
       "             'space': 140129727})"
      ]
     },
     "execution_count": 99,
     "metadata": {},
     "output_type": "execute_result"
    }
   ],
   "source": [
    "plot_letter_freq = letter_freq.copy()\n",
    "plot_letter_freq[\"newline\"] = plot_letter_freq.pop(\"\\n\")\n",
    "plot_letter_freq[\"space\"] = plot_letter_freq.pop(\" \")\n",
    "plot_letter_freq"
   ]
  },
  {
   "cell_type": "code",
   "execution_count": 100,
   "metadata": {},
   "outputs": [
    {
     "data": {
      "text/plain": [
       "(1166362526, 25355707.086956523, 25.355707086956524)"
      ]
     },
     "execution_count": 100,
     "metadata": {},
     "output_type": "execute_result"
    }
   ],
   "source": [
    "sum(letter_freq.values()), sum(letter_freq.values())/len(files), sum(letter_freq.values())/len(files)*8/8e6"
   ]
  },
  {
   "cell_type": "code",
   "execution_count": 101,
   "metadata": {},
   "outputs": [
    {
     "name": "stdout",
     "output_type": "stream",
     "text": [
      "          v         -          0         .         4         6         5  \\\n",
      "0  16922637  18923555  194482792  50497634  72360651  67596784  81739103   \n",
      "\n",
      "          7         2         1         3         8         9         f     e  \\\n",
      "0  63404127  87891981  99273184  77866843  61314403  57459043  29787272  2903   \n",
      "\n",
      "    newline      space  \n",
      "0  46709887  140129727  \n"
     ]
    },
    {
     "data": {
      "text/plain": [
       "<Axes: >"
      ]
     },
     "execution_count": 101,
     "metadata": {},
     "output_type": "execute_result"
    },
    {
     "data": {
      "image/png": "[encoded data removed]",
      "text/plain": [
       "<Figure size 640x480 with 1 Axes>"
      ]
     },
     "metadata": {},
     "output_type": "display_data"
    }
   ],
   "source": [
    "df = pd.DataFrame(data=plot_letter_freq, index=[0])\n",
    "print(df.head())\n",
    "sns.barplot(data=df, orient=\"h\")"
   ]
  },
  {
   "cell_type": "code",
   "execution_count": 102,
   "metadata": {},
   "outputs": [],
   "source": [
    "from collections import namedtuple\n",
    "\n",
    "Node = namedtuple(\"Node\", [\"count\", \"letter\", \"left\", \"right\"])\n",
    "\n",
    "nodes = [Node(v, k, None, None) for k, v in letter_freq.items()]"
   ]
  },
  {
   "cell_type": "code",
   "execution_count": 103,
   "metadata": {},
   "outputs": [],
   "source": [
    "def combine_nodes(a, b):\n",
    "    return Node(a.count + b.count, \"\\0\", a, b)"
   ]
  },
  {
   "cell_type": "code",
   "execution_count": 104,
   "metadata": {},
   "outputs": [],
   "source": [
    "from heapq import heapify, heappop, heappush\n",
    "\n",
    "heap = nodes.copy()\n",
    "heapify(heap)\n",
    "\n",
    "while len(heap) != 1:\n",
    "    a = heappop(heap)\n",
    "    b = heappop(heap)\n",
    "    heappush(heap, combine_nodes(a, b))\n",
    "\n",
    "huff_tree = heap[0]"
   ]
  },
  {
   "cell_type": "code",
   "execution_count": 105,
   "metadata": {},
   "outputs": [
    {
     "data": {
      "text/plain": [
       "{'1': '000',\n",
       " '9': '0010',\n",
       " '8': '0011',\n",
       " '7': '0100',\n",
       " 'f': '01010',\n",
       " 'e': '0101100',\n",
       " 'v': '0101101',\n",
       " '-': '010111',\n",
       " '6': '0110',\n",
       " '4': '0111',\n",
       " ' ': '100',\n",
       " '3': '1010',\n",
       " '5': '1011',\n",
       " '2': '1100',\n",
       " '\\n': '11010',\n",
       " '.': '11011',\n",
       " '0': '111'}"
      ]
     },
     "execution_count": 105,
     "metadata": {},
     "output_type": "execute_result"
    }
   ],
   "source": [
    "def is_leaf(node: Node):\n",
    "    return node.left is None and node.right is None\n",
    "\n",
    "def make_table(node, path, table):\n",
    "    # print(node)\n",
    "    if node is None:\n",
    "        return\n",
    "    elif is_leaf(node):\n",
    "        table[node.letter] = path\n",
    "        return\n",
    "    else:\n",
    "        make_table(node.left, path + \"0\", table)\n",
    "        make_table(node.right, path + \"1\", table)\n",
    "\n",
    "\n",
    "huff_table = {}\n",
    "\n",
    "make_table(huff_tree, \"\", huff_table)\n",
    "\n",
    "huff_table"
   ]
  },
  {
   "cell_type": "code",
   "execution_count": 115,
   "metadata": {},
   "outputs": [
    {
     "data": {
      "text/plain": [
       "53936214"
      ]
     },
     "execution_count": 115,
     "metadata": {},
     "output_type": "execute_result"
    }
   ],
   "source": [
    "file_path = Path(\"test_obj.obj\")\n",
    "out_file_path = Path(\"test_bin_obj.obj\")\n",
    "\n",
    "with open(file_path, \"r\") as f:\n",
    "    file_data = f.read()\n",
    "\n",
    "len(file_data)"
   ]
  },
  {
   "cell_type": "code",
   "execution_count": 117,
   "metadata": {},
   "outputs": [
    {
     "name": "stderr",
     "output_type": "stream",
     "text": [
      "  0%|          | 0/53936214 [00:00<?, ?it/s]"
     ]
    },
    {
     "name": "stderr",
     "output_type": "stream",
     "text": [
      "100%|██████████| 53936214/53936214 [00:24<00:00, 2210406.70it/s]\n"
     ]
    },
    {
     "ename": "TypeError",
     "evalue": "BufferedWriter.write() takes exactly one argument (2 given)",
     "output_type": "error",
     "traceback": [
      "\u001b[1;31m---------------------------------------------------------------------------\u001b[0m",
      "\u001b[1;31mTypeError\u001b[0m                                 Traceback (most recent call last)",
      "\u001b[1;32mc:\\Users\\chris\\Documents\\Projects\\Tutorials\\ReconstructionAnalysis\\compression_analysis.ipynb Cell 12\u001b[0m line \u001b[0;36m1\n\u001b[0;32m     <a href='vscode-notebook-cell:/c%3A/Users/chris/Documents/Projects/Tutorials/ReconstructionAnalysis/compression_analysis.ipynb#X14sZmlsZQ%3D%3D?line=9'>10</a>\u001b[0m         data \u001b[39m=\u001b[39m data[\u001b[39m8\u001b[39m:]\n\u001b[0;32m     <a href='vscode-notebook-cell:/c%3A/Users/chris/Documents/Projects/Tutorials/ReconstructionAnalysis/compression_analysis.ipynb#X14sZmlsZQ%3D%3D?line=11'>12</a>\u001b[0m \u001b[39mif\u001b[39;00m \u001b[39mlen\u001b[39m(data):\n\u001b[1;32m---> <a href='vscode-notebook-cell:/c%3A/Users/chris/Documents/Projects/Tutorials/ReconstructionAnalysis/compression_analysis.ipynb#X14sZmlsZQ%3D%3D?line=12'>13</a>\u001b[0m     out\u001b[39m.\u001b[39;49mwrite(\u001b[39mint\u001b[39;49m(data\u001b[39m.\u001b[39;49mljust(\u001b[39m8\u001b[39;49m, \u001b[39m\"\u001b[39;49m\u001b[39m0\u001b[39;49m\u001b[39m\"\u001b[39;49m)),\u001b[39m2\u001b[39;49m)\u001b[39m.\u001b[39mto_bytes(\u001b[39m1\u001b[39m, \u001b[39m\"\u001b[39m\u001b[39mlittle\u001b[39m\u001b[39m\"\u001b[39m)\n",
      "\u001b[1;31mTypeError\u001b[0m: BufferedWriter.write() takes exactly one argument (2 given)"
     ]
    }
   ],
   "source": [
    "import sys\n",
    "\n",
    "data = \"\"\n",
    "binary = b\"\"\n",
    "with open(out_file_path, \"wb\") as out:\n",
    "    for char in tqdm(file_data):\n",
    "        data += huff_table[char]\n",
    "        if len(data) >= 8:\n",
    "            out.write(int(data[:8], 2).to_bytes(1, \"little\"))\n",
    "            data = data[8:]\n",
    "\n",
    "    if len(data):\n",
    "        out.write(int(data.ljust(8, \"0\")),2).to_bytes(1, \"little\")"
   ]
  },
  {
   "cell_type": "code",
   "execution_count": 119,
   "metadata": {},
   "outputs": [],
   "source": [
    "import gzip\n",
    "\n",
    "with gzip.open(out_file_path.stem + \"_comp_gzip.gz\", \"wb\") as out, open(out_file_path, \"rb\") as in_file:\n",
    "    out.writelines(in_file)"
   ]
  }
 ],
 "metadata": {
  "kernelspec": {
   "display_name": "computer_vision",
   "language": "python",
   "name": "python3"
  },
  "language_info": {
   "codemirror_mode": {
    "name": "ipython",
    "version": 3
   },
   "file_extension": ".py",
   "mimetype": "text/x-python",
   "name": "python",
   "nbconvert_exporter": "python",
   "pygments_lexer": "ipython3",
   "version": "3.10.0"
  }
 },
 "nbformat": 4,
 "nbformat_minor": 2
}

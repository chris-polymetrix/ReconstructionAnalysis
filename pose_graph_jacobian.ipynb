{
 "cells": [
  {
   "cell_type": "code",
   "execution_count": 4,
   "metadata": {},
   "outputs": [],
   "source": [
    "import sympy as s"
   ]
  },
  {
   "cell_type": "code",
   "execution_count": 7,
   "metadata": {},
   "outputs": [
    {
     "data": {
      "text/latex": [
       "$\\displaystyle \\theta_{i}$"
      ],
      "text/plain": [
       "\\theta_i"
      ]
     },
     "execution_count": 7,
     "metadata": {},
     "output_type": "execute_result"
    }
   ],
   "source": [
    "i1,i2,i3,i4,i5,i6 = s.symbols(\" \".join([f\"x_{{i{i}}}\" for i in range(6)]))\n",
    "j1,j2,j3,j4,j5,j6 = s.symbols(\" \".join([f\"x_{{j{i}}}\" for i in range(6)]))\n",
    "z1,z2,z3,z4,z5,z6,z7,z8,z9,z10,z11,z12 = s.symbols(\" \".join([f\"z_{{{i}}}\" for i in range(12)]))\n",
    "theta_i, theta_j, theta_z = s.symbols(r\"\\theta_i \\theta_j \\theta_z\")\n",
    "Zij = s.Matrix([\n",
    "    [z1,z2,z3,z10],\n",
    "    [z4,z5,z6,z11],\n",
    "    [z7,z8,z9,z12],\n",
    "    [0,0,0,1]\n",
    "])\n",
    "\n",
    "theta_i"
   ]
  },
  {
   "cell_type": "code",
   "execution_count": 8,
   "metadata": {},
   "outputs": [
    {
     "data": {
      "text/plain": [
       "(0.100000000000000,\n",
       " 0.200000000000000,\n",
       " 0.300000000000000,\n",
       " 0.400000000000000,\n",
       " 0.500000000000000,\n",
       " 0.600000000000000)"
      ]
     },
     "execution_count": 8,
     "metadata": {},
     "output_type": "execute_result"
    }
   ],
   "source": [
    "def cross(a,b,c):\n",
    "    return s.Matrix([\n",
    "        [0,-c,b],\n",
    "        [c,0,-a],\n",
    "        [-b,a,0]\n",
    "    ])\n",
    "\n",
    "def exp(x1,x2,x3,x4,x5,x6):\n",
    "    theta = s.sqrt(x4*x4 + x5*x5 + x6*x6)\n",
    "    a = s.sin(theta)/theta\n",
    "    b = (1 - s.cos(theta))/(theta*theta)\n",
    "    c = (theta - s.sin(theta))/(theta**3)\n",
    "    w = cross(x4,x5,x6)\n",
    "    R = s.eye(3) + a*w + b*w@w\n",
    "\n",
    "    t = (s.eye(3) + b*w + c*w@w)@s.Matrix([[x1], [x2], [x3]])\n",
    "    \n",
    "    mat = s.eye(4)\n",
    "    mat[:3, :3] = R\n",
    "    mat[:3, 3] = t\n",
    "\n",
    "    return mat\n",
    "\n",
    "def log(T):\n",
    "    theta = s.acos((T[0, 0] + T[1, 1] + T[2, 2] - 1) / 2)\n",
    "\n",
    "    if theta == 0:\n",
    "        return T[0, 3], T[1, 3], T[2, 3], 0, 0, 0\n",
    "\n",
    "    a = s.sin(theta)/theta\n",
    "    b = (1 - s.cos(theta))/(theta*theta)\n",
    "\n",
    "    x4 = 1/(2*a)*(T[2, 1] - T[1, 2])\n",
    "    x5 = 1/(2*a)*(T[0, 2] - T[2, 0])\n",
    "    x6 = 1/(2*a)*(T[1, 0] - T[0, 1])\n",
    "    \n",
    "    w = cross(x4,x5,x6)\n",
    "    u = (s.eye(3) - 1/2*w + 1/(theta**2)*(1 - a/(2*b))*w@w)@T[:3, 3]\n",
    "\n",
    "    return u[0], u[1], u[2], x4, x5, x6\n",
    "\n",
    "log(exp(0.1,0.2,0.3,0.4,0.5,0.6))"
   ]
  },
  {
   "cell_type": "code",
   "execution_count": 9,
   "metadata": {},
   "outputs": [],
   "source": [
    "def invert(T):\n",
    "    R = T[:3, :3]\n",
    "    t = T[:3, 3]\n",
    "    \n",
    "    mat = s.eye(4)\n",
    "    mat[:3, :3] = R.T\n",
    "    mat[:3, 3] = -R.T@t\n",
    "\n",
    "    return mat"
   ]
  },
  {
   "cell_type": "code",
   "execution_count": 10,
   "metadata": {},
   "outputs": [
    {
     "data": {
      "text/latex": [
       "$\\displaystyle \\left[\\begin{matrix}1 - \\frac{x_{i4}^{2} \\cdot \\left(1 - \\cos{\\left(\\theta_{i} \\right)}\\right)}{\\theta_{i}^{2}} - \\frac{x_{i5}^{2} \\cdot \\left(1 - \\cos{\\left(\\theta_{i} \\right)}\\right)}{\\theta_{i}^{2}} & - \\frac{x_{i5} \\sin{\\left(\\theta_{i} \\right)}}{\\theta_{i}} + \\frac{x_{i3} x_{i4} \\cdot \\left(1 - \\cos{\\left(\\theta_{i} \\right)}\\right)}{\\theta_{i}^{2}} & \\frac{x_{i4} \\sin{\\left(\\theta_{i} \\right)}}{\\theta_{i}} + \\frac{x_{i3} x_{i5} \\cdot \\left(1 - \\cos{\\left(\\theta_{i} \\right)}\\right)}{\\theta_{i}^{2}} & x_{i0} \\cdot \\left(1 - \\frac{x_{i4}^{2} \\left(\\theta_{i} - \\sin{\\left(\\theta_{i} \\right)}\\right)}{\\theta_{i}^{3}} - \\frac{x_{i5}^{2} \\left(\\theta_{i} - \\sin{\\left(\\theta_{i} \\right)}\\right)}{\\theta_{i}^{3}}\\right) + x_{i1} \\left(- \\frac{x_{i5} \\cdot \\left(1 - \\cos{\\left(\\theta_{i} \\right)}\\right)}{\\theta_{i}^{2}} + \\frac{x_{i3} x_{i4} \\left(\\theta_{i} - \\sin{\\left(\\theta_{i} \\right)}\\right)}{\\theta_{i}^{3}}\\right) + x_{i2} \\left(\\frac{x_{i4} \\cdot \\left(1 - \\cos{\\left(\\theta_{i} \\right)}\\right)}{\\theta_{i}^{2}} + \\frac{x_{i3} x_{i5} \\left(\\theta_{i} - \\sin{\\left(\\theta_{i} \\right)}\\right)}{\\theta_{i}^{3}}\\right)\\\\\\frac{x_{i5} \\sin{\\left(\\theta_{i} \\right)}}{\\theta_{i}} + \\frac{x_{i3} x_{i4} \\cdot \\left(1 - \\cos{\\left(\\theta_{i} \\right)}\\right)}{\\theta_{i}^{2}} & 1 - \\frac{x_{i3}^{2} \\cdot \\left(1 - \\cos{\\left(\\theta_{i} \\right)}\\right)}{\\theta_{i}^{2}} - \\frac{x_{i5}^{2} \\cdot \\left(1 - \\cos{\\left(\\theta_{i} \\right)}\\right)}{\\theta_{i}^{2}} & - \\frac{x_{i3} \\sin{\\left(\\theta_{i} \\right)}}{\\theta_{i}} + \\frac{x_{i4} x_{i5} \\cdot \\left(1 - \\cos{\\left(\\theta_{i} \\right)}\\right)}{\\theta_{i}^{2}} & x_{i0} \\left(\\frac{x_{i5} \\cdot \\left(1 - \\cos{\\left(\\theta_{i} \\right)}\\right)}{\\theta_{i}^{2}} + \\frac{x_{i3} x_{i4} \\left(\\theta_{i} - \\sin{\\left(\\theta_{i} \\right)}\\right)}{\\theta_{i}^{3}}\\right) + x_{i1} \\cdot \\left(1 - \\frac{x_{i3}^{2} \\left(\\theta_{i} - \\sin{\\left(\\theta_{i} \\right)}\\right)}{\\theta_{i}^{3}} - \\frac{x_{i5}^{2} \\left(\\theta_{i} - \\sin{\\left(\\theta_{i} \\right)}\\right)}{\\theta_{i}^{3}}\\right) + x_{i2} \\left(- \\frac{x_{i3} \\cdot \\left(1 - \\cos{\\left(\\theta_{i} \\right)}\\right)}{\\theta_{i}^{2}} + \\frac{x_{i4} x_{i5} \\left(\\theta_{i} - \\sin{\\left(\\theta_{i} \\right)}\\right)}{\\theta_{i}^{3}}\\right)\\\\- \\frac{x_{i4} \\sin{\\left(\\theta_{i} \\right)}}{\\theta_{i}} + \\frac{x_{i3} x_{i5} \\cdot \\left(1 - \\cos{\\left(\\theta_{i} \\right)}\\right)}{\\theta_{i}^{2}} & \\frac{x_{i3} \\sin{\\left(\\theta_{i} \\right)}}{\\theta_{i}} + \\frac{x_{i4} x_{i5} \\cdot \\left(1 - \\cos{\\left(\\theta_{i} \\right)}\\right)}{\\theta_{i}^{2}} & 1 - \\frac{x_{i3}^{2} \\cdot \\left(1 - \\cos{\\left(\\theta_{i} \\right)}\\right)}{\\theta_{i}^{2}} - \\frac{x_{i4}^{2} \\cdot \\left(1 - \\cos{\\left(\\theta_{i} \\right)}\\right)}{\\theta_{i}^{2}} & x_{i0} \\left(- \\frac{x_{i4} \\cdot \\left(1 - \\cos{\\left(\\theta_{i} \\right)}\\right)}{\\theta_{i}^{2}} + \\frac{x_{i3} x_{i5} \\left(\\theta_{i} - \\sin{\\left(\\theta_{i} \\right)}\\right)}{\\theta_{i}^{3}}\\right) + x_{i1} \\left(\\frac{x_{i3} \\cdot \\left(1 - \\cos{\\left(\\theta_{i} \\right)}\\right)}{\\theta_{i}^{2}} + \\frac{x_{i4} x_{i5} \\left(\\theta_{i} - \\sin{\\left(\\theta_{i} \\right)}\\right)}{\\theta_{i}^{3}}\\right) + x_{i2} \\cdot \\left(1 - \\frac{x_{i3}^{2} \\left(\\theta_{i} - \\sin{\\left(\\theta_{i} \\right)}\\right)}{\\theta_{i}^{3}} - \\frac{x_{i4}^{2} \\left(\\theta_{i} - \\sin{\\left(\\theta_{i} \\right)}\\right)}{\\theta_{i}^{3}}\\right)\\\\0 & 0 & 0 & 1\\end{matrix}\\right]$"
      ],
      "text/plain": [
       "Matrix([\n",
       "[1 - x_{i4}**2*(1 - cos(\\theta_i))/\\theta_i**2 - x_{i5}**2*(1 - cos(\\theta_i))/\\theta_i**2,            -x_{i5}*sin(\\theta_i)/\\theta_i + x_{i3}*x_{i4}*(1 - cos(\\theta_i))/\\theta_i**2,             x_{i4}*sin(\\theta_i)/\\theta_i + x_{i3}*x_{i5}*(1 - cos(\\theta_i))/\\theta_i**2, x_{i0}*(1 - x_{i4}**2*(\\theta_i - sin(\\theta_i))/\\theta_i**3 - x_{i5}**2*(\\theta_i - sin(\\theta_i))/\\theta_i**3) + x_{i1}*(-x_{i5}*(1 - cos(\\theta_i))/\\theta_i**2 + x_{i3}*x_{i4}*(\\theta_i - sin(\\theta_i))/\\theta_i**3) + x_{i2}*(x_{i4}*(1 - cos(\\theta_i))/\\theta_i**2 + x_{i3}*x_{i5}*(\\theta_i - sin(\\theta_i))/\\theta_i**3)],\n",
       "[            x_{i5}*sin(\\theta_i)/\\theta_i + x_{i3}*x_{i4}*(1 - cos(\\theta_i))/\\theta_i**2, 1 - x_{i3}**2*(1 - cos(\\theta_i))/\\theta_i**2 - x_{i5}**2*(1 - cos(\\theta_i))/\\theta_i**2,            -x_{i3}*sin(\\theta_i)/\\theta_i + x_{i4}*x_{i5}*(1 - cos(\\theta_i))/\\theta_i**2, x_{i0}*(x_{i5}*(1 - cos(\\theta_i))/\\theta_i**2 + x_{i3}*x_{i4}*(\\theta_i - sin(\\theta_i))/\\theta_i**3) + x_{i1}*(1 - x_{i3}**2*(\\theta_i - sin(\\theta_i))/\\theta_i**3 - x_{i5}**2*(\\theta_i - sin(\\theta_i))/\\theta_i**3) + x_{i2}*(-x_{i3}*(1 - cos(\\theta_i))/\\theta_i**2 + x_{i4}*x_{i5}*(\\theta_i - sin(\\theta_i))/\\theta_i**3)],\n",
       "[           -x_{i4}*sin(\\theta_i)/\\theta_i + x_{i3}*x_{i5}*(1 - cos(\\theta_i))/\\theta_i**2,             x_{i3}*sin(\\theta_i)/\\theta_i + x_{i4}*x_{i5}*(1 - cos(\\theta_i))/\\theta_i**2, 1 - x_{i3}**2*(1 - cos(\\theta_i))/\\theta_i**2 - x_{i4}**2*(1 - cos(\\theta_i))/\\theta_i**2, x_{i0}*(-x_{i4}*(1 - cos(\\theta_i))/\\theta_i**2 + x_{i3}*x_{i5}*(\\theta_i - sin(\\theta_i))/\\theta_i**3) + x_{i1}*(x_{i3}*(1 - cos(\\theta_i))/\\theta_i**2 + x_{i4}*x_{i5}*(\\theta_i - sin(\\theta_i))/\\theta_i**3) + x_{i2}*(1 - x_{i3}**2*(\\theta_i - sin(\\theta_i))/\\theta_i**3 - x_{i4}**2*(\\theta_i - sin(\\theta_i))/\\theta_i**3)],\n",
       "[                                                                                        0,                                                                                         0,                                                                                         0,                                                                                                                                                                                                                                                                                                                                   1]])"
      ]
     },
     "execution_count": 10,
     "metadata": {},
     "output_type": "execute_result"
    }
   ],
   "source": [
    "Xi = exp(i1,i2,i3,i4,i5,i6)\n",
    "Xj = exp(j1,j2,j3,j4,j5,j6)\n",
    "Zij = exp(z1,z2,z3,z4,z5,z6)\n",
    "\n",
    "Xi = Xi.subs(s.sqrt(i4*i4 + i5*i5 + i6*i6), theta_i)\n",
    "Xj = Xj.subs(s.sqrt(j4*j4 + j5*j5 + j6*j6), theta_j)\n",
    "Zij = Zij.subs(s.sqrt(z4*z4 + z5*z5 + z6*z6), theta_z)\n",
    "\n",
    "Xi"
   ]
  },
  {
   "cell_type": "code",
   "execution_count": 11,
   "metadata": {},
   "outputs": [
    {
     "data": {
      "text/latex": [
       "$\\displaystyle \\frac{\\left(\\left(- \\frac{x_{j3} \\sin{\\left(\\theta_{j} \\right)}}{\\theta_{j}} + \\frac{x_{j4} x_{j5} \\cdot \\left(1 - \\cos{\\left(\\theta_{j} \\right)}\\right)}{\\theta_{j}^{2}}\\right) \\left(\\left(- \\frac{x_{i3} \\sin{\\left(\\theta_{i} \\right)}}{\\theta_{i}} + \\frac{x_{i4} x_{i5} \\cdot \\left(1 - \\cos{\\left(\\theta_{i} \\right)}\\right)}{\\theta_{i}^{2}}\\right) \\left(- \\frac{z_{4} \\sin{\\left(\\theta_{z} \\right)}}{\\theta_{z}} + \\frac{z_{3} z_{5} \\cdot \\left(1 - \\cos{\\left(\\theta_{z} \\right)}\\right)}{\\theta_{z}^{2}}\\right) + \\left(\\frac{x_{i5} \\sin{\\left(\\theta_{i} \\right)}}{\\theta_{i}} + \\frac{x_{i3} x_{i4} \\cdot \\left(1 - \\cos{\\left(\\theta_{i} \\right)}\\right)}{\\theta_{i}^{2}}\\right) \\left(1 - \\frac{z_{4}^{2} \\cdot \\left(1 - \\cos{\\left(\\theta_{z} \\right)}\\right)}{\\theta_{z}^{2}} - \\frac{z_{5}^{2} \\cdot \\left(1 - \\cos{\\left(\\theta_{z} \\right)}\\right)}{\\theta_{z}^{2}}\\right) + \\left(\\frac{z_{5} \\sin{\\left(\\theta_{z} \\right)}}{\\theta_{z}} + \\frac{z_{3} z_{4} \\cdot \\left(1 - \\cos{\\left(\\theta_{z} \\right)}\\right)}{\\theta_{z}^{2}}\\right) \\left(1 - \\frac{x_{i3}^{2} \\cdot \\left(1 - \\cos{\\left(\\theta_{i} \\right)}\\right)}{\\theta_{i}^{2}} - \\frac{x_{i5}^{2} \\cdot \\left(1 - \\cos{\\left(\\theta_{i} \\right)}\\right)}{\\theta_{i}^{2}}\\right)\\right) - \\left(- \\frac{x_{j4} \\sin{\\left(\\theta_{j} \\right)}}{\\theta_{j}} + \\frac{x_{j3} x_{j5} \\cdot \\left(1 - \\cos{\\left(\\theta_{j} \\right)}\\right)}{\\theta_{j}^{2}}\\right) \\left(\\left(\\frac{x_{i3} \\sin{\\left(\\theta_{i} \\right)}}{\\theta_{i}} + \\frac{x_{i4} x_{i5} \\cdot \\left(1 - \\cos{\\left(\\theta_{i} \\right)}\\right)}{\\theta_{i}^{2}}\\right) \\left(- \\frac{z_{3} \\sin{\\left(\\theta_{z} \\right)}}{\\theta_{z}} + \\frac{z_{4} z_{5} \\cdot \\left(1 - \\cos{\\left(\\theta_{z} \\right)}\\right)}{\\theta_{z}^{2}}\\right) + \\left(- \\frac{x_{i4} \\sin{\\left(\\theta_{i} \\right)}}{\\theta_{i}} + \\frac{x_{i3} x_{i5} \\cdot \\left(1 - \\cos{\\left(\\theta_{i} \\right)}\\right)}{\\theta_{i}^{2}}\\right) \\left(\\frac{z_{4} \\sin{\\left(\\theta_{z} \\right)}}{\\theta_{z}} + \\frac{z_{3} z_{5} \\cdot \\left(1 - \\cos{\\left(\\theta_{z} \\right)}\\right)}{\\theta_{z}^{2}}\\right) + \\left(1 - \\frac{x_{i3}^{2} \\cdot \\left(1 - \\cos{\\left(\\theta_{i} \\right)}\\right)}{\\theta_{i}^{2}} - \\frac{x_{i4}^{2} \\cdot \\left(1 - \\cos{\\left(\\theta_{i} \\right)}\\right)}{\\theta_{i}^{2}}\\right) \\left(1 - \\frac{z_{3}^{2} \\cdot \\left(1 - \\cos{\\left(\\theta_{z} \\right)}\\right)}{\\theta_{z}^{2}} - \\frac{z_{4}^{2} \\cdot \\left(1 - \\cos{\\left(\\theta_{z} \\right)}\\right)}{\\theta_{z}^{2}}\\right)\\right) + \\left(\\frac{x_{j4} \\sin{\\left(\\theta_{j} \\right)}}{\\theta_{j}} + \\frac{x_{j3} x_{j5} \\cdot \\left(1 - \\cos{\\left(\\theta_{j} \\right)}\\right)}{\\theta_{j}^{2}}\\right) \\left(\\left(\\frac{x_{i4} \\sin{\\left(\\theta_{i} \\right)}}{\\theta_{i}} + \\frac{x_{i3} x_{i5} \\cdot \\left(1 - \\cos{\\left(\\theta_{i} \\right)}\\right)}{\\theta_{i}^{2}}\\right) \\left(- \\frac{z_{4} \\sin{\\left(\\theta_{z} \\right)}}{\\theta_{z}} + \\frac{z_{3} z_{5} \\cdot \\left(1 - \\cos{\\left(\\theta_{z} \\right)}\\right)}{\\theta_{z}^{2}}\\right) + \\left(- \\frac{x_{i5} \\sin{\\left(\\theta_{i} \\right)}}{\\theta_{i}} + \\frac{x_{i3} x_{i4} \\cdot \\left(1 - \\cos{\\left(\\theta_{i} \\right)}\\right)}{\\theta_{i}^{2}}\\right) \\left(\\frac{z_{5} \\sin{\\left(\\theta_{z} \\right)}}{\\theta_{z}} + \\frac{z_{3} z_{4} \\cdot \\left(1 - \\cos{\\left(\\theta_{z} \\right)}\\right)}{\\theta_{z}^{2}}\\right) + \\left(1 - \\frac{x_{i4}^{2} \\cdot \\left(1 - \\cos{\\left(\\theta_{i} \\right)}\\right)}{\\theta_{i}^{2}} - \\frac{x_{i5}^{2} \\cdot \\left(1 - \\cos{\\left(\\theta_{i} \\right)}\\right)}{\\theta_{i}^{2}}\\right) \\left(1 - \\frac{z_{4}^{2} \\cdot \\left(1 - \\cos{\\left(\\theta_{z} \\right)}\\right)}{\\theta_{z}^{2}} - \\frac{z_{5}^{2} \\cdot \\left(1 - \\cos{\\left(\\theta_{z} \\right)}\\right)}{\\theta_{z}^{2}}\\right)\\right) - \\left(\\frac{x_{j5} \\sin{\\left(\\theta_{j} \\right)}}{\\theta_{j}} + \\frac{x_{j3} x_{j4} \\cdot \\left(1 - \\cos{\\left(\\theta_{j} \\right)}\\right)}{\\theta_{j}^{2}}\\right) \\left(\\left(- \\frac{x_{i3} \\sin{\\left(\\theta_{i} \\right)}}{\\theta_{i}} + \\frac{x_{i4} x_{i5} \\cdot \\left(1 - \\cos{\\left(\\theta_{i} \\right)}\\right)}{\\theta_{i}^{2}}\\right) \\left(1 - \\frac{z_{3}^{2} \\cdot \\left(1 - \\cos{\\left(\\theta_{z} \\right)}\\right)}{\\theta_{z}^{2}} - \\frac{z_{4}^{2} \\cdot \\left(1 - \\cos{\\left(\\theta_{z} \\right)}\\right)}{\\theta_{z}^{2}}\\right) + \\left(\\frac{x_{i5} \\sin{\\left(\\theta_{i} \\right)}}{\\theta_{i}} + \\frac{x_{i3} x_{i4} \\cdot \\left(1 - \\cos{\\left(\\theta_{i} \\right)}\\right)}{\\theta_{i}^{2}}\\right) \\left(\\frac{z_{4} \\sin{\\left(\\theta_{z} \\right)}}{\\theta_{z}} + \\frac{z_{3} z_{5} \\cdot \\left(1 - \\cos{\\left(\\theta_{z} \\right)}\\right)}{\\theta_{z}^{2}}\\right) + \\left(- \\frac{z_{3} \\sin{\\left(\\theta_{z} \\right)}}{\\theta_{z}} + \\frac{z_{4} z_{5} \\cdot \\left(1 - \\cos{\\left(\\theta_{z} \\right)}\\right)}{\\theta_{z}^{2}}\\right) \\left(1 - \\frac{x_{i3}^{2} \\cdot \\left(1 - \\cos{\\left(\\theta_{i} \\right)}\\right)}{\\theta_{i}^{2}} - \\frac{x_{i5}^{2} \\cdot \\left(1 - \\cos{\\left(\\theta_{i} \\right)}\\right)}{\\theta_{i}^{2}}\\right)\\right) + \\left(1 - \\frac{x_{j3}^{2} \\cdot \\left(1 - \\cos{\\left(\\theta_{j} \\right)}\\right)}{\\theta_{j}^{2}} - \\frac{x_{j4}^{2} \\cdot \\left(1 - \\cos{\\left(\\theta_{j} \\right)}\\right)}{\\theta_{j}^{2}}\\right) \\left(\\left(\\frac{x_{i3} \\sin{\\left(\\theta_{i} \\right)}}{\\theta_{i}} + \\frac{x_{i4} x_{i5} \\cdot \\left(1 - \\cos{\\left(\\theta_{i} \\right)}\\right)}{\\theta_{i}^{2}}\\right) \\left(\\frac{z_{5} \\sin{\\left(\\theta_{z} \\right)}}{\\theta_{z}} + \\frac{z_{3} z_{4} \\cdot \\left(1 - \\cos{\\left(\\theta_{z} \\right)}\\right)}{\\theta_{z}^{2}}\\right) + \\left(- \\frac{x_{i4} \\sin{\\left(\\theta_{i} \\right)}}{\\theta_{i}} + \\frac{x_{i3} x_{i5} \\cdot \\left(1 - \\cos{\\left(\\theta_{i} \\right)}\\right)}{\\theta_{i}^{2}}\\right) \\left(1 - \\frac{z_{4}^{2} \\cdot \\left(1 - \\cos{\\left(\\theta_{z} \\right)}\\right)}{\\theta_{z}^{2}} - \\frac{z_{5}^{2} \\cdot \\left(1 - \\cos{\\left(\\theta_{z} \\right)}\\right)}{\\theta_{z}^{2}}\\right) + \\left(- \\frac{z_{4} \\sin{\\left(\\theta_{z} \\right)}}{\\theta_{z}} + \\frac{z_{3} z_{5} \\cdot \\left(1 - \\cos{\\left(\\theta_{z} \\right)}\\right)}{\\theta_{z}^{2}}\\right) \\left(1 - \\frac{x_{i3}^{2} \\cdot \\left(1 - \\cos{\\left(\\theta_{i} \\right)}\\right)}{\\theta_{i}^{2}} - \\frac{x_{i4}^{2} \\cdot \\left(1 - \\cos{\\left(\\theta_{i} \\right)}\\right)}{\\theta_{i}^{2}}\\right)\\right) - \\left(1 - \\frac{x_{j4}^{2} \\cdot \\left(1 - \\cos{\\left(\\theta_{j} \\right)}\\right)}{\\theta_{j}^{2}} - \\frac{x_{j5}^{2} \\cdot \\left(1 - \\cos{\\left(\\theta_{j} \\right)}\\right)}{\\theta_{j}^{2}}\\right) \\left(\\left(\\frac{x_{i4} \\sin{\\left(\\theta_{i} \\right)}}{\\theta_{i}} + \\frac{x_{i3} x_{i5} \\cdot \\left(1 - \\cos{\\left(\\theta_{i} \\right)}\\right)}{\\theta_{i}^{2}}\\right) \\left(1 - \\frac{z_{3}^{2} \\cdot \\left(1 - \\cos{\\left(\\theta_{z} \\right)}\\right)}{\\theta_{z}^{2}} - \\frac{z_{4}^{2} \\cdot \\left(1 - \\cos{\\left(\\theta_{z} \\right)}\\right)}{\\theta_{z}^{2}}\\right) + \\left(- \\frac{x_{i5} \\sin{\\left(\\theta_{i} \\right)}}{\\theta_{i}} + \\frac{x_{i3} x_{i4} \\cdot \\left(1 - \\cos{\\left(\\theta_{i} \\right)}\\right)}{\\theta_{i}^{2}}\\right) \\left(- \\frac{z_{3} \\sin{\\left(\\theta_{z} \\right)}}{\\theta_{z}} + \\frac{z_{4} z_{5} \\cdot \\left(1 - \\cos{\\left(\\theta_{z} \\right)}\\right)}{\\theta_{z}^{2}}\\right) + \\left(\\frac{z_{4} \\sin{\\left(\\theta_{z} \\right)}}{\\theta_{z}} + \\frac{z_{3} z_{5} \\cdot \\left(1 - \\cos{\\left(\\theta_{z} \\right)}\\right)}{\\theta_{z}^{2}}\\right) \\left(1 - \\frac{x_{i4}^{2} \\cdot \\left(1 - \\cos{\\left(\\theta_{i} \\right)}\\right)}{\\theta_{i}^{2}} - \\frac{x_{i5}^{2} \\cdot \\left(1 - \\cos{\\left(\\theta_{i} \\right)}\\right)}{\\theta_{i}^{2}}\\right)\\right)\\right) \\operatorname{acos}{\\left(\\frac{\\left(- \\frac{x_{j3} \\sin{\\left(\\theta_{j} \\right)}}{\\theta_{j}} + \\frac{x_{j4} x_{j5} \\cdot \\left(1 - \\cos{\\left(\\theta_{j} \\right)}\\right)}{\\theta_{j}^{2}}\\right) \\left(\\left(- \\frac{x_{i3} \\sin{\\left(\\theta_{i} \\right)}}{\\theta_{i}} + \\frac{x_{i4} x_{i5} \\cdot \\left(1 - \\cos{\\left(\\theta_{i} \\right)}\\right)}{\\theta_{i}^{2}}\\right) \\left(1 - \\frac{z_{3}^{2} \\cdot \\left(1 - \\cos{\\left(\\theta_{z} \\right)}\\right)}{\\theta_{z}^{2}} - \\frac{z_{4}^{2} \\cdot \\left(1 - \\cos{\\left(\\theta_{z} \\right)}\\right)}{\\theta_{z}^{2}}\\right) + \\left(\\frac{x_{i5} \\sin{\\left(\\theta_{i} \\right)}}{\\theta_{i}} + \\frac{x_{i3} x_{i4} \\cdot \\left(1 - \\cos{\\left(\\theta_{i} \\right)}\\right)}{\\theta_{i}^{2}}\\right) \\left(\\frac{z_{4} \\sin{\\left(\\theta_{z} \\right)}}{\\theta_{z}} + \\frac{z_{3} z_{5} \\cdot \\left(1 - \\cos{\\left(\\theta_{z} \\right)}\\right)}{\\theta_{z}^{2}}\\right) + \\left(- \\frac{z_{3} \\sin{\\left(\\theta_{z} \\right)}}{\\theta_{z}} + \\frac{z_{4} z_{5} \\cdot \\left(1 - \\cos{\\left(\\theta_{z} \\right)}\\right)}{\\theta_{z}^{2}}\\right) \\left(1 - \\frac{x_{i3}^{2} \\cdot \\left(1 - \\cos{\\left(\\theta_{i} \\right)}\\right)}{\\theta_{i}^{2}} - \\frac{x_{i5}^{2} \\cdot \\left(1 - \\cos{\\left(\\theta_{i} \\right)}\\right)}{\\theta_{i}^{2}}\\right)\\right)}{2} + \\frac{\\left(\\frac{x_{j3} \\sin{\\left(\\theta_{j} \\right)}}{\\theta_{j}} + \\frac{x_{j4} x_{j5} \\cdot \\left(1 - \\cos{\\left(\\theta_{j} \\right)}\\right)}{\\theta_{j}^{2}}\\right) \\left(\\left(\\frac{x_{i3} \\sin{\\left(\\theta_{i} \\right)}}{\\theta_{i}} + \\frac{x_{i4} x_{i5} \\cdot \\left(1 - \\cos{\\left(\\theta_{i} \\right)}\\right)}{\\theta_{i}^{2}}\\right) \\left(1 - \\frac{z_{3}^{2} \\cdot \\left(1 - \\cos{\\left(\\theta_{z} \\right)}\\right)}{\\theta_{z}^{2}} - \\frac{z_{5}^{2} \\cdot \\left(1 - \\cos{\\left(\\theta_{z} \\right)}\\right)}{\\theta_{z}^{2}}\\right) + \\left(- \\frac{x_{i4} \\sin{\\left(\\theta_{i} \\right)}}{\\theta_{i}} + \\frac{x_{i3} x_{i5} \\cdot \\left(1 - \\cos{\\left(\\theta_{i} \\right)}\\right)}{\\theta_{i}^{2}}\\right) \\left(- \\frac{z_{5} \\sin{\\left(\\theta_{z} \\right)}}{\\theta_{z}} + \\frac{z_{3} z_{4} \\cdot \\left(1 - \\cos{\\left(\\theta_{z} \\right)}\\right)}{\\theta_{z}^{2}}\\right) + \\left(\\frac{z_{3} \\sin{\\left(\\theta_{z} \\right)}}{\\theta_{z}} + \\frac{z_{4} z_{5} \\cdot \\left(1 - \\cos{\\left(\\theta_{z} \\right)}\\right)}{\\theta_{z}^{2}}\\right) \\left(1 - \\frac{x_{i3}^{2} \\cdot \\left(1 - \\cos{\\left(\\theta_{i} \\right)}\\right)}{\\theta_{i}^{2}} - \\frac{x_{i4}^{2} \\cdot \\left(1 - \\cos{\\left(\\theta_{i} \\right)}\\right)}{\\theta_{i}^{2}}\\right)\\right)}{2} + \\frac{\\left(- \\frac{x_{j4} \\sin{\\left(\\theta_{j} \\right)}}{\\theta_{j}} + \\frac{x_{j3} x_{j5} \\cdot \\left(1 - \\cos{\\left(\\theta_{j} \\right)}\\right)}{\\theta_{j}^{2}}\\right) \\left(\\left(\\frac{x_{i3} \\sin{\\left(\\theta_{i} \\right)}}{\\theta_{i}} + \\frac{x_{i4} x_{i5} \\cdot \\left(1 - \\cos{\\left(\\theta_{i} \\right)}\\right)}{\\theta_{i}^{2}}\\right) \\left(\\frac{z_{5} \\sin{\\left(\\theta_{z} \\right)}}{\\theta_{z}} + \\frac{z_{3} z_{4} \\cdot \\left(1 - \\cos{\\left(\\theta_{z} \\right)}\\right)}{\\theta_{z}^{2}}\\right) + \\left(- \\frac{x_{i4} \\sin{\\left(\\theta_{i} \\right)}}{\\theta_{i}} + \\frac{x_{i3} x_{i5} \\cdot \\left(1 - \\cos{\\left(\\theta_{i} \\right)}\\right)}{\\theta_{i}^{2}}\\right) \\left(1 - \\frac{z_{4}^{2} \\cdot \\left(1 - \\cos{\\left(\\theta_{z} \\right)}\\right)}{\\theta_{z}^{2}} - \\frac{z_{5}^{2} \\cdot \\left(1 - \\cos{\\left(\\theta_{z} \\right)}\\right)}{\\theta_{z}^{2}}\\right) + \\left(- \\frac{z_{4} \\sin{\\left(\\theta_{z} \\right)}}{\\theta_{z}} + \\frac{z_{3} z_{5} \\cdot \\left(1 - \\cos{\\left(\\theta_{z} \\right)}\\right)}{\\theta_{z}^{2}}\\right) \\left(1 - \\frac{x_{i3}^{2} \\cdot \\left(1 - \\cos{\\left(\\theta_{i} \\right)}\\right)}{\\theta_{i}^{2}} - \\frac{x_{i4}^{2} \\cdot \\left(1 - \\cos{\\left(\\theta_{i} \\right)}\\right)}{\\theta_{i}^{2}}\\right)\\right)}{2} + \\frac{\\left(\\frac{x_{j4} \\sin{\\left(\\theta_{j} \\right)}}{\\theta_{j}} + \\frac{x_{j3} x_{j5} \\cdot \\left(1 - \\cos{\\left(\\theta_{j} \\right)}\\right)}{\\theta_{j}^{2}}\\right) \\left(\\left(\\frac{x_{i4} \\sin{\\left(\\theta_{i} \\right)}}{\\theta_{i}} + \\frac{x_{i3} x_{i5} \\cdot \\left(1 - \\cos{\\left(\\theta_{i} \\right)}\\right)}{\\theta_{i}^{2}}\\right) \\left(1 - \\frac{z_{3}^{2} \\cdot \\left(1 - \\cos{\\left(\\theta_{z} \\right)}\\right)}{\\theta_{z}^{2}} - \\frac{z_{4}^{2} \\cdot \\left(1 - \\cos{\\left(\\theta_{z} \\right)}\\right)}{\\theta_{z}^{2}}\\right) + \\left(- \\frac{x_{i5} \\sin{\\left(\\theta_{i} \\right)}}{\\theta_{i}} + \\frac{x_{i3} x_{i4} \\cdot \\left(1 - \\cos{\\left(\\theta_{i} \\right)}\\right)}{\\theta_{i}^{2}}\\right) \\left(- \\frac{z_{3} \\sin{\\left(\\theta_{z} \\right)}}{\\theta_{z}} + \\frac{z_{4} z_{5} \\cdot \\left(1 - \\cos{\\left(\\theta_{z} \\right)}\\right)}{\\theta_{z}^{2}}\\right) + \\left(\\frac{z_{4} \\sin{\\left(\\theta_{z} \\right)}}{\\theta_{z}} + \\frac{z_{3} z_{5} \\cdot \\left(1 - \\cos{\\left(\\theta_{z} \\right)}\\right)}{\\theta_{z}^{2}}\\right) \\left(1 - \\frac{x_{i4}^{2} \\cdot \\left(1 - \\cos{\\left(\\theta_{i} \\right)}\\right)}{\\theta_{i}^{2}} - \\frac{x_{i5}^{2} \\cdot \\left(1 - \\cos{\\left(\\theta_{i} \\right)}\\right)}{\\theta_{i}^{2}}\\right)\\right)}{2} + \\frac{\\left(- \\frac{x_{j5} \\sin{\\left(\\theta_{j} \\right)}}{\\theta_{j}} + \\frac{x_{j3} x_{j4} \\cdot \\left(1 - \\cos{\\left(\\theta_{j} \\right)}\\right)}{\\theta_{j}^{2}}\\right) \\left(\\left(\\frac{x_{i4} \\sin{\\left(\\theta_{i} \\right)}}{\\theta_{i}} + \\frac{x_{i3} x_{i5} \\cdot \\left(1 - \\cos{\\left(\\theta_{i} \\right)}\\right)}{\\theta_{i}^{2}}\\right) \\left(\\frac{z_{3} \\sin{\\left(\\theta_{z} \\right)}}{\\theta_{z}} + \\frac{z_{4} z_{5} \\cdot \\left(1 - \\cos{\\left(\\theta_{z} \\right)}\\right)}{\\theta_{z}^{2}}\\right) + \\left(- \\frac{x_{i5} \\sin{\\left(\\theta_{i} \\right)}}{\\theta_{i}} + \\frac{x_{i3} x_{i4} \\cdot \\left(1 - \\cos{\\left(\\theta_{i} \\right)}\\right)}{\\theta_{i}^{2}}\\right) \\left(1 - \\frac{z_{3}^{2} \\cdot \\left(1 - \\cos{\\left(\\theta_{z} \\right)}\\right)}{\\theta_{z}^{2}} - \\frac{z_{5}^{2} \\cdot \\left(1 - \\cos{\\left(\\theta_{z} \\right)}\\right)}{\\theta_{z}^{2}}\\right) + \\left(- \\frac{z_{5} \\sin{\\left(\\theta_{z} \\right)}}{\\theta_{z}} + \\frac{z_{3} z_{4} \\cdot \\left(1 - \\cos{\\left(\\theta_{z} \\right)}\\right)}{\\theta_{z}^{2}}\\right) \\left(1 - \\frac{x_{i4}^{2} \\cdot \\left(1 - \\cos{\\left(\\theta_{i} \\right)}\\right)}{\\theta_{i}^{2}} - \\frac{x_{i5}^{2} \\cdot \\left(1 - \\cos{\\left(\\theta_{i} \\right)}\\right)}{\\theta_{i}^{2}}\\right)\\right)}{2} + \\frac{\\left(\\frac{x_{j5} \\sin{\\left(\\theta_{j} \\right)}}{\\theta_{j}} + \\frac{x_{j3} x_{j4} \\cdot \\left(1 - \\cos{\\left(\\theta_{j} \\right)}\\right)}{\\theta_{j}^{2}}\\right) \\left(\\left(- \\frac{x_{i3} \\sin{\\left(\\theta_{i} \\right)}}{\\theta_{i}} + \\frac{x_{i4} x_{i5} \\cdot \\left(1 - \\cos{\\left(\\theta_{i} \\right)}\\right)}{\\theta_{i}^{2}}\\right) \\left(- \\frac{z_{4} \\sin{\\left(\\theta_{z} \\right)}}{\\theta_{z}} + \\frac{z_{3} z_{5} \\cdot \\left(1 - \\cos{\\left(\\theta_{z} \\right)}\\right)}{\\theta_{z}^{2}}\\right) + \\left(\\frac{x_{i5} \\sin{\\left(\\theta_{i} \\right)}}{\\theta_{i}} + \\frac{x_{i3} x_{i4} \\cdot \\left(1 - \\cos{\\left(\\theta_{i} \\right)}\\right)}{\\theta_{i}^{2}}\\right) \\left(1 - \\frac{z_{4}^{2} \\cdot \\left(1 - \\cos{\\left(\\theta_{z} \\right)}\\right)}{\\theta_{z}^{2}} - \\frac{z_{5}^{2} \\cdot \\left(1 - \\cos{\\left(\\theta_{z} \\right)}\\right)}{\\theta_{z}^{2}}\\right) + \\left(\\frac{z_{5} \\sin{\\left(\\theta_{z} \\right)}}{\\theta_{z}} + \\frac{z_{3} z_{4} \\cdot \\left(1 - \\cos{\\left(\\theta_{z} \\right)}\\right)}{\\theta_{z}^{2}}\\right) \\left(1 - \\frac{x_{i3}^{2} \\cdot \\left(1 - \\cos{\\left(\\theta_{i} \\right)}\\right)}{\\theta_{i}^{2}} - \\frac{x_{i5}^{2} \\cdot \\left(1 - \\cos{\\left(\\theta_{i} \\right)}\\right)}{\\theta_{i}^{2}}\\right)\\right)}{2} + \\frac{\\left(1 - \\frac{x_{j3}^{2} \\cdot \\left(1 - \\cos{\\left(\\theta_{j} \\right)}\\right)}{\\theta_{j}^{2}} - \\frac{x_{j4}^{2} \\cdot \\left(1 - \\cos{\\left(\\theta_{j} \\right)}\\right)}{\\theta_{j}^{2}}\\right) \\left(\\left(\\frac{x_{i3} \\sin{\\left(\\theta_{i} \\right)}}{\\theta_{i}} + \\frac{x_{i4} x_{i5} \\cdot \\left(1 - \\cos{\\left(\\theta_{i} \\right)}\\right)}{\\theta_{i}^{2}}\\right) \\left(- \\frac{z_{3} \\sin{\\left(\\theta_{z} \\right)}}{\\theta_{z}} + \\frac{z_{4} z_{5} \\cdot \\left(1 - \\cos{\\left(\\theta_{z} \\right)}\\right)}{\\theta_{z}^{2}}\\right) + \\left(- \\frac{x_{i4} \\sin{\\left(\\theta_{i} \\right)}}{\\theta_{i}} + \\frac{x_{i3} x_{i5} \\cdot \\left(1 - \\cos{\\left(\\theta_{i} \\right)}\\right)}{\\theta_{i}^{2}}\\right) \\left(\\frac{z_{4} \\sin{\\left(\\theta_{z} \\right)}}{\\theta_{z}} + \\frac{z_{3} z_{5} \\cdot \\left(1 - \\cos{\\left(\\theta_{z} \\right)}\\right)}{\\theta_{z}^{2}}\\right) + \\left(1 - \\frac{x_{i3}^{2} \\cdot \\left(1 - \\cos{\\left(\\theta_{i} \\right)}\\right)}{\\theta_{i}^{2}} - \\frac{x_{i4}^{2} \\cdot \\left(1 - \\cos{\\left(\\theta_{i} \\right)}\\right)}{\\theta_{i}^{2}}\\right) \\left(1 - \\frac{z_{3}^{2} \\cdot \\left(1 - \\cos{\\left(\\theta_{z} \\right)}\\right)}{\\theta_{z}^{2}} - \\frac{z_{4}^{2} \\cdot \\left(1 - \\cos{\\left(\\theta_{z} \\right)}\\right)}{\\theta_{z}^{2}}\\right)\\right)}{2} + \\frac{\\left(1 - \\frac{x_{j3}^{2} \\cdot \\left(1 - \\cos{\\left(\\theta_{j} \\right)}\\right)}{\\theta_{j}^{2}} - \\frac{x_{j5}^{2} \\cdot \\left(1 - \\cos{\\left(\\theta_{j} \\right)}\\right)}{\\theta_{j}^{2}}\\right) \\left(\\left(- \\frac{x_{i3} \\sin{\\left(\\theta_{i} \\right)}}{\\theta_{i}} + \\frac{x_{i4} x_{i5} \\cdot \\left(1 - \\cos{\\left(\\theta_{i} \\right)}\\right)}{\\theta_{i}^{2}}\\right) \\left(\\frac{z_{3} \\sin{\\left(\\theta_{z} \\right)}}{\\theta_{z}} + \\frac{z_{4} z_{5} \\cdot \\left(1 - \\cos{\\left(\\theta_{z} \\right)}\\right)}{\\theta_{z}^{2}}\\right) + \\left(\\frac{x_{i5} \\sin{\\left(\\theta_{i} \\right)}}{\\theta_{i}} + \\frac{x_{i3} x_{i4} \\cdot \\left(1 - \\cos{\\left(\\theta_{i} \\right)}\\right)}{\\theta_{i}^{2}}\\right) \\left(- \\frac{z_{5} \\sin{\\left(\\theta_{z} \\right)}}{\\theta_{z}} + \\frac{z_{3} z_{4} \\cdot \\left(1 - \\cos{\\left(\\theta_{z} \\right)}\\right)}{\\theta_{z}^{2}}\\right) + \\left(1 - \\frac{x_{i3}^{2} \\cdot \\left(1 - \\cos{\\left(\\theta_{i} \\right)}\\right)}{\\theta_{i}^{2}} - \\frac{x_{i5}^{2} \\cdot \\left(1 - \\cos{\\left(\\theta_{i} \\right)}\\right)}{\\theta_{i}^{2}}\\right) \\left(1 - \\frac{z_{3}^{2} \\cdot \\left(1 - \\cos{\\left(\\theta_{z} \\right)}\\right)}{\\theta_{z}^{2}} - \\frac{z_{5}^{2} \\cdot \\left(1 - \\cos{\\left(\\theta_{z} \\right)}\\right)}{\\theta_{z}^{2}}\\right)\\right)}{2} + \\frac{\\left(1 - \\frac{x_{j4}^{2} \\cdot \\left(1 - \\cos{\\left(\\theta_{j} \\right)}\\right)}{\\theta_{j}^{2}} - \\frac{x_{j5}^{2} \\cdot \\left(1 - \\cos{\\left(\\theta_{j} \\right)}\\right)}{\\theta_{j}^{2}}\\right) \\left(\\left(\\frac{x_{i4} \\sin{\\left(\\theta_{i} \\right)}}{\\theta_{i}} + \\frac{x_{i3} x_{i5} \\cdot \\left(1 - \\cos{\\left(\\theta_{i} \\right)}\\right)}{\\theta_{i}^{2}}\\right) \\left(- \\frac{z_{4} \\sin{\\left(\\theta_{z} \\right)}}{\\theta_{z}} + \\frac{z_{3} z_{5} \\cdot \\left(1 - \\cos{\\left(\\theta_{z} \\right)}\\right)}{\\theta_{z}^{2}}\\right) + \\left(- \\frac{x_{i5} \\sin{\\left(\\theta_{i} \\right)}}{\\theta_{i}} + \\frac{x_{i3} x_{i4} \\cdot \\left(1 - \\cos{\\left(\\theta_{i} \\right)}\\right)}{\\theta_{i}^{2}}\\right) \\left(\\frac{z_{5} \\sin{\\left(\\theta_{z} \\right)}}{\\theta_{z}} + \\frac{z_{3} z_{4} \\cdot \\left(1 - \\cos{\\left(\\theta_{z} \\right)}\\right)}{\\theta_{z}^{2}}\\right) + \\left(1 - \\frac{x_{i4}^{2} \\cdot \\left(1 - \\cos{\\left(\\theta_{i} \\right)}\\right)}{\\theta_{i}^{2}} - \\frac{x_{i5}^{2} \\cdot \\left(1 - \\cos{\\left(\\theta_{i} \\right)}\\right)}{\\theta_{i}^{2}}\\right) \\left(1 - \\frac{z_{4}^{2} \\cdot \\left(1 - \\cos{\\left(\\theta_{z} \\right)}\\right)}{\\theta_{z}^{2}} - \\frac{z_{5}^{2} \\cdot \\left(1 - \\cos{\\left(\\theta_{z} \\right)}\\right)}{\\theta_{z}^{2}}\\right)\\right)}{2} - \\frac{1}{2} \\right)}}{2 \\sqrt{1 - \\left(\\frac{\\left(- \\frac{x_{j3} \\sin{\\left(\\theta_{j} \\right)}}{\\theta_{j}} + \\frac{x_{j4} x_{j5} \\cdot \\left(1 - \\cos{\\left(\\theta_{j} \\right)}\\right)}{\\theta_{j}^{2}}\\right) \\left(\\left(- \\frac{x_{i3} \\sin{\\left(\\theta_{i} \\right)}}{\\theta_{i}} + \\frac{x_{i4} x_{i5} \\cdot \\left(1 - \\cos{\\left(\\theta_{i} \\right)}\\right)}{\\theta_{i}^{2}}\\right) \\left(1 - \\frac{z_{3}^{2} \\cdot \\left(1 - \\cos{\\left(\\theta_{z} \\right)}\\right)}{\\theta_{z}^{2}} - \\frac{z_{4}^{2} \\cdot \\left(1 - \\cos{\\left(\\theta_{z} \\right)}\\right)}{\\theta_{z}^{2}}\\right) + \\left(\\frac{x_{i5} \\sin{\\left(\\theta_{i} \\right)}}{\\theta_{i}} + \\frac{x_{i3} x_{i4} \\cdot \\left(1 - \\cos{\\left(\\theta_{i} \\right)}\\right)}{\\theta_{i}^{2}}\\right) \\left(\\frac{z_{4} \\sin{\\left(\\theta_{z} \\right)}}{\\theta_{z}} + \\frac{z_{3} z_{5} \\cdot \\left(1 - \\cos{\\left(\\theta_{z} \\right)}\\right)}{\\theta_{z}^{2}}\\right) + \\left(- \\frac{z_{3} \\sin{\\left(\\theta_{z} \\right)}}{\\theta_{z}} + \\frac{z_{4} z_{5} \\cdot \\left(1 - \\cos{\\left(\\theta_{z} \\right)}\\right)}{\\theta_{z}^{2}}\\right) \\left(1 - \\frac{x_{i3}^{2} \\cdot \\left(1 - \\cos{\\left(\\theta_{i} \\right)}\\right)}{\\theta_{i}^{2}} - \\frac{x_{i5}^{2} \\cdot \\left(1 - \\cos{\\left(\\theta_{i} \\right)}\\right)}{\\theta_{i}^{2}}\\right)\\right)}{2} + \\frac{\\left(\\frac{x_{j3} \\sin{\\left(\\theta_{j} \\right)}}{\\theta_{j}} + \\frac{x_{j4} x_{j5} \\cdot \\left(1 - \\cos{\\left(\\theta_{j} \\right)}\\right)}{\\theta_{j}^{2}}\\right) \\left(\\left(\\frac{x_{i3} \\sin{\\left(\\theta_{i} \\right)}}{\\theta_{i}} + \\frac{x_{i4} x_{i5} \\cdot \\left(1 - \\cos{\\left(\\theta_{i} \\right)}\\right)}{\\theta_{i}^{2}}\\right) \\left(1 - \\frac{z_{3}^{2} \\cdot \\left(1 - \\cos{\\left(\\theta_{z} \\right)}\\right)}{\\theta_{z}^{2}} - \\frac{z_{5}^{2} \\cdot \\left(1 - \\cos{\\left(\\theta_{z} \\right)}\\right)}{\\theta_{z}^{2}}\\right) + \\left(- \\frac{x_{i4} \\sin{\\left(\\theta_{i} \\right)}}{\\theta_{i}} + \\frac{x_{i3} x_{i5} \\cdot \\left(1 - \\cos{\\left(\\theta_{i} \\right)}\\right)}{\\theta_{i}^{2}}\\right) \\left(- \\frac{z_{5} \\sin{\\left(\\theta_{z} \\right)}}{\\theta_{z}} + \\frac{z_{3} z_{4} \\cdot \\left(1 - \\cos{\\left(\\theta_{z} \\right)}\\right)}{\\theta_{z}^{2}}\\right) + \\left(\\frac{z_{3} \\sin{\\left(\\theta_{z} \\right)}}{\\theta_{z}} + \\frac{z_{4} z_{5} \\cdot \\left(1 - \\cos{\\left(\\theta_{z} \\right)}\\right)}{\\theta_{z}^{2}}\\right) \\left(1 - \\frac{x_{i3}^{2} \\cdot \\left(1 - \\cos{\\left(\\theta_{i} \\right)}\\right)}{\\theta_{i}^{2}} - \\frac{x_{i4}^{2} \\cdot \\left(1 - \\cos{\\left(\\theta_{i} \\right)}\\right)}{\\theta_{i}^{2}}\\right)\\right)}{2} + \\frac{\\left(- \\frac{x_{j4} \\sin{\\left(\\theta_{j} \\right)}}{\\theta_{j}} + \\frac{x_{j3} x_{j5} \\cdot \\left(1 - \\cos{\\left(\\theta_{j} \\right)}\\right)}{\\theta_{j}^{2}}\\right) \\left(\\left(\\frac{x_{i3} \\sin{\\left(\\theta_{i} \\right)}}{\\theta_{i}} + \\frac{x_{i4} x_{i5} \\cdot \\left(1 - \\cos{\\left(\\theta_{i} \\right)}\\right)}{\\theta_{i}^{2}}\\right) \\left(\\frac{z_{5} \\sin{\\left(\\theta_{z} \\right)}}{\\theta_{z}} + \\frac{z_{3} z_{4} \\cdot \\left(1 - \\cos{\\left(\\theta_{z} \\right)}\\right)}{\\theta_{z}^{2}}\\right) + \\left(- \\frac{x_{i4} \\sin{\\left(\\theta_{i} \\right)}}{\\theta_{i}} + \\frac{x_{i3} x_{i5} \\cdot \\left(1 - \\cos{\\left(\\theta_{i} \\right)}\\right)}{\\theta_{i}^{2}}\\right) \\left(1 - \\frac{z_{4}^{2} \\cdot \\left(1 - \\cos{\\left(\\theta_{z} \\right)}\\right)}{\\theta_{z}^{2}} - \\frac{z_{5}^{2} \\cdot \\left(1 - \\cos{\\left(\\theta_{z} \\right)}\\right)}{\\theta_{z}^{2}}\\right) + \\left(- \\frac{z_{4} \\sin{\\left(\\theta_{z} \\right)}}{\\theta_{z}} + \\frac{z_{3} z_{5} \\cdot \\left(1 - \\cos{\\left(\\theta_{z} \\right)}\\right)}{\\theta_{z}^{2}}\\right) \\left(1 - \\frac{x_{i3}^{2} \\cdot \\left(1 - \\cos{\\left(\\theta_{i} \\right)}\\right)}{\\theta_{i}^{2}} - \\frac{x_{i4}^{2} \\cdot \\left(1 - \\cos{\\left(\\theta_{i} \\right)}\\right)}{\\theta_{i}^{2}}\\right)\\right)}{2} + \\frac{\\left(\\frac{x_{j4} \\sin{\\left(\\theta_{j} \\right)}}{\\theta_{j}} + \\frac{x_{j3} x_{j5} \\cdot \\left(1 - \\cos{\\left(\\theta_{j} \\right)}\\right)}{\\theta_{j}^{2}}\\right) \\left(\\left(\\frac{x_{i4} \\sin{\\left(\\theta_{i} \\right)}}{\\theta_{i}} + \\frac{x_{i3} x_{i5} \\cdot \\left(1 - \\cos{\\left(\\theta_{i} \\right)}\\right)}{\\theta_{i}^{2}}\\right) \\left(1 - \\frac{z_{3}^{2} \\cdot \\left(1 - \\cos{\\left(\\theta_{z} \\right)}\\right)}{\\theta_{z}^{2}} - \\frac{z_{4}^{2} \\cdot \\left(1 - \\cos{\\left(\\theta_{z} \\right)}\\right)}{\\theta_{z}^{2}}\\right) + \\left(- \\frac{x_{i5} \\sin{\\left(\\theta_{i} \\right)}}{\\theta_{i}} + \\frac{x_{i3} x_{i4} \\cdot \\left(1 - \\cos{\\left(\\theta_{i} \\right)}\\right)}{\\theta_{i}^{2}}\\right) \\left(- \\frac{z_{3} \\sin{\\left(\\theta_{z} \\right)}}{\\theta_{z}} + \\frac{z_{4} z_{5} \\cdot \\left(1 - \\cos{\\left(\\theta_{z} \\right)}\\right)}{\\theta_{z}^{2}}\\right) + \\left(\\frac{z_{4} \\sin{\\left(\\theta_{z} \\right)}}{\\theta_{z}} + \\frac{z_{3} z_{5} \\cdot \\left(1 - \\cos{\\left(\\theta_{z} \\right)}\\right)}{\\theta_{z}^{2}}\\right) \\left(1 - \\frac{x_{i4}^{2} \\cdot \\left(1 - \\cos{\\left(\\theta_{i} \\right)}\\right)}{\\theta_{i}^{2}} - \\frac{x_{i5}^{2} \\cdot \\left(1 - \\cos{\\left(\\theta_{i} \\right)}\\right)}{\\theta_{i}^{2}}\\right)\\right)}{2} + \\frac{\\left(- \\frac{x_{j5} \\sin{\\left(\\theta_{j} \\right)}}{\\theta_{j}} + \\frac{x_{j3} x_{j4} \\cdot \\left(1 - \\cos{\\left(\\theta_{j} \\right)}\\right)}{\\theta_{j}^{2}}\\right) \\left(\\left(\\frac{x_{i4} \\sin{\\left(\\theta_{i} \\right)}}{\\theta_{i}} + \\frac{x_{i3} x_{i5} \\cdot \\left(1 - \\cos{\\left(\\theta_{i} \\right)}\\right)}{\\theta_{i}^{2}}\\right) \\left(\\frac{z_{3} \\sin{\\left(\\theta_{z} \\right)}}{\\theta_{z}} + \\frac{z_{4} z_{5} \\cdot \\left(1 - \\cos{\\left(\\theta_{z} \\right)}\\right)}{\\theta_{z}^{2}}\\right) + \\left(- \\frac{x_{i5} \\sin{\\left(\\theta_{i} \\right)}}{\\theta_{i}} + \\frac{x_{i3} x_{i4} \\cdot \\left(1 - \\cos{\\left(\\theta_{i} \\right)}\\right)}{\\theta_{i}^{2}}\\right) \\left(1 - \\frac{z_{3}^{2} \\cdot \\left(1 - \\cos{\\left(\\theta_{z} \\right)}\\right)}{\\theta_{z}^{2}} - \\frac{z_{5}^{2} \\cdot \\left(1 - \\cos{\\left(\\theta_{z} \\right)}\\right)}{\\theta_{z}^{2}}\\right) + \\left(- \\frac{z_{5} \\sin{\\left(\\theta_{z} \\right)}}{\\theta_{z}} + \\frac{z_{3} z_{4} \\cdot \\left(1 - \\cos{\\left(\\theta_{z} \\right)}\\right)}{\\theta_{z}^{2}}\\right) \\left(1 - \\frac{x_{i4}^{2} \\cdot \\left(1 - \\cos{\\left(\\theta_{i} \\right)}\\right)}{\\theta_{i}^{2}} - \\frac{x_{i5}^{2} \\cdot \\left(1 - \\cos{\\left(\\theta_{i} \\right)}\\right)}{\\theta_{i}^{2}}\\right)\\right)}{2} + \\frac{\\left(\\frac{x_{j5} \\sin{\\left(\\theta_{j} \\right)}}{\\theta_{j}} + \\frac{x_{j3} x_{j4} \\cdot \\left(1 - \\cos{\\left(\\theta_{j} \\right)}\\right)}{\\theta_{j}^{2}}\\right) \\left(\\left(- \\frac{x_{i3} \\sin{\\left(\\theta_{i} \\right)}}{\\theta_{i}} + \\frac{x_{i4} x_{i5} \\cdot \\left(1 - \\cos{\\left(\\theta_{i} \\right)}\\right)}{\\theta_{i}^{2}}\\right) \\left(- \\frac{z_{4} \\sin{\\left(\\theta_{z} \\right)}}{\\theta_{z}} + \\frac{z_{3} z_{5} \\cdot \\left(1 - \\cos{\\left(\\theta_{z} \\right)}\\right)}{\\theta_{z}^{2}}\\right) + \\left(\\frac{x_{i5} \\sin{\\left(\\theta_{i} \\right)}}{\\theta_{i}} + \\frac{x_{i3} x_{i4} \\cdot \\left(1 - \\cos{\\left(\\theta_{i} \\right)}\\right)}{\\theta_{i}^{2}}\\right) \\left(1 - \\frac{z_{4}^{2} \\cdot \\left(1 - \\cos{\\left(\\theta_{z} \\right)}\\right)}{\\theta_{z}^{2}} - \\frac{z_{5}^{2} \\cdot \\left(1 - \\cos{\\left(\\theta_{z} \\right)}\\right)}{\\theta_{z}^{2}}\\right) + \\left(\\frac{z_{5} \\sin{\\left(\\theta_{z} \\right)}}{\\theta_{z}} + \\frac{z_{3} z_{4} \\cdot \\left(1 - \\cos{\\left(\\theta_{z} \\right)}\\right)}{\\theta_{z}^{2}}\\right) \\left(1 - \\frac{x_{i3}^{2} \\cdot \\left(1 - \\cos{\\left(\\theta_{i} \\right)}\\right)}{\\theta_{i}^{2}} - \\frac{x_{i5}^{2} \\cdot \\left(1 - \\cos{\\left(\\theta_{i} \\right)}\\right)}{\\theta_{i}^{2}}\\right)\\right)}{2} + \\frac{\\left(1 - \\frac{x_{j3}^{2} \\cdot \\left(1 - \\cos{\\left(\\theta_{j} \\right)}\\right)}{\\theta_{j}^{2}} - \\frac{x_{j4}^{2} \\cdot \\left(1 - \\cos{\\left(\\theta_{j} \\right)}\\right)}{\\theta_{j}^{2}}\\right) \\left(\\left(\\frac{x_{i3} \\sin{\\left(\\theta_{i} \\right)}}{\\theta_{i}} + \\frac{x_{i4} x_{i5} \\cdot \\left(1 - \\cos{\\left(\\theta_{i} \\right)}\\right)}{\\theta_{i}^{2}}\\right) \\left(- \\frac{z_{3} \\sin{\\left(\\theta_{z} \\right)}}{\\theta_{z}} + \\frac{z_{4} z_{5} \\cdot \\left(1 - \\cos{\\left(\\theta_{z} \\right)}\\right)}{\\theta_{z}^{2}}\\right) + \\left(- \\frac{x_{i4} \\sin{\\left(\\theta_{i} \\right)}}{\\theta_{i}} + \\frac{x_{i3} x_{i5} \\cdot \\left(1 - \\cos{\\left(\\theta_{i} \\right)}\\right)}{\\theta_{i}^{2}}\\right) \\left(\\frac{z_{4} \\sin{\\left(\\theta_{z} \\right)}}{\\theta_{z}} + \\frac{z_{3} z_{5} \\cdot \\left(1 - \\cos{\\left(\\theta_{z} \\right)}\\right)}{\\theta_{z}^{2}}\\right) + \\left(1 - \\frac{x_{i3}^{2} \\cdot \\left(1 - \\cos{\\left(\\theta_{i} \\right)}\\right)}{\\theta_{i}^{2}} - \\frac{x_{i4}^{2} \\cdot \\left(1 - \\cos{\\left(\\theta_{i} \\right)}\\right)}{\\theta_{i}^{2}}\\right) \\left(1 - \\frac{z_{3}^{2} \\cdot \\left(1 - \\cos{\\left(\\theta_{z} \\right)}\\right)}{\\theta_{z}^{2}} - \\frac{z_{4}^{2} \\cdot \\left(1 - \\cos{\\left(\\theta_{z} \\right)}\\right)}{\\theta_{z}^{2}}\\right)\\right)}{2} + \\frac{\\left(1 - \\frac{x_{j3}^{2} \\cdot \\left(1 - \\cos{\\left(\\theta_{j} \\right)}\\right)}{\\theta_{j}^{2}} - \\frac{x_{j5}^{2} \\cdot \\left(1 - \\cos{\\left(\\theta_{j} \\right)}\\right)}{\\theta_{j}^{2}}\\right) \\left(\\left(- \\frac{x_{i3} \\sin{\\left(\\theta_{i} \\right)}}{\\theta_{i}} + \\frac{x_{i4} x_{i5} \\cdot \\left(1 - \\cos{\\left(\\theta_{i} \\right)}\\right)}{\\theta_{i}^{2}}\\right) \\left(\\frac{z_{3} \\sin{\\left(\\theta_{z} \\right)}}{\\theta_{z}} + \\frac{z_{4} z_{5} \\cdot \\left(1 - \\cos{\\left(\\theta_{z} \\right)}\\right)}{\\theta_{z}^{2}}\\right) + \\left(\\frac{x_{i5} \\sin{\\left(\\theta_{i} \\right)}}{\\theta_{i}} + \\frac{x_{i3} x_{i4} \\cdot \\left(1 - \\cos{\\left(\\theta_{i} \\right)}\\right)}{\\theta_{i}^{2}}\\right) \\left(- \\frac{z_{5} \\sin{\\left(\\theta_{z} \\right)}}{\\theta_{z}} + \\frac{z_{3} z_{4} \\cdot \\left(1 - \\cos{\\left(\\theta_{z} \\right)}\\right)}{\\theta_{z}^{2}}\\right) + \\left(1 - \\frac{x_{i3}^{2} \\cdot \\left(1 - \\cos{\\left(\\theta_{i} \\right)}\\right)}{\\theta_{i}^{2}} - \\frac{x_{i5}^{2} \\cdot \\left(1 - \\cos{\\left(\\theta_{i} \\right)}\\right)}{\\theta_{i}^{2}}\\right) \\left(1 - \\frac{z_{3}^{2} \\cdot \\left(1 - \\cos{\\left(\\theta_{z} \\right)}\\right)}{\\theta_{z}^{2}} - \\frac{z_{5}^{2} \\cdot \\left(1 - \\cos{\\left(\\theta_{z} \\right)}\\right)}{\\theta_{z}^{2}}\\right)\\right)}{2} + \\frac{\\left(1 - \\frac{x_{j4}^{2} \\cdot \\left(1 - \\cos{\\left(\\theta_{j} \\right)}\\right)}{\\theta_{j}^{2}} - \\frac{x_{j5}^{2} \\cdot \\left(1 - \\cos{\\left(\\theta_{j} \\right)}\\right)}{\\theta_{j}^{2}}\\right) \\left(\\left(\\frac{x_{i4} \\sin{\\left(\\theta_{i} \\right)}}{\\theta_{i}} + \\frac{x_{i3} x_{i5} \\cdot \\left(1 - \\cos{\\left(\\theta_{i} \\right)}\\right)}{\\theta_{i}^{2}}\\right) \\left(- \\frac{z_{4} \\sin{\\left(\\theta_{z} \\right)}}{\\theta_{z}} + \\frac{z_{3} z_{5} \\cdot \\left(1 - \\cos{\\left(\\theta_{z} \\right)}\\right)}{\\theta_{z}^{2}}\\right) + \\left(- \\frac{x_{i5} \\sin{\\left(\\theta_{i} \\right)}}{\\theta_{i}} + \\frac{x_{i3} x_{i4} \\cdot \\left(1 - \\cos{\\left(\\theta_{i} \\right)}\\right)}{\\theta_{i}^{2}}\\right) \\left(\\frac{z_{5} \\sin{\\left(\\theta_{z} \\right)}}{\\theta_{z}} + \\frac{z_{3} z_{4} \\cdot \\left(1 - \\cos{\\left(\\theta_{z} \\right)}\\right)}{\\theta_{z}^{2}}\\right) + \\left(1 - \\frac{x_{i4}^{2} \\cdot \\left(1 - \\cos{\\left(\\theta_{i} \\right)}\\right)}{\\theta_{i}^{2}} - \\frac{x_{i5}^{2} \\cdot \\left(1 - \\cos{\\left(\\theta_{i} \\right)}\\right)}{\\theta_{i}^{2}}\\right) \\left(1 - \\frac{z_{4}^{2} \\cdot \\left(1 - \\cos{\\left(\\theta_{z} \\right)}\\right)}{\\theta_{z}^{2}} - \\frac{z_{5}^{2} \\cdot \\left(1 - \\cos{\\left(\\theta_{z} \\right)}\\right)}{\\theta_{z}^{2}}\\right)\\right)}{2} - \\frac{1}{2}\\right)^{2}}}$"
      ],
      "text/plain": [
       "((-x_{j3}*sin(\\theta_j)/\\theta_j + x_{j4}*x_{j5}*(1 - cos(\\theta_j))/\\theta_j**2)*((-x_{i3}*sin(\\theta_i)/\\theta_i + x_{i4}*x_{i5}*(1 - cos(\\theta_i))/\\theta_i**2)*(-z_{4}*sin(\\theta_z)/\\theta_z + z_{3}*z_{5}*(1 - cos(\\theta_z))/\\theta_z**2) + (x_{i5}*sin(\\theta_i)/\\theta_i + x_{i3}*x_{i4}*(1 - cos(\\theta_i))/\\theta_i**2)*(1 - z_{4}**2*(1 - cos(\\theta_z))/\\theta_z**2 - z_{5}**2*(1 - cos(\\theta_z))/\\theta_z**2) + (z_{5}*sin(\\theta_z)/\\theta_z + z_{3}*z_{4}*(1 - cos(\\theta_z))/\\theta_z**2)*(1 - x_{i3}**2*(1 - cos(\\theta_i))/\\theta_i**2 - x_{i5}**2*(1 - cos(\\theta_i))/\\theta_i**2)) - (-x_{j4}*sin(\\theta_j)/\\theta_j + x_{j3}*x_{j5}*(1 - cos(\\theta_j))/\\theta_j**2)*((x_{i3}*sin(\\theta_i)/\\theta_i + x_{i4}*x_{i5}*(1 - cos(\\theta_i))/\\theta_i**2)*(-z_{3}*sin(\\theta_z)/\\theta_z + z_{4}*z_{5}*(1 - cos(\\theta_z))/\\theta_z**2) + (-x_{i4}*sin(\\theta_i)/\\theta_i + x_{i3}*x_{i5}*(1 - cos(\\theta_i))/\\theta_i**2)*(z_{4}*sin(\\theta_z)/\\theta_z + z_{3}*z_{5}*(1 - cos(\\theta_z))/\\theta_z**2) + (1 - x_{i3}**2*(1 - cos(\\theta_i))/\\theta_i**2 - x_{i4}**2*(1 - cos(\\theta_i))/\\theta_i**2)*(1 - z_{3}**2*(1 - cos(\\theta_z))/\\theta_z**2 - z_{4}**2*(1 - cos(\\theta_z))/\\theta_z**2)) + (x_{j4}*sin(\\theta_j)/\\theta_j + x_{j3}*x_{j5}*(1 - cos(\\theta_j))/\\theta_j**2)*((x_{i4}*sin(\\theta_i)/\\theta_i + x_{i3}*x_{i5}*(1 - cos(\\theta_i))/\\theta_i**2)*(-z_{4}*sin(\\theta_z)/\\theta_z + z_{3}*z_{5}*(1 - cos(\\theta_z))/\\theta_z**2) + (-x_{i5}*sin(\\theta_i)/\\theta_i + x_{i3}*x_{i4}*(1 - cos(\\theta_i))/\\theta_i**2)*(z_{5}*sin(\\theta_z)/\\theta_z + z_{3}*z_{4}*(1 - cos(\\theta_z))/\\theta_z**2) + (1 - x_{i4}**2*(1 - cos(\\theta_i))/\\theta_i**2 - x_{i5}**2*(1 - cos(\\theta_i))/\\theta_i**2)*(1 - z_{4}**2*(1 - cos(\\theta_z))/\\theta_z**2 - z_{5}**2*(1 - cos(\\theta_z))/\\theta_z**2)) - (x_{j5}*sin(\\theta_j)/\\theta_j + x_{j3}*x_{j4}*(1 - cos(\\theta_j))/\\theta_j**2)*((-x_{i3}*sin(\\theta_i)/\\theta_i + x_{i4}*x_{i5}*(1 - cos(\\theta_i))/\\theta_i**2)*(1 - z_{3}**2*(1 - cos(\\theta_z))/\\theta_z**2 - z_{4}**2*(1 - cos(\\theta_z))/\\theta_z**2) + (x_{i5}*sin(\\theta_i)/\\theta_i + x_{i3}*x_{i4}*(1 - cos(\\theta_i))/\\theta_i**2)*(z_{4}*sin(\\theta_z)/\\theta_z + z_{3}*z_{5}*(1 - cos(\\theta_z))/\\theta_z**2) + (-z_{3}*sin(\\theta_z)/\\theta_z + z_{4}*z_{5}*(1 - cos(\\theta_z))/\\theta_z**2)*(1 - x_{i3}**2*(1 - cos(\\theta_i))/\\theta_i**2 - x_{i5}**2*(1 - cos(\\theta_i))/\\theta_i**2)) + (1 - x_{j3}**2*(1 - cos(\\theta_j))/\\theta_j**2 - x_{j4}**2*(1 - cos(\\theta_j))/\\theta_j**2)*((x_{i3}*sin(\\theta_i)/\\theta_i + x_{i4}*x_{i5}*(1 - cos(\\theta_i))/\\theta_i**2)*(z_{5}*sin(\\theta_z)/\\theta_z + z_{3}*z_{4}*(1 - cos(\\theta_z))/\\theta_z**2) + (-x_{i4}*sin(\\theta_i)/\\theta_i + x_{i3}*x_{i5}*(1 - cos(\\theta_i))/\\theta_i**2)*(1 - z_{4}**2*(1 - cos(\\theta_z))/\\theta_z**2 - z_{5}**2*(1 - cos(\\theta_z))/\\theta_z**2) + (-z_{4}*sin(\\theta_z)/\\theta_z + z_{3}*z_{5}*(1 - cos(\\theta_z))/\\theta_z**2)*(1 - x_{i3}**2*(1 - cos(\\theta_i))/\\theta_i**2 - x_{i4}**2*(1 - cos(\\theta_i))/\\theta_i**2)) - (1 - x_{j4}**2*(1 - cos(\\theta_j))/\\theta_j**2 - x_{j5}**2*(1 - cos(\\theta_j))/\\theta_j**2)*((x_{i4}*sin(\\theta_i)/\\theta_i + x_{i3}*x_{i5}*(1 - cos(\\theta_i))/\\theta_i**2)*(1 - z_{3}**2*(1 - cos(\\theta_z))/\\theta_z**2 - z_{4}**2*(1 - cos(\\theta_z))/\\theta_z**2) + (-x_{i5}*sin(\\theta_i)/\\theta_i + x_{i3}*x_{i4}*(1 - cos(\\theta_i))/\\theta_i**2)*(-z_{3}*sin(\\theta_z)/\\theta_z + z_{4}*z_{5}*(1 - cos(\\theta_z))/\\theta_z**2) + (z_{4}*sin(\\theta_z)/\\theta_z + z_{3}*z_{5}*(1 - cos(\\theta_z))/\\theta_z**2)*(1 - x_{i4}**2*(1 - cos(\\theta_i))/\\theta_i**2 - x_{i5}**2*(1 - cos(\\theta_i))/\\theta_i**2)))*acos((-x_{j3}*sin(\\theta_j)/\\theta_j + x_{j4}*x_{j5}*(1 - cos(\\theta_j))/\\theta_j**2)*((-x_{i3}*sin(\\theta_i)/\\theta_i + x_{i4}*x_{i5}*(1 - cos(\\theta_i))/\\theta_i**2)*(1 - z_{3}**2*(1 - cos(\\theta_z))/\\theta_z**2 - z_{4}**2*(1 - cos(\\theta_z))/\\theta_z**2) + (x_{i5}*sin(\\theta_i)/\\theta_i + x_{i3}*x_{i4}*(1 - cos(\\theta_i))/\\theta_i**2)*(z_{4}*sin(\\theta_z)/\\theta_z + z_{3}*z_{5}*(1 - cos(\\theta_z))/\\theta_z**2) + (-z_{3}*sin(\\theta_z)/\\theta_z + z_{4}*z_{5}*(1 - cos(\\theta_z))/\\theta_z**2)*(1 - x_{i3}**2*(1 - cos(\\theta_i))/\\theta_i**2 - x_{i5}**2*(1 - cos(\\theta_i))/\\theta_i**2))/2 + (x_{j3}*sin(\\theta_j)/\\theta_j + x_{j4}*x_{j5}*(1 - cos(\\theta_j))/\\theta_j**2)*((x_{i3}*sin(\\theta_i)/\\theta_i + x_{i4}*x_{i5}*(1 - cos(\\theta_i))/\\theta_i**2)*(1 - z_{3}**2*(1 - cos(\\theta_z))/\\theta_z**2 - z_{5}**2*(1 - cos(\\theta_z))/\\theta_z**2) + (-x_{i4}*sin(\\theta_i)/\\theta_i + x_{i3}*x_{i5}*(1 - cos(\\theta_i))/\\theta_i**2)*(-z_{5}*sin(\\theta_z)/\\theta_z + z_{3}*z_{4}*(1 - cos(\\theta_z))/\\theta_z**2) + (z_{3}*sin(\\theta_z)/\\theta_z + z_{4}*z_{5}*(1 - cos(\\theta_z))/\\theta_z**2)*(1 - x_{i3}**2*(1 - cos(\\theta_i))/\\theta_i**2 - x_{i4}**2*(1 - cos(\\theta_i))/\\theta_i**2))/2 + (-x_{j4}*sin(\\theta_j)/\\theta_j + x_{j3}*x_{j5}*(1 - cos(\\theta_j))/\\theta_j**2)*((x_{i3}*sin(\\theta_i)/\\theta_i + x_{i4}*x_{i5}*(1 - cos(\\theta_i))/\\theta_i**2)*(z_{5}*sin(\\theta_z)/\\theta_z + z_{3}*z_{4}*(1 - cos(\\theta_z))/\\theta_z**2) + (-x_{i4}*sin(\\theta_i)/\\theta_i + x_{i3}*x_{i5}*(1 - cos(\\theta_i))/\\theta_i**2)*(1 - z_{4}**2*(1 - cos(\\theta_z))/\\theta_z**2 - z_{5}**2*(1 - cos(\\theta_z))/\\theta_z**2) + (-z_{4}*sin(\\theta_z)/\\theta_z + z_{3}*z_{5}*(1 - cos(\\theta_z))/\\theta_z**2)*(1 - x_{i3}**2*(1 - cos(\\theta_i))/\\theta_i**2 - x_{i4}**2*(1 - cos(\\theta_i))/\\theta_i**2))/2 + (x_{j4}*sin(\\theta_j)/\\theta_j + x_{j3}*x_{j5}*(1 - cos(\\theta_j))/\\theta_j**2)*((x_{i4}*sin(\\theta_i)/\\theta_i + x_{i3}*x_{i5}*(1 - cos(\\theta_i))/\\theta_i**2)*(1 - z_{3}**2*(1 - cos(\\theta_z))/\\theta_z**2 - z_{4}**2*(1 - cos(\\theta_z))/\\theta_z**2) + (-x_{i5}*sin(\\theta_i)/\\theta_i + x_{i3}*x_{i4}*(1 - cos(\\theta_i))/\\theta_i**2)*(-z_{3}*sin(\\theta_z)/\\theta_z + z_{4}*z_{5}*(1 - cos(\\theta_z))/\\theta_z**2) + (z_{4}*sin(\\theta_z)/\\theta_z + z_{3}*z_{5}*(1 - cos(\\theta_z))/\\theta_z**2)*(1 - x_{i4}**2*(1 - cos(\\theta_i))/\\theta_i**2 - x_{i5}**2*(1 - cos(\\theta_i))/\\theta_i**2))/2 + (-x_{j5}*sin(\\theta_j)/\\theta_j + x_{j3}*x_{j4}*(1 - cos(\\theta_j))/\\theta_j**2)*((x_{i4}*sin(\\theta_i)/\\theta_i + x_{i3}*x_{i5}*(1 - cos(\\theta_i))/\\theta_i**2)*(z_{3}*sin(\\theta_z)/\\theta_z + z_{4}*z_{5}*(1 - cos(\\theta_z))/\\theta_z**2) + (-x_{i5}*sin(\\theta_i)/\\theta_i + x_{i3}*x_{i4}*(1 - cos(\\theta_i))/\\theta_i**2)*(1 - z_{3}**2*(1 - cos(\\theta_z))/\\theta_z**2 - z_{5}**2*(1 - cos(\\theta_z))/\\theta_z**2) + (-z_{5}*sin(\\theta_z)/\\theta_z + z_{3}*z_{4}*(1 - cos(\\theta_z))/\\theta_z**2)*(1 - x_{i4}**2*(1 - cos(\\theta_i))/\\theta_i**2 - x_{i5}**2*(1 - cos(\\theta_i))/\\theta_i**2))/2 + (x_{j5}*sin(\\theta_j)/\\theta_j + x_{j3}*x_{j4}*(1 - cos(\\theta_j))/\\theta_j**2)*((-x_{i3}*sin(\\theta_i)/\\theta_i + x_{i4}*x_{i5}*(1 - cos(\\theta_i))/\\theta_i**2)*(-z_{4}*sin(\\theta_z)/\\theta_z + z_{3}*z_{5}*(1 - cos(\\theta_z))/\\theta_z**2) + (x_{i5}*sin(\\theta_i)/\\theta_i + x_{i3}*x_{i4}*(1 - cos(\\theta_i))/\\theta_i**2)*(1 - z_{4}**2*(1 - cos(\\theta_z))/\\theta_z**2 - z_{5}**2*(1 - cos(\\theta_z))/\\theta_z**2) + (z_{5}*sin(\\theta_z)/\\theta_z + z_{3}*z_{4}*(1 - cos(\\theta_z))/\\theta_z**2)*(1 - x_{i3}**2*(1 - cos(\\theta_i))/\\theta_i**2 - x_{i5}**2*(1 - cos(\\theta_i))/\\theta_i**2))/2 + (1 - x_{j3}**2*(1 - cos(\\theta_j))/\\theta_j**2 - x_{j4}**2*(1 - cos(\\theta_j))/\\theta_j**2)*((x_{i3}*sin(\\theta_i)/\\theta_i + x_{i4}*x_{i5}*(1 - cos(\\theta_i))/\\theta_i**2)*(-z_{3}*sin(\\theta_z)/\\theta_z + z_{4}*z_{5}*(1 - cos(\\theta_z))/\\theta_z**2) + (-x_{i4}*sin(\\theta_i)/\\theta_i + x_{i3}*x_{i5}*(1 - cos(\\theta_i))/\\theta_i**2)*(z_{4}*sin(\\theta_z)/\\theta_z + z_{3}*z_{5}*(1 - cos(\\theta_z))/\\theta_z**2) + (1 - x_{i3}**2*(1 - cos(\\theta_i))/\\theta_i**2 - x_{i4}**2*(1 - cos(\\theta_i))/\\theta_i**2)*(1 - z_{3}**2*(1 - cos(\\theta_z))/\\theta_z**2 - z_{4}**2*(1 - cos(\\theta_z))/\\theta_z**2))/2 + (1 - x_{j3}**2*(1 - cos(\\theta_j))/\\theta_j**2 - x_{j5}**2*(1 - cos(\\theta_j))/\\theta_j**2)*((-x_{i3}*sin(\\theta_i)/\\theta_i + x_{i4}*x_{i5}*(1 - cos(\\theta_i))/\\theta_i**2)*(z_{3}*sin(\\theta_z)/\\theta_z + z_{4}*z_{5}*(1 - cos(\\theta_z))/\\theta_z**2) + (x_{i5}*sin(\\theta_i)/\\theta_i + x_{i3}*x_{i4}*(1 - cos(\\theta_i))/\\theta_i**2)*(-z_{5}*sin(\\theta_z)/\\theta_z + z_{3}*z_{4}*(1 - cos(\\theta_z))/\\theta_z**2) + (1 - x_{i3}**2*(1 - cos(\\theta_i))/\\theta_i**2 - x_{i5}**2*(1 - cos(\\theta_i))/\\theta_i**2)*(1 - z_{3}**2*(1 - cos(\\theta_z))/\\theta_z**2 - z_{5}**2*(1 - cos(\\theta_z))/\\theta_z**2))/2 + (1 - x_{j4}**2*(1 - cos(\\theta_j))/\\theta_j**2 - x_{j5}**2*(1 - cos(\\theta_j))/\\theta_j**2)*((x_{i4}*sin(\\theta_i)/\\theta_i + x_{i3}*x_{i5}*(1 - cos(\\theta_i))/\\theta_i**2)*(-z_{4}*sin(\\theta_z)/\\theta_z + z_{3}*z_{5}*(1 - cos(\\theta_z))/\\theta_z**2) + (-x_{i5}*sin(\\theta_i)/\\theta_i + x_{i3}*x_{i4}*(1 - cos(\\theta_i))/\\theta_i**2)*(z_{5}*sin(\\theta_z)/\\theta_z + z_{3}*z_{4}*(1 - cos(\\theta_z))/\\theta_z**2) + (1 - x_{i4}**2*(1 - cos(\\theta_i))/\\theta_i**2 - x_{i5}**2*(1 - cos(\\theta_i))/\\theta_i**2)*(1 - z_{4}**2*(1 - cos(\\theta_z))/\\theta_z**2 - z_{5}**2*(1 - cos(\\theta_z))/\\theta_z**2))/2 - 1/2)/(2*sqrt(1 - ((-x_{j3}*sin(\\theta_j)/\\theta_j + x_{j4}*x_{j5}*(1 - cos(\\theta_j))/\\theta_j**2)*((-x_{i3}*sin(\\theta_i)/\\theta_i + x_{i4}*x_{i5}*(1 - cos(\\theta_i))/\\theta_i**2)*(1 - z_{3}**2*(1 - cos(\\theta_z))/\\theta_z**2 - z_{4}**2*(1 - cos(\\theta_z))/\\theta_z**2) + (x_{i5}*sin(\\theta_i)/\\theta_i + x_{i3}*x_{i4}*(1 - cos(\\theta_i))/\\theta_i**2)*(z_{4}*sin(\\theta_z)/\\theta_z + z_{3}*z_{5}*(1 - cos(\\theta_z))/\\theta_z**2) + (-z_{3}*sin(\\theta_z)/\\theta_z + z_{4}*z_{5}*(1 - cos(\\theta_z))/\\theta_z**2)*(1 - x_{i3}**2*(1 - cos(\\theta_i))/\\theta_i**2 - x_{i5}**2*(1 - cos(\\theta_i))/\\theta_i**2))/2 + (x_{j3}*sin(\\theta_j)/\\theta_j + x_{j4}*x_{j5}*(1 - cos(\\theta_j))/\\theta_j**2)*((x_{i3}*sin(\\theta_i)/\\theta_i + x_{i4}*x_{i5}*(1 - cos(\\theta_i))/\\theta_i**2)*(1 - z_{3}**2*(1 - cos(\\theta_z))/\\theta_z**2 - z_{5}**2*(1 - cos(\\theta_z))/\\theta_z**2) + (-x_{i4}*sin(\\theta_i)/\\theta_i + x_{i3}*x_{i5}*(1 - cos(\\theta_i))/\\theta_i**2)*(-z_{5}*sin(\\theta_z)/\\theta_z + z_{3}*z_{4}*(1 - cos(\\theta_z))/\\theta_z**2) + (z_{3}*sin(\\theta_z)/\\theta_z + z_{4}*z_{5}*(1 - cos(\\theta_z))/\\theta_z**2)*(1 - x_{i3}**2*(1 - cos(\\theta_i))/\\theta_i**2 - x_{i4}**2*(1 - cos(\\theta_i))/\\theta_i**2))/2 + (-x_{j4}*sin(\\theta_j)/\\theta_j + x_{j3}*x_{j5}*(1 - cos(\\theta_j))/\\theta_j**2)*((x_{i3}*sin(\\theta_i)/\\theta_i + x_{i4}*x_{i5}*(1 - cos(\\theta_i))/\\theta_i**2)*(z_{5}*sin(\\theta_z)/\\theta_z + z_{3}*z_{4}*(1 - cos(\\theta_z))/\\theta_z**2) + (-x_{i4}*sin(\\theta_i)/\\theta_i + x_{i3}*x_{i5}*(1 - cos(\\theta_i))/\\theta_i**2)*(1 - z_{4}**2*(1 - cos(\\theta_z))/\\theta_z**2 - z_{5}**2*(1 - cos(\\theta_z))/\\theta_z**2) + (-z_{4}*sin(\\theta_z)/\\theta_z + z_{3}*z_{5}*(1 - cos(\\theta_z))/\\theta_z**2)*(1 - x_{i3}**2*(1 - cos(\\theta_i))/\\theta_i**2 - x_{i4}**2*(1 - cos(\\theta_i))/\\theta_i**2))/2 + (x_{j4}*sin(\\theta_j)/\\theta_j + x_{j3}*x_{j5}*(1 - cos(\\theta_j))/\\theta_j**2)*((x_{i4}*sin(\\theta_i)/\\theta_i + x_{i3}*x_{i5}*(1 - cos(\\theta_i))/\\theta_i**2)*(1 - z_{3}**2*(1 - cos(\\theta_z))/\\theta_z**2 - z_{4}**2*(1 - cos(\\theta_z))/\\theta_z**2) + (-x_{i5}*sin(\\theta_i)/\\theta_i + x_{i3}*x_{i4}*(1 - cos(\\theta_i))/\\theta_i**2)*(-z_{3}*sin(\\theta_z)/\\theta_z + z_{4}*z_{5}*(1 - cos(\\theta_z))/\\theta_z**2) + (z_{4}*sin(\\theta_z)/\\theta_z + z_{3}*z_{5}*(1 - cos(\\theta_z))/\\theta_z**2)*(1 - x_{i4}**2*(1 - cos(\\theta_i))/\\theta_i**2 - x_{i5}**2*(1 - cos(\\theta_i))/\\theta_i**2))/2 + (-x_{j5}*sin(\\theta_j)/\\theta_j + x_{j3}*x_{j4}*(1 - cos(\\theta_j))/\\theta_j**2)*((x_{i4}*sin(\\theta_i)/\\theta_i + x_{i3}*x_{i5}*(1 - cos(\\theta_i))/\\theta_i**2)*(z_{3}*sin(\\theta_z)/\\theta_z + z_{4}*z_{5}*(1 - cos(\\theta_z))/\\theta_z**2) + (-x_{i5}*sin(\\theta_i)/\\theta_i + x_{i3}*x_{i4}*(1 - cos(\\theta_i))/\\theta_i**2)*(1 - z_{3}**2*(1 - cos(\\theta_z))/\\theta_z**2 - z_{5}**2*(1 - cos(\\theta_z))/\\theta_z**2) + (-z_{5}*sin(\\theta_z)/\\theta_z + z_{3}*z_{4}*(1 - cos(\\theta_z))/\\theta_z**2)*(1 - x_{i4}**2*(1 - cos(\\theta_i))/\\theta_i**2 - x_{i5}**2*(1 - cos(\\theta_i))/\\theta_i**2))/2 + (x_{j5}*sin(\\theta_j)/\\theta_j + x_{j3}*x_{j4}*(1 - cos(\\theta_j))/\\theta_j**2)*((-x_{i3}*sin(\\theta_i)/\\theta_i + x_{i4}*x_{i5}*(1 - cos(\\theta_i))/\\theta_i**2)*(-z_{4}*sin(\\theta_z)/\\theta_z + z_{3}*z_{5}*(1 - cos(\\theta_z))/\\theta_z**2) + (x_{i5}*sin(\\theta_i)/\\theta_i + x_{i3}*x_{i4}*(1 - cos(\\theta_i))/\\theta_i**2)*(1 - z_{4}**2*(1 - cos(\\theta_z))/\\theta_z**2 - z_{5}**2*(1 - cos(\\theta_z))/\\theta_z**2) + (z_{5}*sin(\\theta_z)/\\theta_z + z_{3}*z_{4}*(1 - cos(\\theta_z))/\\theta_z**2)*(1 - x_{i3}**2*(1 - cos(\\theta_i))/\\theta_i**2 - x_{i5}**2*(1 - cos(\\theta_i))/\\theta_i**2))/2 + (1 - x_{j3}**2*(1 - cos(\\theta_j))/\\theta_j**2 - x_{j4}**2*(1 - cos(\\theta_j))/\\theta_j**2)*((x_{i3}*sin(\\theta_i)/\\theta_i + x_{i4}*x_{i5}*(1 - cos(\\theta_i))/\\theta_i**2)*(-z_{3}*sin(\\theta_z)/\\theta_z + z_{4}*z_{5}*(1 - cos(\\theta_z))/\\theta_z**2) + (-x_{i4}*sin(\\theta_i)/\\theta_i + x_{i3}*x_{i5}*(1 - cos(\\theta_i))/\\theta_i**2)*(z_{4}*sin(\\theta_z)/\\theta_z + z_{3}*z_{5}*(1 - cos(\\theta_z))/\\theta_z**2) + (1 - x_{i3}**2*(1 - cos(\\theta_i))/\\theta_i**2 - x_{i4}**2*(1 - cos(\\theta_i))/\\theta_i**2)*(1 - z_{3}**2*(1 - cos(\\theta_z))/\\theta_z**2 - z_{4}**2*(1 - cos(\\theta_z))/\\theta_z**2))/2 + (1 - x_{j3}**2*(1 - cos(\\theta_j))/\\theta_j**2 - x_{j5}**2*(1 - cos(\\theta_j))/\\theta_j**2)*((-x_{i3}*sin(\\theta_i)/\\theta_i + x_{i4}*x_{i5}*(1 - cos(\\theta_i))/\\theta_i**2)*(z_{3}*sin(\\theta_z)/\\theta_z + z_{4}*z_{5}*(1 - cos(\\theta_z))/\\theta_z**2) + (x_{i5}*sin(\\theta_i)/\\theta_i + x_{i3}*x_{i4}*(1 - cos(\\theta_i))/\\theta_i**2)*(-z_{5}*sin(\\theta_z)/\\theta_z + z_{3}*z_{4}*(1 - cos(\\theta_z))/\\theta_z**2) + (1 - x_{i3}**2*(1 - cos(\\theta_i))/\\theta_i**2 - x_{i5}**2*(1 - cos(\\theta_i))/\\theta_i**2)*(1 - z_{3}**2*(1 - cos(\\theta_z))/\\theta_z**2 - z_{5}**2*(1 - cos(\\theta_z))/\\theta_z**2))/2 + (1 - x_{j4}**2*(1 - cos(\\theta_j))/\\theta_j**2 - x_{j5}**2*(1 - cos(\\theta_j))/\\theta_j**2)*((x_{i4}*sin(\\theta_i)/\\theta_i + x_{i3}*x_{i5}*(1 - cos(\\theta_i))/\\theta_i**2)*(-z_{4}*sin(\\theta_z)/\\theta_z + z_{3}*z_{5}*(1 - cos(\\theta_z))/\\theta_z**2) + (-x_{i5}*sin(\\theta_i)/\\theta_i + x_{i3}*x_{i4}*(1 - cos(\\theta_i))/\\theta_i**2)*(z_{5}*sin(\\theta_z)/\\theta_z + z_{3}*z_{4}*(1 - cos(\\theta_z))/\\theta_z**2) + (1 - x_{i4}**2*(1 - cos(\\theta_i))/\\theta_i**2 - x_{i5}**2*(1 - cos(\\theta_i))/\\theta_i**2)*(1 - z_{4}**2*(1 - cos(\\theta_z))/\\theta_z**2 - z_{5}**2*(1 - cos(\\theta_z))/\\theta_z**2))/2 - 1/2)**2))"
      ]
     },
     "execution_count": 11,
     "metadata": {},
     "output_type": "execute_result"
    }
   ],
   "source": [
    "e = log(invert(Zij)@invert(Xi)@Xj)\n",
    "e[4]"
   ]
  },
  {
   "cell_type": "markdown",
   "metadata": {},
   "source": [
    "# Check simplification"
   ]
  },
  {
   "cell_type": "code",
   "execution_count": 12,
   "metadata": {},
   "outputs": [],
   "source": [
    "Xi = exp(i1,i2,i3,i4,i5,i6)\n",
    "Xj = exp(j1,j2,j3,j4,j5,j6)\n",
    "Zij = exp(z1,z2,z3,z4,z5,z6)"
   ]
  },
  {
   "cell_type": "code",
   "execution_count": 13,
   "metadata": {},
   "outputs": [],
   "source": [
    "RXi = Xi[:3,:3]\n",
    "RXj = Xj[:3,:3]\n",
    "RZij = Zij[:3,:3]\n",
    "tXi = Xi[:3, 3]\n",
    "tXj = Xj[:3, 3]\n",
    "tZij = Zij[:3, 3]"
   ]
  },
  {
   "cell_type": "code",
   "execution_count": 14,
   "metadata": {},
   "outputs": [],
   "source": [
    "res1 = invert(Zij)@invert(Xi)@Xj"
   ]
  },
  {
   "cell_type": "code",
   "execution_count": 15,
   "metadata": {},
   "outputs": [],
   "source": [
    "res2 = s.eye(4)\n",
    "res2[:3,:3] = RZij.T@RXi.T@RXj\n",
    "res2[:3, 3] = RZij.T@(RXi.T@(tXj - tXi) - tZij)"
   ]
  },
  {
   "cell_type": "markdown",
   "metadata": {},
   "source": [
    "Pretty sure that does give me the correct result\n",
    "\n",
    "$$Z_{ij}^{-1}X_i^{-1}X_j \\equiv [R_z^TR_i^TR_j | R_z^T(R_i^T(t_j - t_i) - t_z)]$$\n",
    "\n",
    "However how I take the derivative of that with the log function I'm not entirely sure. I guess I can pass it through the log function and then take the elementwise derivative but that sounds rather messy to say the least. Honestly this whole thing is getting rather messy. It would be really nice if there was a way to get take the derivative of the log function and just chain rule it."
   ]
  },
  {
   "cell_type": "markdown",
   "metadata": {},
   "source": [
    "[This answer](https://math.stackexchange.com/questions/723262/explicit-proof-of-the-derivative-of-a-matrix-logarithm) suggests that the derivative of the matrix log function is:\n",
    "$$X'(x)X^{-1}$$\n",
    "\n",
    "Which I'm going to try use to solve this silly little jacobian. I'm not entirely convinced that its the right way to do it but I'm going to give it a shot anyway. Actually wait - if we look at the dimensions of it - I'm going to end up with a $4\\times4$ matrix which definitely isnt the $6\\times1$ vector that I would want from this. Damn. Thats not going to work at all. Back to the drawing board I guess. \n",
    "\n",
    "$\\ominus$"
   ]
  },
  {
   "cell_type": "code",
   "execution_count": 16,
   "metadata": {},
   "outputs": [
    {
     "data": {
      "text/plain": [
       "array([ True,  True,  True,  True,  True,  True])"
      ]
     },
     "execution_count": 16,
     "metadata": {},
     "output_type": "execute_result"
    }
   ],
   "source": [
    "import numpy as np\n",
    "\n",
    "def npcross(x):\n",
    "    return np.array([\n",
    "        [0,-x[2],x[1]],\n",
    "        [x[2],0,-x[0]],\n",
    "        [-x[1],x[0],0]\n",
    "    ])\n",
    "\n",
    "def npexp(x):\n",
    "    theta = np.linalg.norm(x[3:])\n",
    "    if theta == 0:\n",
    "        R = np.eye(3)\n",
    "        t = x[:3]\n",
    "    else:\n",
    "        a = np.sin(theta)/theta\n",
    "        b = (1 - np.cos(theta))/(theta*theta)\n",
    "        c = (theta - np.sin(theta))/(theta**3)\n",
    "        w = npcross(x[3:])\n",
    "        R = np.eye(3) + a*w + b*w@w\n",
    "\n",
    "        t = (np.eye(3) + b*w + c*w@w)@x[:3]\n",
    "    \n",
    "    mat = np.eye(4)\n",
    "    mat[:3, :3] = R\n",
    "    mat[:3, 3] = t\n",
    "\n",
    "    return mat\n",
    "\n",
    "def nplog(T):\n",
    "    theta = np.arccos((np.trace(T) - 2) / 2)\n",
    "    # theta = np.arccos((T[0, 0] + T[1, 1] + T[2, 2] - 1) / 2)\n",
    "\n",
    "    if theta == 0:\n",
    "        return T[0, 3], T[1, 3], T[2, 3], 0, 0, 0\n",
    "\n",
    "    a = np.sin(theta)/theta\n",
    "    b = (1 - np.cos(theta))/(theta*theta)\n",
    "\n",
    "    x4 = 1/(2*a)*(T[2, 1] - T[1, 2])\n",
    "    x5 = 1/(2*a)*(T[0, 2] - T[2, 0])\n",
    "    x6 = 1/(2*a)*(T[1, 0] - T[0, 1])\n",
    "    \n",
    "    w = npcross(np.array([x4,x5,x6]))\n",
    "    u = (np.eye(3) - 1/2*w + 1/(theta**2)*(1 - a/(2*b))*w@w)@T[:3, 3]\n",
    "\n",
    "    return u[0], u[1], u[2], x4, x5, x6\n",
    "\n",
    "np.isclose(nplog(npexp(np.array([0.1,0.2,0.3,0.4,0.5,0.6]))), np.array([0.1,0.2,0.3,0.4,0.5,0.6]))"
   ]
  },
  {
   "cell_type": "code",
   "execution_count": 17,
   "metadata": {},
   "outputs": [],
   "source": [
    "def np_adjoint(X):\n",
    "    \"\"\"X is a 4x4 matrix not a 6 Vector\"\"\"\n",
    "    mat = np.zeros((6,6))\n",
    "    mat[:3,:3] = X[:3,:3]\n",
    "    mat[3:,3:] = X[:3,:3]\n",
    "    mat[:3,3:] = npcross(X[:3,3])@X[:3,:3]\n",
    "\n",
    "    return mat.T\n"
   ]
  },
  {
   "cell_type": "code",
   "execution_count": 18,
   "metadata": {},
   "outputs": [],
   "source": [
    "def np_error(Z, Xi, Xj):\n",
    "    return nplog(np.linalg.inv(npexp(Z))@np.linalg.inv(npexp(Xi))@npexp(Xj))\n",
    "\n",
    "def np_exp_error(Z, Xi, Xj):\n",
    "    return np.linalg.inv(npexp(Z))@np.linalg.inv(npexp(Xi))@npexp(Xj)\n"
   ]
  },
  {
   "cell_type": "code",
   "execution_count": 19,
   "metadata": {},
   "outputs": [
    {
     "name": "stdout",
     "output_type": "stream",
     "text": [
      "[[-1. -0. -0.  0.  0.  0.]\n",
      " [ 0. -1. -0.  0.  0.  0.]\n",
      " [ 0. -0. -1.  0.  0.  0.]\n",
      " [ 0. -0. -0. -1.  0.  0.]\n",
      " [-0. -0. -0.  0. -1.  0.]\n",
      " [ 0. -0. -0.  0. -0. -1.]]\n"
     ]
    }
   ],
   "source": [
    "def Je_numeric_Xi(Z, Xi, Xj, eps=1E-4, type_=np.float64):    \n",
    "    Z, Xi, Xj = Z.astype(type_), Xi.astype(type_), Xj.astype(type_)\n",
    "\n",
    "    generators = [np.array([i==j for i in range(6)], dtype=type_) for j in range(6)]\n",
    "\n",
    "    error_inv = np.linalg.inv(np_exp_error(Z, Xi, Xj))\n",
    "    gen_error = [np.linalg.inv(npexp(Z))@np.linalg.inv(npexp(Xi)@npexp(g_i*eps))@npexp(Xj) for g_i in generators]\n",
    "\n",
    "    cols = (1/eps)*np.array([nplog(error_inv@gen_error_i) for gen_error_i in gen_error])\n",
    "\n",
    "    return cols\n",
    "\n",
    "a = np.array([0.1,0.2,0.3,0.4,0.5,0.6])\n",
    "with np.printoptions(precision=4, suppress=True):\n",
    "    print(Je_numeric_Xi(a,a,a))"
   ]
  },
  {
   "cell_type": "code",
   "execution_count": 20,
   "metadata": {},
   "outputs": [
    {
     "name": "stdout",
     "output_type": "stream",
     "text": [
      "\n",
      "\n",
      "Result analytic: \n",
      "[[-0.9291  0.3692  0.0221 -0.     -0.     -0.    ]\n",
      " [-0.3642 -0.9237  0.1191 -0.     -0.     -0.    ]\n",
      " [-0.0644 -0.1026 -0.9926 -0.     -0.     -0.    ]\n",
      " [-0.1224 -0.2931 -0.249  -0.9291  0.3692  0.0221]\n",
      " [ 0.2682 -0.101   0.0371 -0.3642 -0.9237  0.1191]\n",
      " [ 0.249  -0.1456 -0.0011 -0.0644 -0.1026 -0.9926]]\n",
      "\n",
      "\n",
      "Result numeric: \n",
      "[[-0.9291  0.3692  0.0221  0.      0.      0.    ]\n",
      " [-0.3642 -0.9237  0.1191  0.      0.      0.    ]\n",
      " [-0.0644 -0.1026 -0.9926  0.      0.      0.    ]\n",
      " [-0.1224 -0.2931 -0.249  -0.9291  0.3692  0.0221]\n",
      " [ 0.2682 -0.101   0.0371 -0.3642 -0.9237  0.1191]\n",
      " [ 0.249  -0.1456 -0.0011 -0.0644 -0.1026 -0.9926]]\n",
      "True\n"
     ]
    }
   ],
   "source": [
    "def Je_analytic_Xi(Z, Xi, Xj):\n",
    "    eXi, eXj = npexp(Xi), npexp(Xj)\n",
    "    A = np.zeros((6,6))\n",
    "    A[:3,:3] = (eXj[:3,:3]).T\n",
    "    A[3:,3:] = (eXj[:3,:3]).T\n",
    "    A[:3,3:] = -(eXj[:3,:3]).T@npcross(eXj[:3,3])\n",
    "    # print(\"A: \")\n",
    "    # print(A)\n",
    "\n",
    "    B = np.zeros_like(A)\n",
    "    B[:3, :3] = eXi[:3,:3]\n",
    "    B[3:,3:] = eXi[:3,:3]\n",
    "    B[:3,3:] = npcross(eXi[:3, 3])@eXi[:3,:3]\n",
    "    # print(\"\\n\\nB: \")\n",
    "    # print(B)\n",
    "\n",
    "    return -(A@B).T\n",
    "\n",
    "\n",
    "with np.printoptions(precision=4, suppress=True):\n",
    "    vals = (np.random.random(6),np.random.random(6),np.random.random(6))\n",
    "    res_analytic = Je_analytic_Xi(*vals[:])\n",
    "    res_numeric = Je_numeric_Xi(*vals[:], eps=1E-7)\n",
    "    print(\"\\n\\nResult analytic: \")\n",
    "    print(res_analytic)\n",
    "    print(\"\\n\\nResult numeric: \")\n",
    "    print(res_numeric)\n",
    "    print(np.all(np.isclose(res_analytic, res_numeric)))"
   ]
  },
  {
   "cell_type": "code",
   "execution_count": 60,
   "metadata": {},
   "outputs": [
    {
     "name": "stdout",
     "output_type": "stream",
     "text": [
      "[[ 1. -0.  0.  0.  0.  0.]\n",
      " [ 0.  1.  0.  0.  0.  0.]\n",
      " [ 0. -0.  1.  0.  0.  0.]\n",
      " [ 0. -0. -0.  1. -0.  0.]\n",
      " [ 0. -0.  0.  0.  1.  0.]\n",
      " [ 0. -0.  0. -0.  0.  1.]]\n"
     ]
    }
   ],
   "source": [
    "def Je_numeric_Xj(Z, Xi, Xj, eps=1E-4, type_=np.float64):    \n",
    "    Z, Xi, Xj = Z.astype(type_), Xi.astype(type_), Xj.astype(type_)\n",
    "\n",
    "    generators = [np.array([i==j for i in range(6)], dtype=type_) for j in range(6)]\n",
    "\n",
    "    error_inv = np.linalg.inv(np_exp_error(Z, Xi, Xj))\n",
    "    gen_error = [np.linalg.inv(npexp(Z))@np.linalg.inv(npexp(Xi))@(npexp(Xj)@npexp(g_i*eps)) for g_i in generators]\n",
    "\n",
    "    cols = (1/eps)*np.array([nplog(error_inv@gen_error_i) for gen_error_i in gen_error])\n",
    "\n",
    "    return cols\n",
    "\n",
    "a = np.array([0.1,0.2,0.3,0.4,0.5,0.6])\n",
    "with np.printoptions(precision=4, suppress=True):\n",
    "    vals = (np.random.random(6),np.random.random(6),np.random.random(6))\n",
    "    print(Je_numeric_Xj(*vals))"
   ]
  },
  {
   "cell_type": "markdown",
   "metadata": {},
   "source": [
    "## In vector space\n",
    "The above, I think, gives the results of the jacobian in the se(3) space rather than the vector space of the exponential coordinates. So what I think I need to do is pre-multiply by the adjoint of the whole error function but I'm not entirely convinced thats the case."
   ]
  },
  {
   "cell_type": "code",
   "execution_count": 71,
   "metadata": {},
   "outputs": [
    {
     "name": "stdout",
     "output_type": "stream",
     "text": [
      "\n",
      "\n",
      "Result analytic: \n",
      "[[-0.9037  0.0896 -0.4188 -0.     -0.     -0.    ]\n",
      " [-0.1073 -0.994   0.0189 -0.     -0.     -0.    ]\n",
      " [ 0.4146 -0.062  -0.9079 -0.     -0.     -0.    ]\n",
      " [-0.3432 -0.1331  0.7121 -0.9037  0.0896 -0.4188]\n",
      " [ 0.2184 -0.0243 -0.0406 -0.1073 -0.994   0.0189]\n",
      " [-0.6915  0.1981 -0.3293  0.4146 -0.062  -0.9079]]\n",
      "\n",
      "\n",
      "Result numeric: \n",
      "[[-0.9037  0.0896 -0.4188  0.      0.      0.    ]\n",
      " [-0.1073 -0.994   0.0189  0.      0.      0.    ]\n",
      " [ 0.4146 -0.062  -0.9079  0.      0.      0.    ]\n",
      " [-0.3432 -0.1331  0.7121 -0.9037  0.0896 -0.4188]\n",
      " [ 0.2184 -0.0243 -0.0406 -0.1073 -0.994   0.0189]\n",
      " [-0.6915  0.1981 -0.3293  0.4146 -0.062  -0.9079]]\n",
      "[[ True  True  True  True  True  True]\n",
      " [ True  True  True  True  True  True]\n",
      " [ True  True  True  True  True  True]\n",
      " [ True  True  True  True  True  True]\n",
      " [ True  True  True  True  True  True]\n",
      " [ True  True  True  True  True  True]]\n"
     ]
    }
   ],
   "source": [
    "def Je_numeric_Xi(Z, Xi, Xj, eps=1E-4, type_=np.float64):    \n",
    "    Z, Xi, Xj = Z.astype(type_), Xi.astype(type_), Xj.astype(type_)\n",
    "\n",
    "    generators = [np.array([i==j for i in range(6)], dtype=type_) for j in range(6)]\n",
    "\n",
    "    error_inv = np.linalg.inv(np_exp_error(Z, Xi, Xj))\n",
    "    gen_error = [np.linalg.inv(npexp(Z))@np.linalg.inv(npexp(Xi)@npexp(g_i*eps))@npexp(Xj) for g_i in generators]\n",
    "    # gen_error = [np.linalg.inv(npexp(Z))@np.linalg.inv(npexp(Xi + g_i*eps))@npexp(Xj) for g_i in generators]\n",
    "\n",
    "    cols = (1/eps)*np.array([nplog(error_inv@gen_error_i) for gen_error_i in gen_error])\n",
    "\n",
    "    return cols\n",
    "\n",
    "def Je_analytic_Xi(Z, Xi, Xj):\n",
    "    eXi, eXj = npexp(Xi), npexp(Xj)\n",
    "    A = np.zeros((6,6))\n",
    "    A[:3,:3] = (eXj[:3,:3]).T\n",
    "    A[3:,3:] = (eXj[:3,:3]).T\n",
    "    A[:3,3:] = -(eXj[:3,:3]).T@npcross(eXj[:3,3])\n",
    "    # print(\"A: \")\n",
    "    # print(A)\n",
    "\n",
    "    B = np.zeros_like(A)\n",
    "    B[:3, :3] = eXi[:3,:3]\n",
    "    B[3:,3:] = eXi[:3,:3]\n",
    "    B[:3,3:] = npcross(eXi[:3, 3])@eXi[:3,:3]\n",
    "    # print(\"\\n\\nB: \")\n",
    "    # print(B)\n",
    "\n",
    "    adj = np_adjoint(np.linalg.inv(npexp(Z))@np.linalg.inv(npexp(Xi))@npexp(Xj))\n",
    "\n",
    "    return -(A@B).T\n",
    "\n",
    "\n",
    "with np.printoptions(precision=4, suppress=True):\n",
    "    vals = (np.random.random(6),np.random.random(6),np.random.random(6))\n",
    "    res_analytic = Je_analytic_Xi(*vals[:])\n",
    "    res_numeric = Je_numeric_Xi(*vals[:], eps=1E-7)\n",
    "    print(\"\\n\\nResult analytic: \")\n",
    "    print(res_analytic)\n",
    "    print(\"\\n\\nResult numeric: \")\n",
    "    print(res_numeric)\n",
    "    # print(\"\\n\\nDifference: \")\n",
    "    # print(res_numeric@np.linalg.inv(res_analytic))\n",
    "    # print(\"\\n\\nAdjoint: \")\n",
    "    # print(np_adjoint(np.linalg.inv(npexp(vals[0]))@np.linalg.inv(npexp(vals[1]))@npexp(vals[2])))\n",
    "    # print(np_adjoint(np.linalg.inv(npexp(vals[1]))))\n",
    "\n",
    "    print(np.isclose(res_analytic, res_numeric))"
   ]
  }
 ],
 "metadata": {
  "kernelspec": {
   "display_name": "3D_ML",
   "language": "python",
   "name": "python3"
  },
  "language_info": {
   "codemirror_mode": {
    "name": "ipython",
    "version": 3
   },
   "file_extension": ".py",
   "mimetype": "text/x-python",
   "name": "python",
   "nbconvert_exporter": "python",
   "pygments_lexer": "ipython3",
   "version": "3.10.0"
  }
 },
 "nbformat": 4,
 "nbformat_minor": 2
}

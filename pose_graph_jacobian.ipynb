{
 "cells": [
  {
   "cell_type": "code",
   "execution_count": null,
   "metadata": {},
   "outputs": [],
   "source": [
    "import sympy as s\n",
    "from IPython.display import display\n",
    "from pprint import pprint"
   ]
  },
  {
   "cell_type": "code",
   "execution_count": null,
   "metadata": {},
   "outputs": [],
   "source": [
    "i1,i2,i3,i4,i5,i6 = s.symbols(\" \".join([f\"x_{{i{i}}}\" for i in range(6)]))\n",
    "j1,j2,j3,j4,j5,j6 = s.symbols(\" \".join([f\"x_{{j{i}}}\" for i in range(6)]))\n",
    "z1,z2,z3,z4,z5,z6,z7,z8,z9,z10,z11,z12 = s.symbols(\" \".join([f\"z_{{{i}}}\" for i in range(12)]))\n",
    "theta_i, theta_j, theta_z = s.symbols(r\"\\theta_i \\theta_j \\theta_z\")\n",
    "Zij = s.Matrix([\n",
    "    [z1,z2,z3,z10],\n",
    "    [z4,z5,z6,z11],\n",
    "    [z7,z8,z9,z12],\n",
    "    [0,0,0,1]\n",
    "])\n",
    "\n",
    "theta_i"
   ]
  },
  {
   "cell_type": "code",
   "execution_count": null,
   "metadata": {},
   "outputs": [],
   "source": [
    "def cross(a,b,c):\n",
    "    return s.Matrix([\n",
    "        [0,-c,b],\n",
    "        [c,0,-a],\n",
    "        [-b,a,0]\n",
    "    ])\n",
    "\n",
    "def exp(x1,x2,x3,x4,x5,x6):\n",
    "    theta = s.sqrt(x4*x4 + x5*x5 + x6*x6)\n",
    "    a = s.sin(theta)/theta\n",
    "    b = (1 - s.cos(theta))/(theta*theta)\n",
    "    c = (theta - s.sin(theta))/(theta**3)\n",
    "    w = cross(x4,x5,x6)\n",
    "    R = s.eye(3) + a*w + b*w@w\n",
    "\n",
    "    t = (s.eye(3) + b*w + c*w@w)@s.Matrix([[x1], [x2], [x3]])\n",
    "    \n",
    "    mat = s.eye(4)\n",
    "    mat[:3, :3] = R\n",
    "    mat[:3, 3] = t\n",
    "\n",
    "    return mat\n",
    "\n",
    "def log(T):\n",
    "    theta = s.acos((T[0, 0] + T[1, 1] + T[2, 2] - 1) / 2)\n",
    "\n",
    "    if theta == 0:\n",
    "        return T[0, 3], T[1, 3], T[2, 3], 0, 0, 0\n",
    "\n",
    "    a = s.sin(theta)/theta\n",
    "    b = (1 - s.cos(theta))/(theta*theta)\n",
    "\n",
    "    x4 = 1/(2*a)*(T[2, 1] - T[1, 2])\n",
    "    x5 = 1/(2*a)*(T[0, 2] - T[2, 0])\n",
    "    x6 = 1/(2*a)*(T[1, 0] - T[0, 1])\n",
    "    \n",
    "    w = cross(x4,x5,x6)\n",
    "    u = (s.eye(3) - 1/2*w + 1/(theta**2)*(1 - a/(2*b))*w@w)@T[:3, 3]\n",
    "\n",
    "    return u[0], u[1], u[2], x4, x5, x6\n",
    "\n",
    "log(exp(0.1,0.2,0.3,0.4,0.5,0.6))"
   ]
  },
  {
   "cell_type": "code",
   "execution_count": null,
   "metadata": {},
   "outputs": [],
   "source": [
    "def invert(T):\n",
    "    R = T[:3, :3]\n",
    "    t = T[:3, 3]\n",
    "    \n",
    "    mat = s.eye(4)\n",
    "    mat[:3, :3] = R.T\n",
    "    mat[:3, 3] = -R.T@t\n",
    "\n",
    "    return mat"
   ]
  },
  {
   "cell_type": "code",
   "execution_count": null,
   "metadata": {},
   "outputs": [],
   "source": [
    "Xi = exp(i1,i2,i3,i4,i5,i6)\n",
    "Xj = exp(j1,j2,j3,j4,j5,j6)\n",
    "Zij = exp(z1,z2,z3,z4,z5,z6)\n",
    "\n",
    "Xi = Xi.subs(s.sqrt(i4*i4 + i5*i5 + i6*i6), theta_i)\n",
    "Xj = Xj.subs(s.sqrt(j4*j4 + j5*j5 + j6*j6), theta_j)\n",
    "Zij = Zij.subs(s.sqrt(z4*z4 + z5*z5 + z6*z6), theta_z)\n",
    "\n",
    "Xi"
   ]
  },
  {
   "cell_type": "code",
   "execution_count": null,
   "metadata": {},
   "outputs": [],
   "source": [
    "e = log(invert(Zij)@invert(Xi)@Xj)\n",
    "e[4]"
   ]
  },
  {
   "cell_type": "markdown",
   "metadata": {},
   "source": [
    "# Check simplification"
   ]
  },
  {
   "cell_type": "code",
   "execution_count": null,
   "metadata": {},
   "outputs": [],
   "source": [
    "Xi = exp(i1,i2,i3,i4,i5,i6)\n",
    "Xj = exp(j1,j2,j3,j4,j5,j6)\n",
    "Zij = exp(z1,z2,z3,z4,z5,z6)"
   ]
  },
  {
   "cell_type": "code",
   "execution_count": null,
   "metadata": {},
   "outputs": [],
   "source": [
    "RXi = Xi[:3,:3]\n",
    "RXj = Xj[:3,:3]\n",
    "RZij = Zij[:3,:3]\n",
    "tXi = Xi[:3, 3]\n",
    "tXj = Xj[:3, 3]\n",
    "tZij = Zij[:3, 3]"
   ]
  },
  {
   "cell_type": "code",
   "execution_count": null,
   "metadata": {},
   "outputs": [],
   "source": [
    "res1 = invert(Zij)@invert(Xi)@Xj"
   ]
  },
  {
   "cell_type": "code",
   "execution_count": null,
   "metadata": {},
   "outputs": [],
   "source": [
    "res2 = s.eye(4)\n",
    "res2[:3,:3] = RZij.T@RXi.T@RXj\n",
    "res2[:3, 3] = RZij.T@(RXi.T@(tXj - tXi) - tZij)"
   ]
  },
  {
   "cell_type": "code",
   "execution_count": null,
   "metadata": {},
   "outputs": [],
   "source": [
    "A,B,C = s.MatrixSymbol(\"A\", 4, 4),s.MatrixSymbol(\"B\", 4, 4),s.MatrixSymbol(\"C\", 4, 4)\n",
    "A.inv()@B@C.inv()@B.inv()@A"
   ]
  },
  {
   "cell_type": "markdown",
   "metadata": {},
   "source": [
    "Pretty sure that does give me the correct result\n",
    "\n",
    "$$Z_{ij}^{-1}X_i^{-1}X_j \\equiv [R_z^TR_i^TR_j | R_z^T(R_i^T(t_j - t_i) - t_z)]$$\n",
    "\n",
    "However how I take the derivative of that with the log function I'm not entirely sure. I guess I can pass it through the log function and then take the elementwise derivative but that sounds rather messy to say the least. Honestly this whole thing is getting rather messy. It would be really nice if there was a way to get take the derivative of the log function and just chain rule it."
   ]
  },
  {
   "cell_type": "markdown",
   "metadata": {},
   "source": [
    "[This answer](https://math.stackexchange.com/questions/723262/explicit-proof-of-the-derivative-of-a-matrix-logarithm) suggests that the derivative of the matrix log function is:\n",
    "$$X'(x)X^{-1}$$\n",
    "\n",
    "Which I'm going to try use to solve this silly little jacobian. I'm not entirely convinced that its the right way to do it but I'm going to give it a shot anyway. Actually wait - if we look at the dimensions of it - I'm going to end up with a $4\\times4$ matrix which definitely isnt the $6\\times1$ vector that I would want from this. Damn. Thats not going to work at all. Back to the drawing board I guess. \n",
    "\n",
    "$\\ominus$"
   ]
  },
  {
   "cell_type": "code",
   "execution_count": null,
   "metadata": {},
   "outputs": [],
   "source": [
    "import numpy as np\n",
    "\n",
    "def npcross(x):\n",
    "    return np.array([\n",
    "        [0,-x[2],x[1]],\n",
    "        [x[2],0,-x[0]],\n",
    "        [-x[1],x[0],0]\n",
    "    ])\n",
    "\n",
    "def npexp(x):\n",
    "    theta = np.linalg.norm(x[3:])\n",
    "    if theta == 0:\n",
    "        R = np.eye(3)\n",
    "        t = x[:3]\n",
    "    else:\n",
    "        a = np.sin(theta)/theta\n",
    "        b = (1 - np.cos(theta))/(theta*theta)\n",
    "        c = (theta - np.sin(theta))/(theta**3)\n",
    "        w = npcross(x[3:])\n",
    "        R = np.eye(3) + a*w + b*w@w\n",
    "\n",
    "        t = (np.eye(3) + b*w + c*w@w)@x[:3]\n",
    "    \n",
    "    mat = np.eye(4)\n",
    "    mat[:3, :3] = R\n",
    "    mat[:3, 3] = t\n",
    "\n",
    "    return mat\n",
    "\n",
    "def nplog(T):\n",
    "    theta = np.arccos((np.trace(T) - 2) / 2)\n",
    "    # theta = np.arccos((T[0, 0] + T[1, 1] + T[2, 2] - 1) / 2)\n",
    "\n",
    "    if theta == 0:\n",
    "        return T[0, 3], T[1, 3], T[2, 3], 0, 0, 0\n",
    "\n",
    "    a = np.sin(theta)/theta\n",
    "    b = (1 - np.cos(theta))/(theta*theta)\n",
    "\n",
    "    x4 = 1/(2*a)*(T[2, 1] - T[1, 2])\n",
    "    x5 = 1/(2*a)*(T[0, 2] - T[2, 0])\n",
    "    x6 = 1/(2*a)*(T[1, 0] - T[0, 1])\n",
    "    \n",
    "    w = npcross(np.array([x4,x5,x6]))\n",
    "    u = (np.eye(3) - 1/2*w + 1/(theta**2)*(1 - a/(2*b))*w@w)@T[:3, 3]\n",
    "\n",
    "    return u[0], u[1], u[2], x4, x5, x6\n",
    "\n",
    "np.isclose(nplog(npexp(np.array([0.1,0.2,0.3,0.4,0.5,0.6]))), np.array([0.1,0.2,0.3,0.4,0.5,0.6]))"
   ]
  },
  {
   "cell_type": "code",
   "execution_count": null,
   "metadata": {},
   "outputs": [],
   "source": [
    "def np_adjoint(X):\n",
    "    \"\"\"X is a 4x4 matrix not a 6 Vector\"\"\"\n",
    "    mat = np.zeros((6,6))\n",
    "    mat[:3,:3] = X[:3,:3]\n",
    "    mat[3:,3:] = X[:3,:3]\n",
    "    mat[:3,3:] = npcross(X[:3,3])@X[:3,:3]\n",
    "\n",
    "    return mat.T\n"
   ]
  },
  {
   "cell_type": "code",
   "execution_count": null,
   "metadata": {},
   "outputs": [],
   "source": [
    "def np_error(Z, Xi, Xj):\n",
    "    return nplog(np.linalg.inv(npexp(Z))@np.linalg.inv(npexp(Xi))@npexp(Xj))\n",
    "\n",
    "def np_exp_error(Z, Xi, Xj):\n",
    "    return np.linalg.inv(npexp(Z))@np.linalg.inv(npexp(Xi))@npexp(Xj)\n"
   ]
  },
  {
   "cell_type": "code",
   "execution_count": null,
   "metadata": {},
   "outputs": [],
   "source": [
    "def Je_numeric_Xi(Z, Xi, Xj, eps=1E-4, type_=np.float64):    \n",
    "    Z, Xi, Xj = Z.astype(type_), Xi.astype(type_), Xj.astype(type_)\n",
    "\n",
    "    generators = [np.array([i==j for i in range(6)], dtype=type_) for j in range(6)]\n",
    "\n",
    "    error_inv = np.linalg.inv(np_exp_error(Z, Xi, Xj))\n",
    "    gen_error = [np.linalg.inv(npexp(Z))@np.linalg.inv(npexp(Xi)@npexp(g_i*eps))@npexp(Xj) for g_i in generators]\n",
    "\n",
    "    cols = (1/eps)*np.array([nplog(error_inv@gen_error_i) for gen_error_i in gen_error])\n",
    "\n",
    "    return cols\n",
    "\n",
    "a = np.array([0.1,0.2,0.3,0.4,0.5,0.6])\n",
    "with np.printoptions(precision=4, suppress=True):\n",
    "    print(Je_numeric_Xi(a,a,a))"
   ]
  },
  {
   "cell_type": "code",
   "execution_count": null,
   "metadata": {},
   "outputs": [],
   "source": [
    "def Je_analytic_Xi(Z, Xi, Xj):\n",
    "    eXi, eXj = npexp(Xi), npexp(Xj)\n",
    "    A = np.zeros((6,6))\n",
    "    A[:3,:3] = (eXj[:3,:3]).T\n",
    "    A[3:,3:] = (eXj[:3,:3]).T\n",
    "    A[:3,3:] = -(eXj[:3,:3]).T@npcross(eXj[:3,3])\n",
    "    # print(\"A: \")\n",
    "    # print(A)\n",
    "\n",
    "    B = np.zeros_like(A)\n",
    "    B[:3, :3] = eXi[:3,:3]\n",
    "    B[3:,3:] = eXi[:3,:3]\n",
    "    B[:3,3:] = npcross(eXi[:3, 3])@eXi[:3,:3]\n",
    "    # print(\"\\n\\nB: \")\n",
    "    # print(B)\n",
    "\n",
    "    return -(A@B).T\n",
    "\n",
    "\n",
    "with np.printoptions(precision=4, suppress=True):\n",
    "    vals = (np.random.random(6),np.random.random(6),np.random.random(6))\n",
    "    res_analytic = Je_analytic_Xi(*vals[:])\n",
    "    res_numeric = Je_numeric_Xi(*vals[:], eps=1E-7)\n",
    "    print(\"\\n\\nResult analytic: \")\n",
    "    print(res_analytic)\n",
    "    print(\"\\n\\nResult numeric: \")\n",
    "    print(res_numeric)\n",
    "    print(np.all(np.isclose(res_analytic, res_numeric)))"
   ]
  },
  {
   "cell_type": "code",
   "execution_count": null,
   "metadata": {},
   "outputs": [],
   "source": [
    "def Je_numeric_Xj(Z, Xi, Xj, eps=1E-4, type_=np.float64):    \n",
    "    Z, Xi, Xj = Z.astype(type_), Xi.astype(type_), Xj.astype(type_)\n",
    "\n",
    "    generators = [np.array([i==j for i in range(6)], dtype=type_) for j in range(6)]\n",
    "\n",
    "    error_inv = np.linalg.inv(np_exp_error(Z, Xi, Xj))\n",
    "    gen_error = [np.linalg.inv(npexp(Z))@np.linalg.inv(npexp(Xi))@(npexp(Xj)@npexp(g_i*eps)) for g_i in generators]\n",
    "\n",
    "    cols = (1/eps)*np.array([nplog(error_inv@gen_error_i) for gen_error_i in gen_error])\n",
    "\n",
    "    return cols\n",
    "\n",
    "a = np.array([0.1,0.2,0.3,0.4,0.5,0.6])\n",
    "with np.printoptions(precision=4, suppress=True):\n",
    "    vals = (np.random.random(6),np.random.random(6),np.random.random(6))\n",
    "    print(Je_numeric_Xj(*vals))"
   ]
  },
  {
   "cell_type": "markdown",
   "metadata": {},
   "source": [
    "## In vector space\n",
    "The above, I think, gives the results of the jacobian in the se(3) space rather than the vector space of the exponential coordinates. So what I think I need to do is pre-multiply by the adjoint of the whole error function but I'm not entirely convinced thats the case."
   ]
  },
  {
   "cell_type": "code",
   "execution_count": null,
   "metadata": {},
   "outputs": [],
   "source": [
    "def Je_numeric_Xi(Z, Xi, Xj, eps=1E-8, type_=np.float64):    \n",
    "    Z, Xi, Xj = Z.astype(type_), Xi.astype(type_), Xj.astype(type_)\n",
    "\n",
    "    generators = [np.array([i==j for i in range(6)], dtype=type_) for j in range(6)]\n",
    "\n",
    "    error_inv = np.linalg.inv(np_exp_error(Z, Xi, Xj))\n",
    "    gen_error = [np.linalg.inv(npexp(Z))@np.linalg.inv(npexp(Xi)@npexp(g_i*eps))@npexp(Xj) for g_i in generators]\n",
    "    # gen_error = [np.linalg.inv(npexp(Z))@np.linalg.inv(npexp(Xi + g_i*eps))@npexp(Xj) for g_i in generators]\n",
    "\n",
    "\n",
    "    cols = (1/eps)*np.array([nplog(error_inv@gen_error_i) for gen_error_i in gen_error]).T\n",
    "\n",
    "    return cols\n",
    "\n",
    "def Je_analytic_Xi(Z, Xi, Xj):\n",
    "    eXi, eXj = npexp(Xi), npexp(Xj)\n",
    "    A = np.zeros((6,6))\n",
    "    A[:3,:3] = (eXj[:3,:3]).T\n",
    "    A[3:,3:] = (eXj[:3,:3]).T\n",
    "    A[:3,3:] = -(eXj[:3,:3]).T@npcross(eXj[:3,3])\n",
    "    # print(\"A: \")\n",
    "    # print(A)\n",
    "\n",
    "    B = np.zeros_like(A)\n",
    "    B[:3, :3] = eXi[:3,:3]\n",
    "    B[3:,3:] = eXi[:3,:3]\n",
    "    B[:3,3:] = npcross(eXi[:3, 3])@eXi[:3,:3]\n",
    "    # print(\"\\n\\nB: \")\n",
    "    # print(B)\n",
    "\n",
    "    adj = np_adjoint(np.linalg.inv(npexp(Z))@np.linalg.inv(npexp(Xi))@npexp(Xj))\n",
    "\n",
    "    return -A@B\n",
    "\n",
    "\n",
    "with np.printoptions(precision=4, suppress=True):\n",
    "    vals = (np.random.random(6),np.random.random(6),np.random.random(6))\n",
    "    res_analytic = Je_analytic_Xi(*vals[:])\n",
    "    res_numeric = Je_numeric_Xi(*vals[:], eps=1E-7)\n",
    "    print(\"\\n\\nResult analytic: \")\n",
    "    print(res_analytic)\n",
    "    print(\"\\n\\nResult numeric: \")\n",
    "    print(res_numeric)\n",
    "    # print(\"\\n\\nDifference: \")\n",
    "    # print(res_numeric@np.linalg.inv(res_analytic))\n",
    "    # print(\"\\n\\nAdjoint: \")\n",
    "    # print(np_adjoint(np.linalg.inv(npexp(vals[0]))@np.linalg.inv(npexp(vals[1]))@npexp(vals[2])))\n",
    "    # print(np_adjoint(np.linalg.inv(npexp(vals[1]))))\n",
    "\n",
    "    print(np.isclose(res_analytic, res_numeric))"
   ]
  },
  {
   "cell_type": "code",
   "execution_count": null,
   "metadata": {},
   "outputs": [],
   "source": [
    "def calc_coeffs(theta):\n",
    "    return (\n",
    "        np.sin(theta)/theta,\n",
    "        (1-np.cos(theta))/(theta**2),\n",
    "        (theta - np.sin(theta))/(theta**3),\n",
    "        (theta*np.cos(theta) - np.sin(theta))/theta**3,\n",
    "        (2*np.cos(theta) - 2 + theta*np.sin(theta))/theta**4,\n",
    "        (3*np.sin(theta) - 2*theta - theta*np.cos(theta))/theta**5\n",
    ")\n",
    "\n",
    "\n",
    "def calc_generators(omega):\n",
    "    w = npcross(omega)\n",
    "    w2 = w@w\n",
    "    w_dash = [\n",
    "        np.array([\n",
    "            [0,0,0],\n",
    "            [0,0,-1],\n",
    "            [0,1,0]\n",
    "        ]), \n",
    "        np.array([\n",
    "            [0,0,1],\n",
    "            [0,0,0],\n",
    "            [-1,0,0]\n",
    "        ]),\n",
    "        np.array([\n",
    "            [0,-1,0],\n",
    "            [1,0,0],\n",
    "            [0,0,0]\n",
    "        ])\n",
    "    ]\n",
    "    w2_dash = [x@w + w@x for x in w_dash]\n",
    "\n",
    "    return w, w2, w_dash, w2_dash"
   ]
  },
  {
   "cell_type": "code",
   "execution_count": null,
   "metadata": {},
   "outputs": [],
   "source": [
    "def calc_jacobian(x):\n",
    "    theta = np.linalg.norm(x[3:])\n",
    "    rho = x[:3].reshape((3,1))\n",
    "    omega = x[3:]\n",
    "    print(rho.shape)\n",
    "\n",
    "    coeffs = calc_coeffs(theta)\n",
    "    generators = calc_generators(x[3:])\n",
    "\n",
    "    dr = [coeffs[3]*var*generators[0] + coeffs[0]*generators[2] + coeffs[4]*var*generators[1] + coeffs[1]*generators[3] for var in omega]\n",
    "    dt = [(coeffs[4]*var*generators[0] + coeffs[1]*generators[2] + coeffs[5]*var*generators[1] + coeffs[2]*generators[3])*rho for var in omega]\n",
    "\n",
    "# calc_jacobian(a)"
   ]
  },
  {
   "cell_type": "markdown",
   "metadata": {},
   "source": [
    "## Changing Parameterisation\n",
    "So it seems that exponential coordinates, albeit having the nice lie algebra property, have a big fat singularity at the identity - which is basically where everything starts off at. Obviously that isn't ideal. So I'm going to try using a different parameterisation - a concatenation of a translation vector and the vector part of a quaternion. Roughly:\n",
    "\n",
    "$$e_{ij}(\\bold{x}) = (z_{ij}^{-1} \\oplus (x_i^{-1} \\oplus x_j))$$\n",
    "\n",
    "$$x_i \\oplus x_j = \\begin{pmatrix} q_i(t_j) \\\\ q_i \\dot q_j \\end{pmatrix} $$"
   ]
  },
  {
   "cell_type": "code",
   "execution_count": null,
   "metadata": {},
   "outputs": [],
   "source": [
    "from scipy.spatial.transform import Rotation\n",
    "import quaternion\n",
    "\n",
    "\n",
    "def make_quat():\n",
    "    angle = np.random.random()*2*np.pi\n",
    "    axis = np.random.random(3)-0.5\n",
    "    axis = axis / np.linalg.norm(axis)\n",
    "\n",
    "    w = np.cos(angle/2)\n",
    "    vec = np.sin(angle/2)*axis\n",
    "\n",
    "    return w, vec\n",
    "\n",
    "def rotation_from_np_quat(quat):\n",
    "    return Rotation.from_quat([quat.x, quat.y, quat.z, quat.w])\n",
    "\n",
    "p_real, p_imag = make_quat()\n",
    "q_real, q_imag = make_quat()\n",
    "\n",
    "p_t = np.random.random(3)*2 - 1\n",
    "q_t = np.random.random(3)*2 - 1\n",
    "\n",
    "a = Rotation.from_quat(np.array([*p_imag, p_real]))\n",
    "b = Rotation.from_quat(np.array([*q_imag, q_real]))\n",
    "\n",
    "p_mat = np.eye(4)\n",
    "p_mat[:3,:3] = a.as_matrix()\n",
    "p_mat[:3,3] = p_t\n",
    "\n",
    "q_mat = np.eye(4)\n",
    "q_mat[:3,:3] = b.as_matrix()\n",
    "q_mat[:3,3] = q_t\n",
    "\n",
    "mat_res = p_mat@q_mat\n",
    "\n",
    "\n",
    "\n",
    "p, q = np.quaternion(p_real, *p_imag), np.quaternion(q_real, *q_imag)\n",
    "\n",
    "new_quat = p*q\n",
    "new_t = (p*np.quaternion(0, *q_t)*p.conjugate()).imag + p_t\n",
    "\n",
    "new_rot = rotation_from_np_quat(p*q)\n",
    "quat_res = np.eye(4)\n",
    "quat_res[:3,:3] = new_rot.as_matrix()\n",
    "quat_res[:3,3] = new_t\n",
    "\n",
    "np.isclose(mat_res, quat_res)"
   ]
  },
  {
   "cell_type": "code",
   "execution_count": null,
   "metadata": {},
   "outputs": [],
   "source": [
    "np.quaternion(1,2,3,4).w"
   ]
  },
  {
   "cell_type": "markdown",
   "metadata": {},
   "source": [
    "## SymPy Quaternion"
   ]
  },
  {
   "cell_type": "code",
   "execution_count": null,
   "metadata": {},
   "outputs": [],
   "source": [
    "def make_s_pose(symbol):\n",
    "    w,i,j,k,x,y,z = s.symbols(f\"{symbol}_w {symbol}_i {symbol}_j {symbol}_k {symbol}_x {symbol}_y {symbol}_z\")\n",
    "\n",
    "    return s.Quaternion(w,i,j,k, True), s.Quaternion(0,x,y,z)\n",
    "\n",
    "q_z, t_z = make_s_pose(\"Z\")\n",
    "q_xi, t_xi = make_s_pose(\"X\")\n",
    "q_yj, t_yj = make_s_pose(\"Y\")\n",
    "\n",
    "q_xi, t_xi"
   ]
  },
  {
   "cell_type": "code",
   "execution_count": null,
   "metadata": {},
   "outputs": [],
   "source": [
    "def pqp_star_pure_q(p, q):\n",
    "    \n",
    "    pw = p.a\n",
    "    pv = s.Matrix([p.b,p.c,p.d])\n",
    "    qv = s.Matrix([q.b,q.c,q.d])\n",
    "\n",
    "    vector = pv.dot(qv)*pv + (pw**2)*qv + 2*pw*pv.cross(qv) - pv.cross(qv).cross(pv)\n",
    "\n",
    "    return s.Quaternion(0, *vector)\n",
    "\n",
    "w,a,b,c,x,y,z = s.symbols(\"p_w p_i p_j p_k q_i q_j q_k\")\n",
    "\n",
    "p = s.Quaternion(w,a,b,c)\n",
    "q = s.Quaternion(0,x,y,z)\n",
    "s.simplify(pqp_star_pure_q(p.conjugate(), q) - p.conjugate()*q*p)"
   ]
  },
  {
   "cell_type": "code",
   "execution_count": null,
   "metadata": {},
   "outputs": [],
   "source": [
    "def make_symbols(symbol:str):\n",
    "    if \"{\" in symbol:\n",
    "        w,i,j,k,x,y,z = s.symbols(f\"{symbol}w}} {symbol}i}} {symbol}j}} {symbol}k}} {symbol}x}} {symbol}y}} {symbol}z}}\")\n",
    "    else:\n",
    "        w,i,j,k,x,y,z = s.symbols(f\"{symbol}_w {symbol}_i {symbol}_j {symbol}_k {symbol}_x {symbol}_y {symbol}_z\")\n",
    "\n",
    "    q = s.Quaternion(w,i,j,k)\n",
    "    t = s.Quaternion(0,x,y,z)\n",
    "\n",
    "    return q, t\n",
    "\n",
    "def error(zq, zt, xiq, xit, xjq, xjt):\n",
    "    et = pqp_star_pure_q(zq.conjugate(), pqp_star_pure_q(xiq.conjugate(), xjt)) - pqp_star_pure_q(zq.conjugate(), pqp_star_pure_q(xiq.conjugate(), xit)) - pqp_star_pure_q(zq.conjugate(), zt)\n",
    "    eq = zq.conjugate()*xiq.conjugate()*xjq\n",
    "\n",
    "    return s.Matrix([et.b, et.c, et.d, eq.b, eq.c, eq.d])\n",
    "\n",
    "zq, zt = make_symbols(\"Z_{ij\")\n",
    "xiq, xit = make_symbols(\"X_{i\")\n",
    "xjq, xjt = make_symbols(\"X_{j\")\n",
    "\n",
    "e = error(zq,zt,xiq,xit,xjq,xjt)\n",
    "et2 = zq.conjugate()*xiq.conjugate()*(xjt - xit)*xiq*zq - zq.conjugate()*zt*zq\n",
    "eq2 = zq.conjugate()*xiq.conjugate()*xjq\n",
    "e2 = s.Matrix([et2.b, et2.c, et2.d, eq2.b, eq2.c, eq2.d])\n",
    "s.simplify(e - e2)"
   ]
  },
  {
   "cell_type": "markdown",
   "metadata": {},
   "source": [
    "## Results for PGO jacobian on new Parameterisation\n",
    "1. Analytic jacobian of Xi\n",
    "2. Analytic jacobian of Xj\n",
    "3. Analytic jacobian of the projection into the manifold\n"
   ]
  },
  {
   "cell_type": "code",
   "execution_count": null,
   "metadata": {},
   "outputs": [],
   "source": [
    "def Je_analytic_Xi(Zq, Zt, Xiq, Xit, Xjq, Xjt):\n",
    "    # et = Zq.conjugate()*(Xiq.conjugate()*(Xjt - Xit)*Xiq - Zt)*Zq\n",
    "    # eq = Zq.conjugate()*Xiq.conjugate()*Xjt \n",
    "    Jt = translation_error_derivative(Zq.conjugate()*Xiq.conjugate(), Xit)\n",
    "\n",
    "    xjt_part = translation_rotation_error_derivative(Xiq.conjugate(), Zq.conjugate(), Xjt)\n",
    "    xit_part = translation_rotation_error_derivative(Xiq.conjugate(), Zq.conjugate(), Xit)\n",
    "\n",
    "    JetXq = xjt_part - xit_part\n",
    "\n",
    "    JeqXq = s.Matrix([[(Zq.conjugate()*dpv*Xjq).b,(Zq.conjugate()*dpv*Xjq).c,(Zq.conjugate()*dpv*Xjq).d] for dpv in [s.Quaternion(x[0], -x[1], -x[2], -x[3]) for x in np.eye(4)]])\n",
    "\n",
    "    res = s.zeros(6,7)\n",
    "\n",
    "    print(Jt.shape)\n",
    "\n",
    "    res[:3,:3] = -Jt.T\n",
    "    res[:3, 3:] = JetXq.T\n",
    "    res[3:, 3:] = JeqXq.T\n",
    "\n",
    "    return res\n",
    "\n",
    "def translation_error_derivative(q, xt):\n",
    "    pw = q.a\n",
    "    pv = s.Matrix([q.b, q.c, q.d]) # q\n",
    "    qv = s.Matrix([xt.b, xt.c, xt.d]) # xt\n",
    "\n",
    "    Jt = [pv.dot(dqv)*pv + pw**2*dqv + 2*pw*pv.cross(dqv) - pv.cross(dqv).cross(pv) for dqv in [s.Matrix([x[0], x[1], x[2]]) for x in np.eye(3)]]\n",
    "    \n",
    "    return s.Matrix([[x[0,0], x[1,0], x[2,0]] for x in Jt])\n",
    "\n",
    "def translation_rotation_error_derivative(xiq, zq, q):\n",
    "    pw = xiq.a\n",
    "    pv = s.Matrix([xiq.b, xiq.c, xiq.d]) # -xiq\n",
    "    qv = s.Matrix([q.b, q.c, q.d]) # q\n",
    "    \n",
    "    dqvs = [2*pw*qv + 2*pv.cross(qv)]\n",
    "\n",
    "    for dpv in [s.Matrix([x[0], x[1], x[2]]) for x in -np.eye(3)]:\n",
    "        dqvs.append(dpv.dot(qv)*pv + pv.dot(qv)*dpv + 2*pw*dpv.cross(qv) - dpv.cross(qv).cross(pv) - pv.cross(qv).cross(dpv))\n",
    "\n",
    "    pw = zq.a\n",
    "    pv = s.Matrix([zq.b, zq.c, zq.d]) # -zq\n",
    "    q = xiq.conjugate()*q*xiq\n",
    "    qv = s.Matrix([q.b, q.c, q.d]) # q\n",
    "\n",
    "    res_vec = []\n",
    "    for dqv in dqvs:\n",
    "        res_vec.append(pv.dot(dqv)*pv + pw**2*dqv + 2*pw*pv.cross(dqv) - pv.cross(dqv).cross(pv))\n",
    "\n",
    "    return s.Matrix([x.values() for x in res_vec])\n",
    "\n",
    "je = Je_analytic_Xi(zq,zt,xiq,xit,xjq,xjt)\n",
    "\n",
    "je_sym = s.zeros(6,7)\n",
    "for i, diff in enumerate([xit.b, xit.c, xit.d, xiq.a, xiq.b, xiq.c, xiq.d]):\n",
    "    je_ = s.diff(e, diff)\n",
    "    je_sym[ : , i] = je_\n",
    "\n",
    "s.simplify(je_sym - je)"
   ]
  },
  {
   "cell_type": "code",
   "execution_count": null,
   "metadata": {},
   "outputs": [],
   "source": [
    "def Je_analytic_Xj(Zq, Zt, Xiq, Xit, Xjq, Xjt):\n",
    "    Jt = translation_error_derivative(Zq.conjugate()*Xiq.conjugate(), Xjt)\n",
    "    JeqXq = s.Matrix([[y.b, y.c, y.d] for y in [Zq.conjugate()*Xiq.conjugate()*dpv for dpv in [s.Quaternion(x[0], x[1], x[2], x[3]) for x in np.eye(4)]]])\n",
    "    print(JeqXq.shape)\n",
    "    res = s.zeros(6,7)\n",
    "    res[:3,:3] = Jt.T\n",
    "    res[3:, 3:] = JeqXq.T\n",
    "\n",
    "    return res\n",
    "\n",
    "je = Je_analytic_Xj(zq,zt,xiq,xit,xjq,xjt)\n",
    "\n",
    "je_sym = s.zeros(6,7)\n",
    "for i, diff in enumerate([xjt.b, xjt.c, xjt.d, xjq.a, xjq.b, xjq.c, xjq.d]):\n",
    "    je_ = s.diff(e, diff)\n",
    "    je_sym[ : , i] = je_\n",
    "\n",
    "s.simplify(je_sym - je)"
   ]
  },
  {
   "cell_type": "markdown",
   "metadata": {},
   "source": [
    "$$X_i \\boxplus \\Delta \\tilde{x} = X_{iq}*\\Delta \\tilde{x}_q | X_{iq}*\\Delta \\tilde{x}_t*X_{iq}^* + \\Delta \\tilde{x}_t$$"
   ]
  },
  {
   "cell_type": "code",
   "execution_count": null,
   "metadata": {},
   "outputs": [],
   "source": [
    "\n",
    "\n",
    "def J_delta_x(Xq, Xt, dxq, dxt):\n",
    "    pw = Xq.a\n",
    "    pv = s.Matrix([Xq.b, Xq.c, Xq.d])\n",
    "    qv = s.Matrix([dxt.b, dxt.c, dxt.d])\n",
    "    \n",
    "    dpvs = [\n",
    "        s.Matrix([1,0,0]),\n",
    "        s.Matrix([0,1,0]),\n",
    "        s.Matrix([0,0,1])\n",
    "    ]\n",
    "\n",
    "    Jtt = s.Matrix([[a[0],a[1],a[2]] for a in [pv.dot(dqv)*pv + pw**2*dqv + 2*pw*pv.cross(dqv) - pv.cross(dqv).cross(pv) for dqv in dpvs]])\n",
    "\n",
    "    dxqw = s.sqrt(1-(dxq.b**2 + dxq.c**2 + dxq.d**2))\n",
    "    ddxq = [s.Quaternion(-dxq.b/dxqw,1,0,0), s.Quaternion(-dxq.c/dxqw,0,1,0), s.Quaternion(-dxq.d/dxqw,0,0,1)]\n",
    "\n",
    "    Jq = s.Matrix([[(Xq*dq).a, (Xq*dq).b, (Xq*dq).c, (Xq*dq).d] for dq in ddxq])\n",
    "    print(Jq.shape)\n",
    "\n",
    "    res = s.zeros(7,6)\n",
    "    res[:3,:3] = Jtt.T\n",
    "    res[3:,3:] = Jq.T\n",
    "\n",
    "    return res\n",
    "\n",
    "    \n",
    "        \n",
    "dxq, dxt = make_symbols(\"\\\\tilde{x}_{\")\n",
    "dxq = s.Quaternion(s.sqrt(1-(dxq.b**2 + dxq.c**2 + dxq.d**2)), dxq.b, dxq.c, dxq.d)\n",
    "\n",
    "Jdx = J_delta_x(xiq, xit, dxq, dxt)\n",
    "\n",
    "et = xiq*dxt*xiq.conjugate() + xit\n",
    "eq = xiq*dxq\n",
    "symdx = s.zeros(7,6)\n",
    "for i, diff in enumerate([dxt.b, dxt.c, dxt.d, dxq.b, dxq.c, dxq.d]):\n",
    "    jet = s.diff(et, diff)\n",
    "    jeq = s.diff(eq, diff)\n",
    "\n",
    "    symdx[:3, i] = s.Matrix([jet.b, jet.c, jet.d])\n",
    "    symdx[3:, i] = s.Matrix([jeq.a, jeq.b, jeq.c, jeq.d])\n",
    "\n",
    "s.simplify(symdx - Jdx)"
   ]
  },
  {
   "cell_type": "markdown",
   "metadata": {},
   "source": [
    "### Derivative of rotation wrt quaternions"
   ]
  },
  {
   "cell_type": "code",
   "execution_count": null,
   "metadata": {},
   "outputs": [],
   "source": [
    "for symbol in [xiq.a, xiq.b, xiq.c, xiq.d]:\n",
    "    print(s.simplify(s.diff(e, symbol)[5] - (zq.conjugate()*s.diff(xiq.conjugate(), symbol)*xjq).d))\n",
    "\n",
    "for symbol in [xjq.a, xjq.b, xjq.c, xjq.d]:\n",
    "    print(s.simplify(s.diff(e, symbol)[5] - (zq.conjugate()*xiq.conjugate()*s.diff(xjq, symbol)).d))\n",
    "\n",
    "s.diff(xiq.conjugate(), xiq.b)"
   ]
  },
  {
   "cell_type": "markdown",
   "metadata": {},
   "source": [
    "### Derivative of a single quaternion rotation on a pure quaternion\n",
    "This is used to calculate jacobians wrt the translation component -> using the chain rule we can build up expressions for Xiq, Xit and Xjt"
   ]
  },
  {
   "cell_type": "code",
   "execution_count": null,
   "metadata": {},
   "outputs": [],
   "source": [
    "pqp = pqp_star_pure_q(xiq, xjt)\n",
    "diff = xjt.d\n",
    "\n",
    "pw = xiq.a\n",
    "pv = s.Matrix([xiq.b, xiq.c, xiq.d])\n",
    "qv = s.Matrix([xjt.b, xjt.c, xjt.d])\n",
    "dqv = s.diff(qv, diff)\n",
    "\n",
    "dq = pv.dot(dqv)*pv + pw**2*dqv + 2*pw*pv.cross(dqv) - pv.cross(dqv).cross(pv)\n",
    "\n",
    "s.simplify(s.Matrix([s.diff(pqp, diff).b, s.diff(pqp, diff).c, s.diff(pqp, diff).d]) - dq)"
   ]
  },
  {
   "cell_type": "code",
   "execution_count": null,
   "metadata": {},
   "outputs": [],
   "source": [
    "pqp = pqp_star_pure_q(xiq, xjt)\n",
    "diff = xiq.d\n",
    "\n",
    "pw = xiq.a\n",
    "pv = s.Matrix([xiq.b, xiq.c, xiq.d])\n",
    "qv = s.Matrix([xjt.b, xjt.c, xjt.d])\n",
    "dpv = s.diff(pv, diff)\n",
    "\n",
    "dp = dpv.dot(qv)*pv + pv.dot(qv)*dpv + 2*pw*dpv.cross(qv) - dpv.cross(qv).cross(pv) - pv.cross(qv).cross(dpv)\n",
    "\n",
    "s.simplify(s.Matrix([s.diff(pqp, diff).b, s.diff(pqp, diff).c, s.diff(pqp, diff).d]) - dp)"
   ]
  },
  {
   "cell_type": "code",
   "execution_count": null,
   "metadata": {},
   "outputs": [],
   "source": [
    "pqp = pqp_star_pure_q(xiq, xjt)\n",
    "diff = xiq.a\n",
    "\n",
    "pw = xiq.a\n",
    "pv = s.Matrix([xiq.b, xiq.c, xiq.d])\n",
    "qv = s.Matrix([xjt.b, xjt.c, xjt.d])\n",
    "\n",
    "dq = 2*pw*qv + 2*pv.cross(qv)\n",
    "\n",
    "s.simplify(s.Matrix([s.diff(pqp, diff).b, s.diff(pqp, diff).c, s.diff(pqp, diff).d]) - dq)"
   ]
  },
  {
   "cell_type": "markdown",
   "metadata": {},
   "source": [
    "### Composition of quaternions\n",
    "This shows how to correctly combine the quaternions zq and xiq when calculating the jacobian for xjt"
   ]
  },
  {
   "cell_type": "code",
   "execution_count": null,
   "metadata": {},
   "outputs": [],
   "source": [
    "q_comp = zq.conjugate()*xiq.conjugate()\n",
    "\n",
    "s.simplify(q_comp*xjt*q_comp.conjugate() - zq.conjugate()*xiq.conjugate()*xjt*xiq*zq)"
   ]
  },
  {
   "cell_type": "markdown",
   "metadata": {},
   "source": [
    "### Derivative of e wrt xjt & xit"
   ]
  },
  {
   "cell_type": "code",
   "execution_count": null,
   "metadata": {},
   "outputs": [],
   "source": [
    "e = error(zq,zt,xiq,xit,xjq,xjt)\n",
    "q_comp = zq.conjugate()*xiq.conjugate()\n",
    "\n",
    "\n",
    "# diff = xjt.c\n",
    "for diff in (xjt.b, xjt.c, xjt.d):\n",
    "    pw = q_comp.a\n",
    "    pv = s.Matrix([q_comp.b, q_comp.c, q_comp.d])\n",
    "    qv = s.Matrix([xjt.b, xjt.c, xjt.d])\n",
    "    dqv = s.diff(qv, diff)\n",
    "\n",
    "    dq = pv.dot(dqv)*pv + pw**2*dqv + 2*pw*pv.cross(dqv) - pv.cross(dqv).cross(pv)\n",
    "\n",
    "    de = s.diff(e, diff)\n",
    "    de = s.Matrix([de[0], de[1], de[2]])\n",
    "\n",
    "    print(s.simplify(de - dq))\n"
   ]
  },
  {
   "cell_type": "code",
   "execution_count": null,
   "metadata": {},
   "outputs": [],
   "source": [
    "e = error(zq,zt,xiq,xit,xjq,xjt)\n",
    "q_comp = zq.conjugate()*xiq.conjugate()\n",
    "\n",
    "for diff in (xit.b, xit.c, xit.d):\n",
    "    pw = q_comp.a\n",
    "    pv = s.Matrix([q_comp.b, q_comp.c, q_comp.d])\n",
    "    qv = s.Matrix([xit.b, xit.c, xit.d])\n",
    "    dqv = s.diff(qv, diff)\n",
    "\n",
    "    dq = -(pv.dot(dqv)*pv + pw**2*dqv + 2*pw*pv.cross(dqv) - pv.cross(dqv).cross(pv))\n",
    "\n",
    "    de = s.diff(e, diff)\n",
    "    de = s.Matrix([de[0], de[1], de[2]])\n",
    "\n",
    "    print(s.simplify(de - dq))"
   ]
  },
  {
   "cell_type": "markdown",
   "metadata": {},
   "source": [
    "### Derivative of et wrt xiq\n",
    "This one is going to be little more complicated because its inside the composed thingy. So we're going to calculate the derivative of the interior part and then use the derivative of the interior part to calculate the derivative of the whole thing."
   ]
  },
  {
   "cell_type": "code",
   "execution_count": null,
   "metadata": {},
   "outputs": [],
   "source": [
    "e = error(zq,zt,xiq,xit,xjq,xjt)\n",
    "\n",
    "for diff in (xiq.b, xiq.c, xiq.d):\n",
    "    pw = xiq.a\n",
    "    pv = s.Matrix([-xiq.b, -xiq.c, -xiq.d])\n",
    "    qvj = s.Matrix([xjt.b, xjt.c, xjt.d])\n",
    "    qvi = s.Matrix([xit.b, xit.c, xit.d])\n",
    "    dpv = s.diff(pv, diff)\n",
    "\n",
    "    dqiv = dpv.dot(qvi)*pv + pv.dot(qvi)*dpv + 2*pw*dpv.cross(qvi) - dpv.cross(qvi).cross(pv) - pv.cross(qvi).cross(dpv)\n",
    "    dqjv = dpv.dot(qvj)*pv + pv.dot(qvj)*dpv + 2*pw*dpv.cross(qvj) - dpv.cross(qvj).cross(pv) - pv.cross(qvj).cross(dpv)\n",
    "\n",
    "    qj = xiq.conjugate()*xjt*xiq\n",
    "    qi = xiq.conjugate()*xit*xiq\n",
    "\n",
    "    pw = zq.a\n",
    "    pv = s.Matrix([-zq.b, -zq.c, -zq.d])\n",
    "    qiv = s.Matrix([qi.b, qi.c, qi.d])\n",
    "    qjv = s.Matrix([qj.b, qj.c, qj.d])\n",
    "\n",
    "    dqi = pv.dot(dqiv)*pv + pw**2*dqiv + 2*pw*pv.cross(dqiv) - pv.cross(dqiv).cross(pv)\n",
    "    dqj = pv.dot(dqjv)*pv + pw**2*dqjv + 2*pw*pv.cross(dqjv) - pv.cross(dqjv).cross(pv)\n",
    "\n",
    "    de = s.diff(e, diff)\n",
    "    de = s.Matrix([de[0], de[1], de[2]])\n",
    "\n",
    "    print(s.simplify(de - (dqj - dqi).vec()))\n",
    "    # print(s.simplify(de))"
   ]
  },
  {
   "cell_type": "code",
   "execution_count": null,
   "metadata": {},
   "outputs": [],
   "source": [
    "pv = s.Matrix([xiq.b, xiq.c, xiq.d])\n",
    "qv = s.Matrix([xjt.b, xjt.c, xjt.d])\n",
    "s.diff(pv, pv[2])"
   ]
  },
  {
   "cell_type": "markdown",
   "metadata": {},
   "source": [
    "## Derivative of $x_i \\boxplus \\Delta \\tilde{x_i}$ wrt $\\Delta \\tilde{x_i} $\n",
    "\n",
    "What this function does is compose a over-parameterised representation $ x_i $ with the small change in a minimally parameterised space $ \\Delta \\tilde{x_i} $. This should result in a $7x6$ matrix which essentially retracts the small change onto the manifold"
   ]
  },
  {
   "cell_type": "code",
   "execution_count": null,
   "metadata": {},
   "outputs": [],
   "source": [
    "xiq, xit = make_symbols(\"x_{i\")\n",
    "dxq, dxt = make_symbols(\"\\\\tilde{x}_{\")\n",
    "\n",
    "dxq = s.Quaternion(s.sqrt(1-(dxq.b**2 + dxq.c**2 + dxq.d**2)), dxq.b, dxq.c, dxq.d)\n",
    "\n",
    "fq = dxq*xiq\n",
    "ft = dxq*xit*dxq.conjugate() - dxt"
   ]
  },
  {
   "cell_type": "code",
   "execution_count": null,
   "metadata": {},
   "outputs": [],
   "source": [
    "s.diff(dxq, dxq.d)"
   ]
  },
  {
   "cell_type": "code",
   "execution_count": null,
   "metadata": {},
   "outputs": [],
   "source": [
    "for diff in (dxq.b, dxq.c, dxq.d):\n",
    "    pv = s.Matrix([dxq.b, dxq.c, dxq.d])\n",
    "    qv = s.Matrix([xit.b, xit.c, xit.d])\n",
    "    pw = s.sqrt(1-(dxq.b**2 + dxq.c**2 + dxq.d**2))\n",
    "    dpv = s.diff(pv, diff)\n",
    "    dpw = s.diff(pw, diff)\n",
    "\n",
    "    dp = dpv.dot(qv)*pv + pv.dot(qv)*dpv + 2*dpw*pw*qv + 2*dpw*pv.cross(qv) + 2*pw*dpv.cross(qv)-dpv.cross(qv).cross(pv)-pv.cross(qv).cross(dpv)\n",
    "    dft = s.diff(ft, diff)\n",
    "    dft = s.Matrix([dft.b, dft.c, dft.d])\n",
    "\n",
    "    display(s.simplify(dft - dp))\n",
    "    # display(s.simplify(dft))\n",
    "    # display(s.simplify(dp))"
   ]
  },
  {
   "cell_type": "code",
   "execution_count": null,
   "metadata": {},
   "outputs": [],
   "source": [
    "for diff in (dxt.b, dxt.c, dxt.d):\n",
    "    display(s.diff(ft, diff))\n",
    "    display(s.diff(fq, diff))\n",
    "    print()"
   ]
  },
  {
   "cell_type": "code",
   "execution_count": null,
   "metadata": {},
   "outputs": [],
   "source": [
    "for diff in (dxq.b, dxq.c, dxq.d):\n",
    "    dq = s.diff(dxq, diff)*xiq\n",
    "    display(s.diff(fq, diff) - dq)"
   ]
  },
  {
   "cell_type": "markdown",
   "metadata": {},
   "source": [
    "## Converting exponential / matrix representations to quaternion + vector\n"
   ]
  },
  {
   "cell_type": "code",
   "execution_count": null,
   "metadata": {},
   "outputs": [],
   "source": [
    "exp = np.random.random(6)*2 - 1\n",
    "transform = npexp(exp)\n",
    "\n",
    "rotation = Rotation.from_matrix(transform[:3,:3]).as_quat()\n",
    "translation = np.quaternion(0, *transform[:3,3])\n",
    "quat = np.quaternion(rotation[-1], rotation[0], rotation[1], rotation[2])\n",
    "\n",
    "vector = np.random.random(3)\n",
    "q_v = np.quaternion(0, *vector)\n",
    "h_v = np.ones(4)\n",
    "h_v[:3] = vector\n",
    "\n",
    "res_transform = transform@h_v\n",
    "res_quat = quat*q_v*quat.conjugate() + translation\n",
    "\n",
    "np.isclose(res_transform[:3], res_quat.vec)"
   ]
  },
  {
   "cell_type": "code",
   "execution_count": null,
   "metadata": {},
   "outputs": [],
   "source": [
    "exp = np.random.random(6)*2 - 1\n",
    "transform = npexp(exp)\n",
    "\n",
    "rotation = Rotation.from_matrix(transform[:3,:3]).as_quat()\n",
    "translation = np.quaternion(0, *transform[:3,3])\n",
    "quat = np.quaternion(rotation[-1], rotation[0], rotation[1], rotation[2])\n",
    "\n",
    "vector = np.random.random(3)\n",
    "q_v = np.quaternion(0, *vector)\n",
    "h_v = np.ones(4)\n",
    "h_v[:3] = vector\n",
    "\n",
    "res_transform = np.linalg.inv(transform)@h_v\n",
    "res_quat = quat.conjugate()*q_v*quat - quat.conjugate()*translation*quat\n",
    "\n",
    "np.isclose(res_transform[:3], res_quat.vec)"
   ]
  },
  {
   "cell_type": "code",
   "execution_count": null,
   "metadata": {},
   "outputs": [],
   "source": [
    "Xi, Xj, Zij = np.random.random(6)*2 - 1,np.random.random(6)*2 - 1,np.random.random(6)*2 - 1\n",
    "Xi, Xj, Zij = npexp(Xi), npexp(Xj), npexp(Zij)\n",
    "\n",
    "def quat(mat):\n",
    "    rotation = Rotation.from_matrix(mat[:3,:3]).as_quat()\n",
    "    translation = np.quaternion(0, *mat[:3,3])\n",
    "    quat = np.quaternion(rotation[-1], rotation[0], rotation[1], rotation[2])\n",
    "\n",
    "    return quat, translation\n",
    "\n",
    "xiq, xit = quat(Xi)\n",
    "xjq, xjt = quat(Xj)\n",
    "zijq, zijt = quat(Zij)\n",
    "\n",
    "error_mat = np.linalg.inv(Zij)@np.linalg.inv(Xi)@Xj\n",
    "\n",
    "vector = np.random.random(3)\n",
    "q_v = np.quaternion(0, *vector)\n",
    "h_v = np.ones(4)\n",
    "h_v[:3] = vector\n",
    "\n",
    "res_transform = error_mat\n",
    "\n",
    "res_quat = zijq.conjugate()*xiq.conjugate()*xjt*xiq*zijq - zijq.conjugate()*xiq.conjugate()*xit*xiq*zijq - zijq.conjugate()*zijt*zijq\n",
    "\n",
    "np.isclose(res_transform[:3, 3], res_quat.vec)\n",
    "\n",
    "res_transform_quat = np.roll(Rotation.from_matrix(res_transform[:3,:3]).as_quat(), 1)\n",
    "\n",
    "if not np.all(np.isclose(res_transform_quat, np.array((zijq.conjugate()*xiq.conjugate()*xjq).components))) and not np.all(np.isclose(res_transform_quat*-1, np.array((zijq.conjugate()*xiq.conjugate()*xjq).components))):\n",
    "    print(res_transform_quat, np.array((zijq.conjugate()*xiq.conjugate()*xjq).components))\n",
    "# np.isclose(res_transform_quat, np.array((zijq.conjugate()*xiq.conjugate()*xjq).components))"
   ]
  },
  {
   "cell_type": "code",
   "execution_count": null,
   "metadata": {},
   "outputs": [],
   "source": [
    "exp = np.random.random(6)*2 - 1\n",
    "transform = npexp(exp)\n",
    "\n",
    "exp2 = np.random.random(6)*2 - 1\n",
    "transform2 = npexp(exp)\n",
    "\n",
    "rotation = Rotation.from_matrix(transform[:3,:3]).as_quat()\n",
    "translation = np.quaternion(0, *transform[:3,3])\n",
    "quat = np.quaternion(rotation[-1], rotation[0], rotation[1], rotation[2])\n",
    "\n",
    "rotation2 = Rotation.from_matrix(transform2[:3,:3]).as_quat()\n",
    "translation2 = np.quaternion(0, *transform2[:3,3])\n",
    "quat2 = np.quaternion(rotation2[-1], rotation2[0], rotation2[1], rotation2[2])\n",
    "\n",
    "\n",
    "\n",
    "res_transform = transform@transform2\n",
    "res_quat = quat*quat2\n",
    "res_quat_translation = quat*translation2*quat.conjugate() + translation\n",
    "\n",
    "res_quat_total = np.eye(4)\n",
    "res_quat_total[:3,:3] = Rotation.from_quat([res_quat.x, res_quat.y, res_quat.z, res_quat.w]).as_matrix()\n",
    "res_quat_total[:3, 3] = res_quat_translation.vec\n",
    "\n",
    "np.isclose(res_transform, res_quat_total)"
   ]
  },
  {
   "cell_type": "markdown",
   "metadata": {},
   "source": [
    "## Convert Exponential to Quaternion\n",
    "Should be able to just pull the translation from the matrix representation of the "
   ]
  },
  {
   "cell_type": "code",
   "execution_count": null,
   "metadata": {},
   "outputs": [],
   "source": [
    "exp = np.random.random(6)*2 - 1\n",
    "transform = npexp(exp)\n",
    "\n",
    "angle = np.linalg.norm(exp[3:])\n",
    "axis = exp[3:]/angle\n",
    "\n",
    "quat = np.quaternion(np.cos(angle/2), *(np.sin(angle/2)*axis))\n",
    "np.isclose(np.array(quat.components), np.roll(Rotation.from_matrix(transform[:3,:3]).as_quat(), 1))"
   ]
  }
 ],
 "metadata": {
  "kernelspec": {
   "display_name": "3D_ML",
   "language": "python",
   "name": "python3"
  },
  "language_info": {
   "codemirror_mode": {
    "name": "ipython",
    "version": 3
   },
   "file_extension": ".py",
   "mimetype": "text/x-python",
   "name": "python",
   "nbconvert_exporter": "python",
   "pygments_lexer": "ipython3",
   "version": "3.10.0"
  }
 },
 "nbformat": 4,
 "nbformat_minor": 2
}

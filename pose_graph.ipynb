{
 "cells": [
  {
   "cell_type": "code",
   "execution_count": 1,
   "metadata": {},
   "outputs": [],
   "source": [
    "import numpy as np\n",
    "from matplotlib import pyplot as plt\n",
    "import seaborn as sns\n",
    "from itertools import combinations\n",
    "from scipy.linalg import cho_solve, cho_factor\n",
    "from tqdm import tqdm\n",
    "\n",
    "np.set_printoptions(precision=4, linewidth=200, sign=\" \")"
   ]
  },
  {
   "cell_type": "markdown",
   "metadata": {},
   "source": [
    "## Useful functions from pose_graph_jacobian.ipynb\n",
    "Just functions for `Exp` and `Log` maps, `cross` product matrix function and calculation of the jacobian"
   ]
  },
  {
   "cell_type": "code",
   "execution_count": 2,
   "metadata": {},
   "outputs": [],
   "source": [
    "def np_cross(x):\n",
    "    return np.array([\n",
    "        [0,-x[2],x[1]],\n",
    "        [x[2],0,-x[0]],\n",
    "        [-x[1],x[0],0]\n",
    "    ])\n",
    "\n",
    "def np_exp(x):\n",
    "    theta = np.linalg.norm(x[3:])\n",
    "    if theta == 0:\n",
    "        R = np.eye(3)\n",
    "        t = x[:3]\n",
    "    else:\n",
    "        a = np.sin(theta)/theta\n",
    "        b = (1 - np.cos(theta))/(theta*theta)\n",
    "        c = (theta - np.sin(theta))/(theta**3)\n",
    "        w = np_cross(x[3:])\n",
    "        R = np.eye(3) + a*w + b*w@w\n",
    "\n",
    "        t = (np.eye(3) + b*w + c*w@w)@x[:3]\n",
    "    \n",
    "    mat = np.eye(4)\n",
    "    mat[:3, :3] = R\n",
    "    mat[:3, 3] = t\n",
    "\n",
    "    return mat\n",
    "\n",
    "def np_log(T):\n",
    "    theta = np.arccos((np.trace(T) - 2) / 2)\n",
    "    # theta = np.arccos((T[0, 0] + T[1, 1] + T[2, 2] - 1) / 2)\n",
    "\n",
    "    if theta == 0:\n",
    "        return T[0, 3], T[1, 3], T[2, 3], 0, 0, 0\n",
    "\n",
    "    a = np.sin(theta)/theta\n",
    "    b = (1 - np.cos(theta))/(theta*theta)\n",
    "\n",
    "    x4 = 1/(2*a)*(T[2, 1] - T[1, 2])\n",
    "    x5 = 1/(2*a)*(T[0, 2] - T[2, 0])\n",
    "    x6 = 1/(2*a)*(T[1, 0] - T[0, 1])\n",
    "    \n",
    "    w = np_cross(np.array([x4,x5,x6]))\n",
    "    u = (np.eye(3) - 1/2*w + 1/(theta**2)*(1 - a/(2*b))*w@w)@T[:3, 3]\n",
    "\n",
    "    return np.array([u[0], u[1], u[2], x4, x5, x6])"
   ]
  },
  {
   "cell_type": "code",
   "execution_count": 3,
   "metadata": {},
   "outputs": [],
   "source": [
    "def np_adjoint(X):\n",
    "    \"\"\"X is a 4x4 matrix not a 6 Vector\"\"\"\n",
    "    mat = np.zeros((6,6))\n",
    "    mat[:3,:3] = X[:3,:3]\n",
    "    mat[3:,3:] = X[:3,:3]\n",
    "    mat[:3,3:] = np_cross(X[:3,3])@X[:3,:3]\n",
    "\n",
    "    return mat.T\n",
    "\n",
    "def np_error(Z, Xi, Xj):\n",
    "    return np_log(np.linalg.inv(np_exp(Z))@np.linalg.inv(np_exp(Xi))@np_exp(Xj))\n",
    "\n",
    "def np_exp_error(Z, Xi, Xj):\n",
    "    return np.linalg.inv(np_exp(Z))@np.linalg.inv(np_exp(Xi))@np_exp(Xj)"
   ]
  },
  {
   "cell_type": "code",
   "execution_count": 4,
   "metadata": {},
   "outputs": [],
   "source": [
    "def box_plus(a, b):\n",
    "    return np_log(np_exp(a)@np_exp(b))\n",
    "\n",
    "def box_minus(a, b):\n",
    "    return np_log(np.linalg.inv(np_exp(b))@np_exp(a))"
   ]
  },
  {
   "cell_type": "code",
   "execution_count": 5,
   "metadata": {},
   "outputs": [],
   "source": [
    "def Je_analytic_Xi(Z, Xi, Xj):\n",
    "    eXi, eXj = np_exp(Xi), np_exp(Xj)\n",
    "    A = np.zeros((6,6))\n",
    "    A[:3,:3] = (eXj[:3,:3]).T\n",
    "    A[3:,3:] = (eXj[:3,:3]).T\n",
    "    A[:3,3:] = -(eXj[:3,:3]).T@np_cross(eXj[:3,3])\n",
    "\n",
    "    B = np.zeros_like(A)\n",
    "    B[:3, :3] = eXi[:3,:3]\n",
    "    B[3:,3:] = eXi[:3,:3]\n",
    "    B[:3,3:] = np_cross(eXi[:3, 3])@eXi[:3,:3]\n",
    "\n",
    "    return -A@B\n",
    "\n",
    "def Je_analytic_Xj(Z, Xi, Xj):\n",
    "    return np.eye(6)"
   ]
  },
  {
   "cell_type": "code",
   "execution_count": 6,
   "metadata": {},
   "outputs": [],
   "source": [
    "def Je_numeric_Xi(Z, Xi, Xj, eps=1E-8, type_=np.float64):    \n",
    "    Z, Xi, Xj = Z.astype(type_), Xi.astype(type_), Xj.astype(type_)\n",
    "\n",
    "    generators = [np.array([i==j for i in range(6)], dtype=type_) for j in range(6)]\n",
    "\n",
    "    error_inv = np.linalg.inv(np_exp_error(Z, Xi, Xj))\n",
    "    # gen_error = [np.linalg.inv(np_exp(Z))@np.linalg.inv(np_exp(Xi)@np_exp(g_i*eps))@np_exp(Xj) for g_i in generators]\n",
    "    gen_error = [np.linalg.inv(np_exp(Z))@np.linalg.inv(np_exp(Xi + g_i*eps))@np_exp(Xj) for g_i in generators]\n",
    "\n",
    "\n",
    "    cols = (1/eps)*np.array([np_log(error_inv@gen_error_i) for gen_error_i in gen_error]).T\n",
    "\n",
    "    return cols\n",
    "\n",
    "\n",
    "def Je_numeric_Xj(Z, Xi, Xj, eps=1E-8, type_=np.float64):    \n",
    "    Z, Xi, Xj = Z.astype(type_), Xi.astype(type_), Xj.astype(type_)\n",
    "\n",
    "    generators = [np.array([i==j for i in range(6)], dtype=type_) for j in range(6)]\n",
    "\n",
    "    error_inv = np.linalg.inv(np_exp_error(Z, Xi, Xj))\n",
    "    # gen_error = [np.linalg.inv(np_exp(Z))@np.linalg.inv(np_exp(Xi))@(np_exp(Xj)@np_exp(g_i*eps))for g_i in generators]\n",
    "    gen_error = [np.linalg.inv(np_exp(Z))@np.linalg.inv(np_exp(Xi))@np_exp(Xj + g_i*eps) for g_i in generators]\n",
    "\n",
    "\n",
    "    cols = (1/eps)*np.array([np_log(error_inv@gen_error_i) for gen_error_i in gen_error]).T\n",
    "\n",
    "    return cols"
   ]
  },
  {
   "cell_type": "markdown",
   "metadata": {},
   "source": [
    "## Setting up the pose graph problem\n",
    "The plan here is to define a pose graph problem that is simple to solve and has a known correct solution - i.e. I can check that I'm converging on the right spot. To start with I think I'm going to go with 3 fully connected poses. I then calculate the correct measurements between them as my measurements, and set the information matrices to something reasonable. After that, displace the points and use these new points as my starting off point for the optimisation - if it correctly comes back to the original position then I'll know I've done something right and can move onto progressively harder problems."
   ]
  },
  {
   "cell_type": "code",
   "execution_count": 7,
   "metadata": {},
   "outputs": [
    {
     "data": {
      "text/plain": [
       "([array([ 2.4627e-01,  6.1599e-01, -8.1145e-01, -2.7292e-01,  9.1251e-01,  2.5081e-04]),\n",
       "  array([ 0.6409,  0.811 , -0.161 , -0.9197, -0.4636, -0.4504]),\n",
       "  array([ 0.832 ,  0.3071, -0.2176, -0.2669, -0.8683, -0.4583])],\n",
       " [array([ 2.4627e-01,  6.1599e-01, -8.1145e-01, -2.7292e-01,  9.1251e-01,  2.5081e-04]),\n",
       "  array([ 0.6409,  0.8109, -0.1612, -0.9197, -0.4634, -0.4504]),\n",
       "  array([ 0.832 ,  0.3069, -0.2177, -0.267 , -0.8682, -0.4582])])"
      ]
     },
     "execution_count": 7,
     "metadata": {},
     "output_type": "execute_result"
    }
   ],
   "source": [
    "n = 3\n",
    "poses = [np_log(np_exp((np.random.random(6) - 0.5)*2)) for _ in range(n)]\n",
    "measurements = {(i,j):np_log(np.linalg.inv(np_exp(poses[i]))@np_exp(poses[j])) for (i, j) in combinations(range(n), 2)}\n",
    "\n",
    "eps = 0.0001\n",
    "disturbed_poses = [p + np.random.normal(0, eps, 6) if i else p for i, p in enumerate(poses)]\n",
    "\n",
    "infos = {k:np.linalg.inv(np.eye(6)*0.05) for k in measurements.keys()}\n",
    "\n",
    "disturbed_poses, poses"
   ]
  },
  {
   "cell_type": "markdown",
   "metadata": {},
   "source": [
    "Now that we have our poses, measurements and information matrices its time to get on with writing the actual optimisation code. We're going to use Gauss-Newton I think so the update rule is going to look like this:\n",
    "\n",
    "$$\\Delta x = (J^TJ)^{-1}J^Tr$$"
   ]
  },
  {
   "cell_type": "code",
   "execution_count": 8,
   "metadata": {},
   "outputs": [
    {
     "data": {
      "text/plain": [
       "((18, 18), (18,))"
      ]
     },
     "execution_count": 8,
     "metadata": {},
     "output_type": "execute_result"
    }
   ],
   "source": [
    "def make_parts(poses, measurements, infos):\n",
    "    H = np.zeros((6*len(poses), 6*len(poses)))\n",
    "    b = np.zeros(6*len(poses))\n",
    "\n",
    "    H[:6, :6] += np.eye(6)\n",
    "\n",
    "    for (i, j), Zij in measurements.items():\n",
    "        Xi, Xj = poses[i], poses[j]\n",
    "        omega = infos[(i, j)]\n",
    "\n",
    "        e = np_error(Zij, Xi, Xj)\n",
    "        A = Je_numeric_Xi(Zij, Xi, Xj)\n",
    "        B = Je_numeric_Xj(Zij, Xi, Xj)\n",
    "\n",
    "        # print(A)\n",
    "        # print(B)\n",
    "\n",
    "        H[6*i:6*i+6, 6*i:6*i+6] += A.T@omega@A\n",
    "        H[6*i:6*i+6, 6*j:6*j+6] += A.T@omega@B\n",
    "        H[6*j:6*j+6, 6*i:6*i+6] += B.T@omega@A\n",
    "        H[6*j:6*j+6, 6*j:6*j+6] += B.T@omega@B\n",
    "\n",
    "        b[6*i:6*i+6] += A.T@omega@e\n",
    "        b[6*j:6*j+6] += B.T@omega@e\n",
    "\n",
    "    return H, b\n",
    "\n",
    "H, b = make_parts(disturbed_poses, measurements, infos)\n",
    "\n",
    "H.shape, b.shape\n"
   ]
  },
  {
   "cell_type": "code",
   "execution_count": 9,
   "metadata": {},
   "outputs": [
    {
     "name": "stdout",
     "output_type": "stream",
     "text": [
      "[array([ 2.4627e-01,  6.1599e-01, -8.1145e-01, -2.7292e-01,  9.1251e-01,  2.5081e-04]), array([ 0.6409,  0.811 , -0.161 , -0.9197, -0.4636, -0.4504]), array([ 0.832 ,  0.3071, -0.2176, -0.2669, -0.8683, -0.4583])]\n"
     ]
    },
    {
     "name": "stderr",
     "output_type": "stream",
     "text": [
      "  0%|          | 0/12 [00:00<?, ?it/s]"
     ]
    },
    {
     "name": "stdout",
     "output_type": "stream",
     "text": [
      "[[ 38.307   -0.8055  -0.0002  -1.7729  27.0772   1.608  -14.0107  -7.2283   9.8964   2.5729  -1.8992   3.031  -11.3093  -4.0261  14.0665   1.0484  -5.7612  -0.0075]\n",
      " [ -0.8055  40.7591   0.0007 -26.8676   0.222   20.9071   4.1175 -17.2685  -6.8218  -3.7224   0.9674  -8.3978   5.1553 -18.837   -1.7654   0.131    0.0168  -8.835 ]\n",
      " [ -0.0002   0.0007  38.0661  -0.8916 -23.3013  -1.5523 -12.2342   2.1242 -14.185   -4.6986   7.4387   3.7712 -13.8679  -3.4874 -12.1431  -1.1311   6.137   -0.1918]\n",
      " [ -1.7729 -26.8676  -0.8916  22.2608  -1.9646 -13.7989  -3.871    9.8929   0.0357   0.8179   1.1521   4.9952   0.0037  16.8158   3.6543   0.1119  -1.2074   7.3944]\n",
      " [ 27.0772   0.222  -23.3013  -1.9646  36.5516   3.972    0.8458  -5.8551  15.4691   4.703   -6.3079  -1.1052  -2.3167  -2.1114  19.172    1.5595  -8.5095  -0.11  ]\n",
      " [  1.608   20.9071  -1.5523 -13.7989   3.972   14.3345   5.4069  -9.1054  -5.192   -2.4673   0.5954  -5.6846  -0.2591  -9.6364   3.685    0.4045  -1.882   -4.0472]\n",
      " [-14.0107   4.1175 -12.2342  -3.871    0.8458   5.4069  38.6646   1.3628   1.3241   0.9303  -3.5461  -2.8805 -18.5922  -1.6928   2.83     0.0113  -0.2553   1.5641]\n",
      " [ -7.2283 -17.2685   2.1242   9.8929  -5.8551  -9.1054   1.3628  36.6479   0.6674   0.2935   1.5527  16.8763   1.5138 -17.7546   5.561    0.6706  -3.0303  -7.7284]\n",
      " [  9.8964  -6.8218 -14.185    0.0357  15.4691  -5.192    1.3241   0.6674  36.6094   2.5097 -17.7656   2.985   -2.9812  -6.8261 -17.2429  -1.3708   7.7179  -3.0808]\n",
      " [  2.5729  -3.7224  -4.6986   0.8179   4.703   -2.4673   0.9303   0.2935   2.5097  22.4079  -0.2278   0.0618  -0.1363   2.612    3.1433   0.226   -1.3334   1.236 ]\n",
      " [ -1.8992   0.9674   7.4387   1.1521  -6.3079   0.5954  -3.5461   1.5527 -17.7656  -0.2278   9.5955   0.5036   1.7259   3.0707  10.4636   0.8427  -4.7061   1.4146]\n",
      " [  3.031   -8.3978   3.7712   4.9952  -1.1052  -5.6846  -2.8805  16.8763   2.985    0.0618   0.5036  29.439   -2.3007 -10.5822   2.4061  -2.6968  -8.0436  -4.2489]\n",
      " [-11.3093   5.1553 -13.8679   0.0037  -2.3167  -0.2591 -18.5922   1.5138  -2.9812  -0.1363   1.7259  -2.3007  36.8955   0.7465   0.3939   0.4974  -2.2519  -4.0713]\n",
      " [ -4.0261 -18.837   -3.4874  16.8158  -2.1114  -9.6364  -1.6928 -17.7546  -6.8261   2.612    3.0707 -10.5822   0.7465  39.0943   1.2815  -0.3195   0.3824  16.9035]\n",
      " [ 14.0665  -1.7654 -12.1431   3.6543  19.172    3.685    2.83     5.561  -17.2429   3.1433  10.4636   2.4061   0.3939   1.2815  37.3423   3.0407 -16.7151   1.5396]\n",
      " [  1.0484   0.131   -1.1311   0.1119   1.5595   0.4045   0.0113   0.6706  -1.3708   0.226    0.8427  -2.6968   0.4974  -0.3195   3.0407  18.706   -1.0251  -0.114 ]\n",
      " [ -5.7612   0.0168   6.137   -1.2074  -8.5095  -1.882   -0.2553  -3.0303   7.7179  -1.3334  -4.7061  -8.0436  -2.2519   0.3824 -16.7151  -1.0251  27.1713  -0.0266]\n",
      " [ -0.0075  -8.835   -0.1918   7.3944  -0.11    -4.0472   1.5641  -7.7284  -3.0808   1.236    1.4146  -4.2489  -4.0713  16.9035   1.5396  -0.114   -0.0266   7.8607]]\n"
     ]
    },
    {
     "name": "stderr",
     "output_type": "stream",
     "text": [
      "\n"
     ]
    },
    {
     "ename": "LinAlgError",
     "evalue": "18-th leading minor of the array is not positive definite",
     "output_type": "error",
     "traceback": [
      "\u001b[1;31m---------------------------------------------------------------------------\u001b[0m",
      "\u001b[1;31mLinAlgError\u001b[0m                               Traceback (most recent call last)",
      "Cell \u001b[1;32mIn[9], line 8\u001b[0m\n\u001b[0;32m      6\u001b[0m \u001b[38;5;28;01mwith\u001b[39;00m np\u001b[38;5;241m.\u001b[39mprintoptions(precision\u001b[38;5;241m=\u001b[39m\u001b[38;5;241m4\u001b[39m, suppress\u001b[38;5;241m=\u001b[39m\u001b[38;5;28;01mTrue\u001b[39;00m):\n\u001b[0;32m      7\u001b[0m     \u001b[38;5;28mprint\u001b[39m(H)\n\u001b[1;32m----> 8\u001b[0m delta \u001b[38;5;241m=\u001b[39m cho_solve(\u001b[43mcho_factor\u001b[49m\u001b[43m(\u001b[49m\u001b[43mH\u001b[49m\u001b[43m)\u001b[49m, b)\n\u001b[0;32m     10\u001b[0m pose_vector \u001b[38;5;241m=\u001b[39m np\u001b[38;5;241m.\u001b[39mconcatenate(new_poses)\n\u001b[0;32m     11\u001b[0m \u001b[38;5;28;01mfor\u001b[39;00m i \u001b[38;5;129;01min\u001b[39;00m \u001b[38;5;28mrange\u001b[39m(\u001b[38;5;241m0\u001b[39m, pose_vector\u001b[38;5;241m.\u001b[39mshape[\u001b[38;5;241m0\u001b[39m]\u001b[38;5;241m/\u001b[39m\u001b[38;5;241m/\u001b[39m\u001b[38;5;241m6\u001b[39m):\n\u001b[0;32m     12\u001b[0m     \u001b[38;5;66;03m# new_poses[i] = np_log(np_exp(new_poses[i])@np_exp(delta[6*i:6*i + 6]))\u001b[39;00m\n",
      "File \u001b[1;32mc:\\Users\\chris\\miniconda3\\envs\\computer_vision\\lib\\site-packages\\scipy\\linalg\\_decomp_cholesky.py:154\u001b[0m, in \u001b[0;36mcho_factor\u001b[1;34m(a, lower, overwrite_a, check_finite)\u001b[0m\n\u001b[0;32m     94\u001b[0m \u001b[38;5;28;01mdef\u001b[39;00m \u001b[38;5;21mcho_factor\u001b[39m(a, lower\u001b[38;5;241m=\u001b[39m\u001b[38;5;28;01mFalse\u001b[39;00m, overwrite_a\u001b[38;5;241m=\u001b[39m\u001b[38;5;28;01mFalse\u001b[39;00m, check_finite\u001b[38;5;241m=\u001b[39m\u001b[38;5;28;01mTrue\u001b[39;00m):\n\u001b[0;32m     95\u001b[0m \u001b[38;5;250m    \u001b[39m\u001b[38;5;124;03m\"\"\"\u001b[39;00m\n\u001b[0;32m     96\u001b[0m \u001b[38;5;124;03m    Compute the Cholesky decomposition of a matrix, to use in cho_solve\u001b[39;00m\n\u001b[0;32m     97\u001b[0m \n\u001b[1;32m   (...)\u001b[0m\n\u001b[0;32m    152\u001b[0m \n\u001b[0;32m    153\u001b[0m \u001b[38;5;124;03m    \"\"\"\u001b[39;00m\n\u001b[1;32m--> 154\u001b[0m     c, lower \u001b[38;5;241m=\u001b[39m \u001b[43m_cholesky\u001b[49m\u001b[43m(\u001b[49m\u001b[43ma\u001b[49m\u001b[43m,\u001b[49m\u001b[43m \u001b[49m\u001b[43mlower\u001b[49m\u001b[38;5;241;43m=\u001b[39;49m\u001b[43mlower\u001b[49m\u001b[43m,\u001b[49m\u001b[43m \u001b[49m\u001b[43moverwrite_a\u001b[49m\u001b[38;5;241;43m=\u001b[39;49m\u001b[43moverwrite_a\u001b[49m\u001b[43m,\u001b[49m\u001b[43m \u001b[49m\u001b[43mclean\u001b[49m\u001b[38;5;241;43m=\u001b[39;49m\u001b[38;5;28;43;01mFalse\u001b[39;49;00m\u001b[43m,\u001b[49m\n\u001b[0;32m    155\u001b[0m \u001b[43m                         \u001b[49m\u001b[43mcheck_finite\u001b[49m\u001b[38;5;241;43m=\u001b[39;49m\u001b[43mcheck_finite\u001b[49m\u001b[43m)\u001b[49m\n\u001b[0;32m    156\u001b[0m     \u001b[38;5;28;01mreturn\u001b[39;00m c, lower\n",
      "File \u001b[1;32mc:\\Users\\chris\\miniconda3\\envs\\computer_vision\\lib\\site-packages\\scipy\\linalg\\_decomp_cholesky.py:37\u001b[0m, in \u001b[0;36m_cholesky\u001b[1;34m(a, lower, overwrite_a, clean, check_finite)\u001b[0m\n\u001b[0;32m     35\u001b[0m c, info \u001b[38;5;241m=\u001b[39m potrf(a1, lower\u001b[38;5;241m=\u001b[39mlower, overwrite_a\u001b[38;5;241m=\u001b[39moverwrite_a, clean\u001b[38;5;241m=\u001b[39mclean)\n\u001b[0;32m     36\u001b[0m \u001b[38;5;28;01mif\u001b[39;00m info \u001b[38;5;241m>\u001b[39m \u001b[38;5;241m0\u001b[39m:\n\u001b[1;32m---> 37\u001b[0m     \u001b[38;5;28;01mraise\u001b[39;00m LinAlgError(\u001b[38;5;124m\"\u001b[39m\u001b[38;5;132;01m%d\u001b[39;00m\u001b[38;5;124m-th leading minor of the array is not positive \u001b[39m\u001b[38;5;124m\"\u001b[39m\n\u001b[0;32m     38\u001b[0m                       \u001b[38;5;124m\"\u001b[39m\u001b[38;5;124mdefinite\u001b[39m\u001b[38;5;124m\"\u001b[39m \u001b[38;5;241m%\u001b[39m info)\n\u001b[0;32m     39\u001b[0m \u001b[38;5;28;01mif\u001b[39;00m info \u001b[38;5;241m<\u001b[39m \u001b[38;5;241m0\u001b[39m:\n\u001b[0;32m     40\u001b[0m     \u001b[38;5;28;01mraise\u001b[39;00m \u001b[38;5;167;01mValueError\u001b[39;00m(\u001b[38;5;124m'\u001b[39m\u001b[38;5;124mLAPACK reported an illegal value in \u001b[39m\u001b[38;5;132;01m{}\u001b[39;00m\u001b[38;5;124m-th argument\u001b[39m\u001b[38;5;124m'\u001b[39m\n\u001b[0;32m     41\u001b[0m                      \u001b[38;5;124m'\u001b[39m\u001b[38;5;124mon entry to \u001b[39m\u001b[38;5;124m\"\u001b[39m\u001b[38;5;124mPOTRF\u001b[39m\u001b[38;5;124m\"\u001b[39m\u001b[38;5;124m.\u001b[39m\u001b[38;5;124m'\u001b[39m\u001b[38;5;241m.\u001b[39mformat(\u001b[38;5;241m-\u001b[39minfo))\n",
      "\u001b[1;31mLinAlgError\u001b[0m: 18-th leading minor of the array is not positive definite"
     ]
    }
   ],
   "source": [
    "new_poses = disturbed_poses[:]\n",
    "print([p for p in new_poses])\n",
    "\n",
    "for i in tqdm(range(12)):\n",
    "    H, b = make_parts(new_poses, measurements, infos)\n",
    "    with np.printoptions(precision=4, suppress=True):\n",
    "        print(H)\n",
    "    delta = cho_solve(cho_factor(H), b)\n",
    "\n",
    "    pose_vector = np.concatenate(new_poses)\n",
    "    for i in range(0, pose_vector.shape[0]//6):\n",
    "        # new_poses[i] = np_log(np_exp(new_poses[i])@np_exp(delta[6*i:6*i + 6]))\n",
    "        new_poses[i] = np_log(np.linalg.inv(np_exp(delta[6*i:6*i + 6]))@np_exp(new_poses[i]))\n",
    "        # new_poses[i] += delta[6*i:6*i+6]\n",
    "    print([p for p in new_poses])\n",
    "\n",
    "\n",
    "# print(new_poses)\n",
    "# print(poses)\n",
    "    "
   ]
  },
  {
   "cell_type": "markdown",
   "metadata": {},
   "source": [
    "## Visualising the Optimisation\n",
    "The plan is to visualise the optimisation process using open3d and some coloured dots.\n",
    "- Red is the initial \"bad\" position of the "
   ]
  },
  {
   "cell_type": "code",
   "execution_count": null,
   "metadata": {},
   "outputs": [],
   "source": [
    "import open3d as o3d\n",
    "from itertools import chain"
   ]
  },
  {
   "cell_type": "code",
   "execution_count": null,
   "metadata": {},
   "outputs": [],
   "source": [
    "def create_axis(transform, colour, size=0.2):\n",
    "    mesh = o3d.geometry.TriangleMesh.create_coordinate_frame(size=size, origin=np.array([0.0,0.0,0.0]))\n",
    "    mesh.paint_uniform_color(colour)\n",
    "    mesh.transform(transform)\n",
    "    return mesh"
   ]
  },
  {
   "cell_type": "code",
   "execution_count": null,
   "metadata": {},
   "outputs": [],
   "source": [
    "true_poses = [create_axis(np_exp(x), [0,1,0]) for x in poses]\n",
    "start_poses = [create_axis(np_exp(x), [1,0,0]) for x in disturbed_poses]\n",
    "end_poses = [create_axis(np_exp(x), [0,0,1], 0.3) for x in new_poses]\n",
    "\n",
    "# o3d.visualization.draw_geometries([x for x in chain(start_poses, true_poses, end_poses)])"
   ]
  },
  {
   "cell_type": "code",
   "execution_count": null,
   "metadata": {},
   "outputs": [
    {
     "name": "stdout",
     "output_type": "stream",
     "text": [
      "[[-0.9754  0.1219  0.1839]\n",
      " [-0.2206 -0.539  -0.8129]\n",
      " [ 0.     -0.8334  0.5527]]\n",
      "[-0.9754 -0.2206  0.    ] [ 0.1219 -0.539  -0.8334] [ 0.1839 -0.8129  0.5527]\n",
      "[[-0.3358  0.8739  0.3515]\n",
      " [-0.9419 -0.3116 -0.1253]\n",
      " [ 0.     -0.3731  0.9278]]\n",
      "[-0.3358 -0.9419  0.    ] [ 0.8739 -0.3116 -0.3731] [ 0.3515 -0.1253  0.9278]\n",
      "[[ 0.9679  0.1241  0.2185]\n",
      " [-0.2512  0.478   0.8417]\n",
      " [ 0.     -0.8696  0.4938]]\n",
      "[ 0.9679 -0.2512  0.    ] [ 0.1241  0.478  -0.8696] [ 0.2185  0.8417  0.4938]\n"
     ]
    }
   ],
   "source": [
    "def create_error(start, error, colour, radius=0.005, resolution=20):\n",
    "    end = start@error\n",
    "    # Extract translation vectors from the matrices\n",
    "    start_translation = np.array(start[:3, 3])\n",
    "    end_translation = np.array(end[:3, 3])\n",
    "\n",
    "    # Calculate the height of the cylinder\n",
    "    height = np.linalg.norm(end_translation - start_translation)\n",
    "\n",
    "    # Create a cylinder\n",
    "    cylinder = o3d.geometry.TriangleMesh.create_cylinder(radius=radius, height=height, resolution=resolution)\n",
    "\n",
    "    # Calculate the rotation matrix to align the cylinder with the direction from start to end\n",
    "    z = [0,0,1]\n",
    "    direction = end_translation - start_translation\n",
    "    dz = direction/np.linalg.norm(direction)\n",
    "    dx = np.cross(dz, z)/np.linalg.norm(np.cross(dz, z))\n",
    "    dy = np.cross(dz, dx)/np.linalg.norm(np.cross(dz, dx))\n",
    "\n",
    "    rotation_matrix = np.vstack([dx,dy,dz]).T\n",
    "    print(rotation_matrix)\n",
    "    print(dx, dy, dz)\n",
    "\n",
    "    # Apply the rotation and translation to the cylinder\n",
    "    cylinder.translate(np.array([0, 0, height/2]))\n",
    "    cylinder.rotate(rotation_matrix, center=(0,0,0))\n",
    "    cylinder.translate(start_translation)\n",
    "    cylinder.paint_uniform_color(colour)\n",
    "\n",
    "    return cylinder\n",
    "\n",
    "errors = [create_error(np_exp(poses[i]), np_exp(Zij), [0.7,0.7,0.7]) for (i, j), Zij in measurements.items()]\n",
    "\n",
    "o3d.visualization.draw_geometries([x for x in chain(errors, start_poses, true_poses, end_poses, [create_axis(np.eye(4), [0,0,0])])])"
   ]
  }
 ],
 "metadata": {
  "kernelspec": {
   "display_name": "computer_vision",
   "language": "python",
   "name": "python3"
  },
  "language_info": {
   "codemirror_mode": {
    "name": "ipython",
    "version": 3
   },
   "file_extension": ".py",
   "mimetype": "text/x-python",
   "name": "python",
   "nbconvert_exporter": "python",
   "pygments_lexer": "ipython3",
   "version": "3.10.0"
  }
 },
 "nbformat": 4,
 "nbformat_minor": 2
}

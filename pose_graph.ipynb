{
 "cells": [
  {
   "cell_type": "code",
   "execution_count": 52,
   "metadata": {},
   "outputs": [],
   "source": [
    "import numpy as np\n",
    "from matplotlib import pyplot as plt\n",
    "import seaborn as sns\n",
    "from itertools import combinations\n",
    "from scipy.linalg import cho_solve, cho_factor"
   ]
  },
  {
   "cell_type": "markdown",
   "metadata": {},
   "source": [
    "## Useful functions from pose_graph_jacobian.ipynb\n",
    "Just functions for `Exp` and `Log` maps, `cross` product matrix function and calculation of the jacobian"
   ]
  },
  {
   "cell_type": "code",
   "execution_count": 53,
   "metadata": {},
   "outputs": [],
   "source": [
    "def np_cross(x):\n",
    "    return np.array([\n",
    "        [0,-x[2],x[1]],\n",
    "        [x[2],0,-x[0]],\n",
    "        [-x[1],x[0],0]\n",
    "    ])\n",
    "\n",
    "def np_exp(x):\n",
    "    theta = np.linalg.norm(x[3:])\n",
    "    if theta == 0:\n",
    "        R = np.eye(3)\n",
    "        t = x[:3]\n",
    "    else:\n",
    "        a = np.sin(theta)/theta\n",
    "        b = (1 - np.cos(theta))/(theta*theta)\n",
    "        c = (theta - np.sin(theta))/(theta**3)\n",
    "        w = np_cross(x[3:])\n",
    "        R = np.eye(3) + a*w + b*w@w\n",
    "\n",
    "        t = (np.eye(3) + b*w + c*w@w)@x[:3]\n",
    "    \n",
    "    mat = np.eye(4)\n",
    "    mat[:3, :3] = R\n",
    "    mat[:3, 3] = t\n",
    "\n",
    "    return mat\n",
    "\n",
    "def np_log(T):\n",
    "    theta = np.arccos((np.trace(T) - 2) / 2)\n",
    "    # theta = np.arccos((T[0, 0] + T[1, 1] + T[2, 2] - 1) / 2)\n",
    "\n",
    "    if theta == 0:\n",
    "        return T[0, 3], T[1, 3], T[2, 3], 0, 0, 0\n",
    "\n",
    "    a = np.sin(theta)/theta\n",
    "    b = (1 - np.cos(theta))/(theta*theta)\n",
    "\n",
    "    x4 = 1/(2*a)*(T[2, 1] - T[1, 2])\n",
    "    x5 = 1/(2*a)*(T[0, 2] - T[2, 0])\n",
    "    x6 = 1/(2*a)*(T[1, 0] - T[0, 1])\n",
    "    \n",
    "    w = np_cross(np.array([x4,x5,x6]))\n",
    "    u = (np.eye(3) - 1/2*w + 1/(theta**2)*(1 - a/(2*b))*w@w)@T[:3, 3]\n",
    "\n",
    "    return u[0], u[1], u[2], x4, x5, x6"
   ]
  },
  {
   "cell_type": "code",
   "execution_count": 54,
   "metadata": {},
   "outputs": [],
   "source": [
    "def np_adjoint(X):\n",
    "    \"\"\"X is a 4x4 matrix not a 6 Vector\"\"\"\n",
    "    mat = np.zeros((6,6))\n",
    "    mat[:3,:3] = X[:3,:3]\n",
    "    mat[3:,3:] = X[:3,:3]\n",
    "    mat[:3,3:] = np_cross(X[:3,3])@X[:3,:3]\n",
    "\n",
    "    return mat.T\n",
    "\n",
    "def np_error(Z, Xi, Xj):\n",
    "    return np_log(np.linalg.inv(np_exp(Z))@np.linalg.inv(np_exp(Xi))@np_exp(Xj))\n",
    "\n",
    "def np_exp_error(Z, Xi, Xj):\n",
    "    return np.linalg.inv(np_exp(Z))@np.linalg.inv(np_exp(Xi))@np_exp(Xj)"
   ]
  },
  {
   "cell_type": "code",
   "execution_count": 55,
   "metadata": {},
   "outputs": [],
   "source": [
    "def box_plus(a, b):\n",
    "    return np_log(np_exp(a)@np_exp(b))\n",
    "\n",
    "def box_minus(a, b):\n",
    "    return np_log(np.linalg.inv(np_exp(b))@np_exp(a))"
   ]
  },
  {
   "cell_type": "code",
   "execution_count": 56,
   "metadata": {},
   "outputs": [],
   "source": [
    "def Je_analytic_Xi(Z, Xi, Xj):\n",
    "    eXi, eXj = np_exp(Xi), np_exp(Xj)\n",
    "    A = np.zeros((6,6))\n",
    "    A[:3,:3] = (eXj[:3,:3]).T\n",
    "    A[3:,3:] = (eXj[:3,:3]).T\n",
    "    A[:3,3:] = -(eXj[:3,:3]).T@np_cross(eXj[:3,3])\n",
    "\n",
    "    B = np.zeros_like(A)\n",
    "    B[:3, :3] = eXi[:3,:3]\n",
    "    B[3:,3:] = eXi[:3,:3]\n",
    "    B[:3,3:] = np_cross(eXi[:3, 3])@eXi[:3,:3]\n",
    "\n",
    "    return -(A@B).T\n",
    "\n",
    "def Je_analytic_Xj(Z, Xi, Xj):\n",
    "    return np.eye(6)"
   ]
  },
  {
   "cell_type": "markdown",
   "metadata": {},
   "source": [
    "## Setting up the pose graph problem\n",
    "The plan here is to define a pose graph problem that is simple to solve and has a known correct solution - i.e. I can check that I'm converging on the right spot. To start with I think I'm going to go with 3 fully connected poses. I then calculate the correct measurements between them as my measurements, and set the information matrices to something reasonable. After that, displace the points and use these new points as my starting off point for the optimisation - if it correctly comes back to the original position then I'll know I've done something right and can move onto progressively harder problems."
   ]
  },
  {
   "cell_type": "code",
   "execution_count": 57,
   "metadata": {},
   "outputs": [],
   "source": [
    "poses = [(np.random.random(6) - 0.5)*2 for _ in range(3)]\n",
    "measurements = {(i,j):np_log(np.linalg.inv(np_exp(poses[i]))@np_exp(poses[j])) for (i, j) in combinations(range(3), 2)}\n",
    "\n",
    "eps = 0.05\n",
    "disturbed_poses = [p + (np.random.normal(0, eps, 6) - 0.5) for p in poses]\n",
    "\n",
    "infos = {k:np.linalg.inv(np.eye(6)*0.05) for k in measurements.keys()}"
   ]
  },
  {
   "cell_type": "markdown",
   "metadata": {},
   "source": [
    "Now that we have our poses, measurements and information matrices its time to get on with writing the actual optimisation code. We're going to use Gauss-Newton I think so the update rule is going to look like this:\n",
    "\n",
    "$$\\Delta x = (J^TJ)^{-1}J^Tr$$"
   ]
  },
  {
   "cell_type": "code",
   "execution_count": 58,
   "metadata": {},
   "outputs": [
    {
     "data": {
      "text/plain": [
       "((18, 18), (18,))"
      ]
     },
     "execution_count": 58,
     "metadata": {},
     "output_type": "execute_result"
    }
   ],
   "source": [
    "def make_parts(poses, measurements, infos):\n",
    "    H = np.zeros((6*len(poses), 6*len(poses)))\n",
    "    b = np.zeros(6*len(poses))\n",
    "\n",
    "    H[:6, :6] += np.eye(6)\n",
    "\n",
    "    for (i, j), Zij in measurements.items():\n",
    "        Xi, Xj = poses[i], poses[j]\n",
    "        omega = infos[(i, j)]\n",
    "\n",
    "        e = np_error(Zij, Xi, Xj)\n",
    "        A = Je_analytic_Xi(Zij, Xi, Xj)\n",
    "        B = Je_analytic_Xj(Zij, Xi, Xj)\n",
    "\n",
    "        H[i:i+6, i:i+6] += A.T@omega@A\n",
    "        H[i:i+6, j:j+6] += A.T@omega@B\n",
    "        H[j:j+6, i:i+6] += B.T@omega@A\n",
    "        H[j:j+6, j:j+6] += B.T@omega@B\n",
    "\n",
    "        b[i:i+6] += A.T@omega@e\n",
    "        b[j:j+6] += B.T@omega@e\n",
    "\n",
    "    return H, b\n",
    "\n",
    "H, b = make_parts(disturbed_poses, measurements, infos)\n",
    "\n",
    "H.shape, b.shape\n"
   ]
  },
  {
   "cell_type": "code",
   "execution_count": 59,
   "metadata": {},
   "outputs": [
    {
     "ename": "LinAlgError",
     "evalue": "9-th leading minor of the array is not positive definite",
     "output_type": "error",
     "traceback": [
      "\u001b[0;31m---------------------------------------------------------------------------\u001b[0m",
      "\u001b[0;31mLinAlgError\u001b[0m                               Traceback (most recent call last)",
      "Cell \u001b[0;32mIn[59], line 5\u001b[0m\n\u001b[1;32m      3\u001b[0m \u001b[38;5;28;01mfor\u001b[39;00m i \u001b[38;5;129;01min\u001b[39;00m \u001b[38;5;28mrange\u001b[39m(\u001b[38;5;241m1\u001b[39m):\n\u001b[1;32m      4\u001b[0m     H, b \u001b[38;5;241m=\u001b[39m make_parts(new_poses, measurements, infos)\n\u001b[0;32m----> 5\u001b[0m     delta \u001b[38;5;241m=\u001b[39m cho_solve(\u001b[43mcho_factor\u001b[49m\u001b[43m(\u001b[49m\u001b[43mH\u001b[49m\u001b[43m)\u001b[49m, b)\n\u001b[1;32m      7\u001b[0m     pose_vector \u001b[38;5;241m=\u001b[39m np\u001b[38;5;241m.\u001b[39mconcatenate(new_poses)\n\u001b[1;32m      8\u001b[0m     \u001b[38;5;28;01mfor\u001b[39;00m i \u001b[38;5;129;01min\u001b[39;00m \u001b[38;5;28mrange\u001b[39m(\u001b[38;5;241m0\u001b[39m, pose_vector\u001b[38;5;241m.\u001b[39mshape[\u001b[38;5;241m0\u001b[39m], \u001b[38;5;241m6\u001b[39m):\n",
      "File \u001b[0;32m~/miniconda3/envs/3D_ML/lib/python3.10/site-packages/scipy/linalg/_decomp_cholesky.py:154\u001b[0m, in \u001b[0;36mcho_factor\u001b[0;34m(a, lower, overwrite_a, check_finite)\u001b[0m\n\u001b[1;32m     94\u001b[0m \u001b[38;5;28;01mdef\u001b[39;00m \u001b[38;5;21mcho_factor\u001b[39m(a, lower\u001b[38;5;241m=\u001b[39m\u001b[38;5;28;01mFalse\u001b[39;00m, overwrite_a\u001b[38;5;241m=\u001b[39m\u001b[38;5;28;01mFalse\u001b[39;00m, check_finite\u001b[38;5;241m=\u001b[39m\u001b[38;5;28;01mTrue\u001b[39;00m):\n\u001b[1;32m     95\u001b[0m \u001b[38;5;250m    \u001b[39m\u001b[38;5;124;03m\"\"\"\u001b[39;00m\n\u001b[1;32m     96\u001b[0m \u001b[38;5;124;03m    Compute the Cholesky decomposition of a matrix, to use in cho_solve\u001b[39;00m\n\u001b[1;32m     97\u001b[0m \n\u001b[0;32m   (...)\u001b[0m\n\u001b[1;32m    152\u001b[0m \n\u001b[1;32m    153\u001b[0m \u001b[38;5;124;03m    \"\"\"\u001b[39;00m\n\u001b[0;32m--> 154\u001b[0m     c, lower \u001b[38;5;241m=\u001b[39m \u001b[43m_cholesky\u001b[49m\u001b[43m(\u001b[49m\u001b[43ma\u001b[49m\u001b[43m,\u001b[49m\u001b[43m \u001b[49m\u001b[43mlower\u001b[49m\u001b[38;5;241;43m=\u001b[39;49m\u001b[43mlower\u001b[49m\u001b[43m,\u001b[49m\u001b[43m \u001b[49m\u001b[43moverwrite_a\u001b[49m\u001b[38;5;241;43m=\u001b[39;49m\u001b[43moverwrite_a\u001b[49m\u001b[43m,\u001b[49m\u001b[43m \u001b[49m\u001b[43mclean\u001b[49m\u001b[38;5;241;43m=\u001b[39;49m\u001b[38;5;28;43;01mFalse\u001b[39;49;00m\u001b[43m,\u001b[49m\n\u001b[1;32m    155\u001b[0m \u001b[43m                         \u001b[49m\u001b[43mcheck_finite\u001b[49m\u001b[38;5;241;43m=\u001b[39;49m\u001b[43mcheck_finite\u001b[49m\u001b[43m)\u001b[49m\n\u001b[1;32m    156\u001b[0m     \u001b[38;5;28;01mreturn\u001b[39;00m c, lower\n",
      "File \u001b[0;32m~/miniconda3/envs/3D_ML/lib/python3.10/site-packages/scipy/linalg/_decomp_cholesky.py:37\u001b[0m, in \u001b[0;36m_cholesky\u001b[0;34m(a, lower, overwrite_a, clean, check_finite)\u001b[0m\n\u001b[1;32m     35\u001b[0m c, info \u001b[38;5;241m=\u001b[39m potrf(a1, lower\u001b[38;5;241m=\u001b[39mlower, overwrite_a\u001b[38;5;241m=\u001b[39moverwrite_a, clean\u001b[38;5;241m=\u001b[39mclean)\n\u001b[1;32m     36\u001b[0m \u001b[38;5;28;01mif\u001b[39;00m info \u001b[38;5;241m>\u001b[39m \u001b[38;5;241m0\u001b[39m:\n\u001b[0;32m---> 37\u001b[0m     \u001b[38;5;28;01mraise\u001b[39;00m LinAlgError(\u001b[38;5;124m\"\u001b[39m\u001b[38;5;132;01m%d\u001b[39;00m\u001b[38;5;124m-th leading minor of the array is not positive \u001b[39m\u001b[38;5;124m\"\u001b[39m\n\u001b[1;32m     38\u001b[0m                       \u001b[38;5;124m\"\u001b[39m\u001b[38;5;124mdefinite\u001b[39m\u001b[38;5;124m\"\u001b[39m \u001b[38;5;241m%\u001b[39m info)\n\u001b[1;32m     39\u001b[0m \u001b[38;5;28;01mif\u001b[39;00m info \u001b[38;5;241m<\u001b[39m \u001b[38;5;241m0\u001b[39m:\n\u001b[1;32m     40\u001b[0m     \u001b[38;5;28;01mraise\u001b[39;00m \u001b[38;5;167;01mValueError\u001b[39;00m(\u001b[38;5;124m'\u001b[39m\u001b[38;5;124mLAPACK reported an illegal value in \u001b[39m\u001b[38;5;132;01m{}\u001b[39;00m\u001b[38;5;124m-th argument\u001b[39m\u001b[38;5;124m'\u001b[39m\n\u001b[1;32m     41\u001b[0m                      \u001b[38;5;124m'\u001b[39m\u001b[38;5;124mon entry to \u001b[39m\u001b[38;5;124m\"\u001b[39m\u001b[38;5;124mPOTRF\u001b[39m\u001b[38;5;124m\"\u001b[39m\u001b[38;5;124m.\u001b[39m\u001b[38;5;124m'\u001b[39m\u001b[38;5;241m.\u001b[39mformat(\u001b[38;5;241m-\u001b[39minfo))\n",
      "\u001b[0;31mLinAlgError\u001b[0m: 9-th leading minor of the array is not positive definite"
     ]
    }
   ],
   "source": [
    "new_poses = disturbed_poses[:]\n",
    "\n",
    "for i in range(1):\n",
    "    H, b = make_parts(new_poses, measurements, infos)\n",
    "    delta = cho_solve(cho_factor(H), b)\n",
    "\n",
    "    pose_vector = np.concatenate(new_poses)\n",
    "    for i in range(0, pose_vector.shape[0], 6):\n",
    "        print(i)\n",
    "    "
   ]
  }
 ],
 "metadata": {
  "language_info": {
   "name": "python"
  }
 },
 "nbformat": 4,
 "nbformat_minor": 2
}
